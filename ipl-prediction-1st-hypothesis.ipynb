{
 "cells": [
  {
   "cell_type": "markdown",
   "metadata": {},
   "source": [
    "My Hypothesis is that the winning team prediction depends on the players batting & bowling profile.\n",
    "\n",
    "In this notebook, I create player profile using 2 tables 1) Matches table 2) Deliveries table\n",
    "\n",
    "Matches table has match information from season 2008 upto season 2019 Deliveries table has ball to ball delivery information from season 2008 to season 2017\n",
    "\n",
    "So, I created player profile using deliveries information of season 2008 upto season 2016 and tried to validate my hypothesis on season 2017 matches.\n",
    "\n",
    "End Result : My hypothesis doesnt hold true when looked for 5 matches. So our hypothesis that the winning team prediction depends on player profile cannot be used to predict 2020 winners."
   ]
  },
  {
   "cell_type": "markdown",
   "metadata": {},
   "source": [
    "How I created batting profile\n",
    "\n",
    "1)Batsman name\n",
    "\n",
    "2)Batting_played - No of matches where a batsman played\n",
    "\n",
    "3)Player_dismissed(outs) - No. of matches where a batsman was out\n",
    "\n",
    "4)Total_runs(TR) - Total runs scored by a batsman in all the matches\n",
    "\n",
    "5)HS(Highest score) - Highest runs in a match by a batsman\n",
    "\n",
    "6)Ballsfaced(BF) - No. of balls faced\n",
    "\n",
    "7)4's - Count of 4's\n",
    "\n",
    "8)6's - Count of 6's\n",
    "\n",
    "9)Avg(TR/M):Total runs/matches\n",
    "\n",
    "10)SR(TR/BF): 100 * Total runs/Balls faced\n",
    "\n",
    "11)battingAVG(TR/outs):Total runs/Player dismissed\n",
    "\n",
    "12)runs_by_balls(R/B):Total runs/Balls faced = StrikeRate/100\n",
    "\n",
    "13)Calc - battingAVG * runs_by_balls\n",
    "\n",
    "\n",
    "How I created Bowling profile\n",
    "\n",
    "1)bowler name\n",
    "\n",
    "2)matches - No of matches bowled by a bowler\n",
    "\n",
    "3)BallsBowled - Total Balls Bowled by a bowler in all the matches\n",
    "\n",
    "4)wkts - Total No. of wickets taken by a bowler in all the matches\n",
    "\n",
    "5)Runs - Total No. of runs given by a bowler in all the matches\n",
    "\n",
    "6)Avg(TR/Wkts):Total runs/wickets taken\n",
    "\n",
    "7)bowling_sr(bb/wkts):Balls Bowled/wickets taken\n",
    "\n",
    "8)economy_rate(runs/bb):Runs given by bowler/Balls Bowled\n",
    "\n",
    "13)CombinedBowlingRate - 3/(1/Avg+1/bowling_sr+1/economy_rate)"
   ]
  },
  {
   "cell_type": "markdown",
   "metadata": {},
   "source": []
  },
  {
   "cell_type": "markdown",
   "metadata": {},
   "source": [
    " Match Id=1\n",
    " \n",
    " Summary of SRH vs RCB\n",
    "   \n",
    "    \n",
    "                      SRH     RCB\n",
    "               \n",
    "      Batting AVG     40.10   40.80\n",
    "\n",
    "      Bowling AVG     3.38    3.38\n",
    "\n",
    "lesser bowling avg means a better bowling team\n",
    "means 10-3.38=6.62\n",
    "\n",
    "Overall batting and bowling avg = 0.6 * batting avg  + 0.40 * bowling avg \n",
    "\n",
    "\n",
    "SRH=0.6*40.1+0.4*6.62=26.70\n",
    "\n",
    "RCB=0.6*40.8+0.4*6.62=27.12\n",
    "\n",
    "Acc to our hypothesis, RCB has more overall_winning_power \n",
    "but the actual winner is SRH, hence our hypothesis didnot hold true here\n",
    "\n"
   ]
  },
  {
   "cell_type": "markdown",
   "metadata": {},
   "source": [
    "Match Id=2\n",
    "\n",
    "Summary of MI vs RPS\n",
    "   \n",
    "    \n",
    "                   MI      RPS\n",
    "               \n",
    "    Batting AVG    40.9   42.2\n",
    "\n",
    "    Bowling AVG    3.75    3.40\n",
    "\n",
    "lesser bowling avg means a better bowling team\n",
    "\n",
    "means MI:10-3.75=6.25    RPS:10-3.40=6.60\n",
    "\n",
    "Overall batting and bowling avg = 0.6 * batting avg  + 0.40 * bowling avg \n",
    "\n",
    "\n",
    "MI=0.6*40.9+0.4*6.25=27.04\n",
    "\n",
    "RPs=0.6*42.2+0.4*6.60=27.96\n",
    "\n",
    "Acc to our hypothesis, RPS has more overall_winning_power \n",
    "and the actual winner is RPS, hence our hypothesis hold true here\n"
   ]
  },
  {
   "cell_type": "markdown",
   "metadata": {},
   "source": [
    "Match Id=3\n",
    "\n",
    "Summary of GL vs KKR\n",
    "\n",
    "                   GL      KKR\n",
    "\n",
    "    Batting AVG    39.47   33.98\n",
    "\n",
    "    Bowling AVG    3.63    3.30\n",
    "\n",
    "lesser bowling avg means a better bowling team\n",
    "\n",
    "means GL:10-3.63=6.37 KKR:10-3.30=6.70\n",
    "\n",
    "Overall batting and bowling avg = 0.6 * batting avg + 0.40 * bowling avg\n",
    "\n",
    "GL=0.6*39.47+0.4*6.37=26.236\n",
    "\n",
    "KKR=0.6*33.98+0.4*3.6.70=21.856\n",
    "\n",
    "Acc to our hypothesis, GL has more overall_winning_power but the actual winner is KKR, hence our hypothesis didnot hold true here\n"
   ]
  },
  {
   "cell_type": "markdown",
   "metadata": {},
   "source": [
    "Match Id=4\n",
    "\n",
    "Summary of RPS vs KXIP\n",
    "\n",
    "                    RPS      KXIP\n",
    "\n",
    "    Batting AVG    37.77   37.28\n",
    "\n",
    "    Bowling AVG    3.51    3.73\n",
    "\n",
    "lesser bowling avg means a better bowling team\n",
    "\n",
    "means RPS:10-3.51=6.49 KKR:10-3.73=6.27\n",
    "\n",
    "Overall batting and bowling avg = 0.6 * batting avg + 0.40 * bowling avg\n",
    "\n",
    "RPS=0.6*37.77+0.4*6.49=25.258\n",
    "\n",
    "KXIP=0.6*37.28+0.4*6.27=24.876\n",
    "\n",
    "Acc to our hypothesis, RPS has more overall_winning_power but the actual winner is KXIP, hence our hypothesis didnot hold true here"
   ]
  },
  {
   "cell_type": "markdown",
   "metadata": {},
   "source": [
    "Match Id=5\n",
    "\n",
    "Summary of RCB vs DD\n",
    "\n",
    "                    RCB      DD\n",
    "\n",
    "    Batting AVG    49.26   25.42\n",
    "\n",
    "    Bowling AVG    3.44    3.46\n",
    "\n",
    "lesser bowling avg means a better bowling team\n",
    "\n",
    "means RCB:10-3.44=6.56 DD:10-3.46=6.54\n",
    "\n",
    "Overall batting and bowling avg = 0.6 * batting avg + 0.40 * bowling avg\n",
    "\n",
    "RCB=0.6*49.26+0.4*6.56=32.18\n",
    "\n",
    "DD=0.6*25.42+0.4*6.54=16.636\n",
    "\n",
    "Acc to our hypothesis, RCB has more overall_winning_power and the actual winner is RCB, hence our hypothesis  hold true here\n"
   ]
  },
  {
   "cell_type": "markdown",
   "metadata": {},
   "source": [
    "Key Points from the analysis\n",
    "\n",
    "1) New players - there wont be a profile of a player if he didnot play in any season \n",
    "\n",
    "2) Players whose dismissal is equal to 0 i.e who where not out in the game will have infinite in 'Calc' column.When further looked into such players profile they turn out to be bowlers or batsman whose batting order is 10th or 11th position.So we excluded such players while calculating the batting order of a team"
   ]
  },
  {
   "cell_type": "markdown",
   "metadata": {},
   "source": [
    "Import Libraries"
   ]
  },
  {
   "cell_type": "code",
   "execution_count": 1,
   "metadata": {
    "_cell_guid": "79c7e3d0-c299-4dcb-8224-4455121ee9b0",
    "_uuid": "d629ff2d2480ee46fbb7e2d37f6b5fab8052498a"
   },
   "outputs": [],
   "source": [
    "import numpy as np\n",
    "import pandas as pd\n",
    "import matplotlib.pyplot as plt\n",
    "import seaborn as sns"
   ]
  },
  {
   "cell_type": "markdown",
   "metadata": {},
   "source": [
    "load the datasets"
   ]
  },
  {
   "cell_type": "code",
   "execution_count": 2,
   "metadata": {},
   "outputs": [],
   "source": [
    "matches= pd.read_csv('matches.csv')\n",
    "deliveries=pd.read_csv('deliveries.csv')"
   ]
  },
  {
   "cell_type": "markdown",
   "metadata": {},
   "source": [
    "deleting SEASON_2017,SEASON_2018,SEASON_2019 deliveries information in deliveries table."
   ]
  },
  {
   "cell_type": "code",
   "execution_count": 3,
   "metadata": {},
   "outputs": [
    {
     "data": {
      "text/plain": [
       "array([    1,     2,     3,     4,     5,     6,     7,     8,     9,\n",
       "          10,    11,    12,    13,    14,    15,    16,    17,    18,\n",
       "          19,    20,    21,    22,    23,    24,    25,    26,    27,\n",
       "          28,    29,    30,    31,    32,    33,    34,    35,    36,\n",
       "          37,    38,    39,    40,    41,    42,    43,    44,    45,\n",
       "          46,    47,    48,    49,    50,    51,    52,    53,    54,\n",
       "          55,    56,    57,    58,    59,  7894,  7895,  7896,  7897,\n",
       "        7898,  7899,  7900,  7901,  7902,  7903,  7904,  7905,  7906,\n",
       "        7907,  7908,  7909,  7910,  7911,  7912,  7913,  7914,  7915,\n",
       "        7916,  7917,  7918,  7919,  7920,  7921,  7922,  7923,  7924,\n",
       "        7925,  7926,  7927,  7928,  7929,  7930,  7931,  7932,  7933,\n",
       "        7934,  7935,  7936,  7937,  7938,  7939,  7940,  7941,  7942,\n",
       "        7943,  7944,  7945,  7946,  7947,  7948,  7949,  7950,  7951,\n",
       "        7952,  7953, 11137, 11138, 11139, 11140, 11141, 11142, 11143,\n",
       "       11144, 11145, 11146, 11147, 11148, 11149, 11150, 11151, 11152,\n",
       "       11153, 11309, 11310, 11311, 11312, 11313, 11314, 11315, 11316,\n",
       "       11317, 11318, 11319, 11320, 11321, 11322, 11323, 11324, 11325,\n",
       "       11326, 11327, 11328, 11329, 11330, 11331, 11332, 11333, 11334,\n",
       "       11335, 11336, 11337, 11338, 11339, 11340, 11341, 11342, 11343,\n",
       "       11344, 11345, 11346, 11347, 11412, 11413, 11414, 11415])"
      ]
     },
     "execution_count": 3,
     "metadata": {},
     "output_type": "execute_result"
    }
   ],
   "source": [
    "matches[matches['season'].isin([2017,2018,2019])]['id'].unique()"
   ]
  },
  {
   "cell_type": "code",
   "execution_count": 4,
   "metadata": {},
   "outputs": [
    {
     "data": {
      "text/plain": [
       "(179078, 21)"
      ]
     },
     "execution_count": 4,
     "metadata": {},
     "output_type": "execute_result"
    }
   ],
   "source": [
    "deliveries.shape"
   ]
  },
  {
   "cell_type": "code",
   "execution_count": 5,
   "metadata": {},
   "outputs": [
    {
     "data": {
      "text/plain": [
       "Int64Index([     0,      1,      2,      3,      4,      5,      6,      7,\n",
       "                 8,      9,\n",
       "            ...\n",
       "            179068, 179069, 179070, 179071, 179072, 179073, 179074, 179075,\n",
       "            179076, 179077],\n",
       "           dtype='int64', length=42480)"
      ]
     },
     "execution_count": 5,
     "metadata": {},
     "output_type": "execute_result"
    }
   ],
   "source": [
    "a_2017_2018_2019=deliveries[deliveries['match_id'].isin([ 1,     2,     3,     4,     5,     6,     7,     8,     9,\n",
    "          10,    11,    12,    13,    14,    15,    16,    17,    18,\n",
    "          19,    20,    21,    22,    23,    24,    25,    26,    27,\n",
    "          28,    29,    30,    31,    32,    33,    34,    35,    36,\n",
    "          37,    38,    39,    40,    41,    42,    43,    44,    45,\n",
    "          46,    47,    48,    49,    50,    51,    52,    53,    54,\n",
    "          55,    56,    57,    58,    59,  7894,  7895,  7896,  7897,\n",
    "        7898,  7899,  7900,  7901,  7902,  7903,  7904,  7905,  7906,\n",
    "        7907,  7908,  7909,  7910,  7911,  7912,  7913,  7914,  7915,\n",
    "        7916,  7917,  7918,  7919,  7920,  7921,  7922,  7923,  7924,\n",
    "        7925,  7926,  7927,  7928,  7929,  7930,  7931,  7932,  7933,\n",
    "        7934,  7935,  7936,  7937,  7938,  7939,  7940,  7941,  7942,\n",
    "        7943,  7944,  7945,  7946,  7947,  7948,  7949,  7950,  7951,\n",
    "        7952,  7953, 11137, 11138, 11139, 11140, 11141, 11142, 11143,\n",
    "       11144, 11145, 11146, 11147, 11148, 11149, 11150, 11151, 11152,\n",
    "       11153, 11309, 11310, 11311, 11312, 11313, 11314, 11315, 11316,\n",
    "       11317, 11318, 11319, 11320, 11321, 11322, 11323, 11324, 11325,\n",
    "       11326, 11327, 11328, 11329, 11330, 11331, 11332, 11333, 11334,\n",
    "       11335, 11336, 11337, 11338, 11339, 11340, 11341, 11342, 11343,\n",
    "       11344, 11345, 11346, 11347, 11412, 11413, 11414, 11415])].index\n",
    "a_2017_2018_2019"
   ]
  },
  {
   "cell_type": "code",
   "execution_count": 6,
   "metadata": {},
   "outputs": [
    {
     "data": {
      "text/plain": [
       "(136598, 21)"
      ]
     },
     "execution_count": 6,
     "metadata": {},
     "output_type": "execute_result"
    }
   ],
   "source": [
    "deliveries.drop(a_2017_2018_2019,inplace=True)\n",
    "deliveries.shape"
   ]
  },
  {
   "cell_type": "markdown",
   "metadata": {},
   "source": [
    "creating the number of matches column"
   ]
  },
  {
   "cell_type": "code",
   "execution_count": 7,
   "metadata": {},
   "outputs": [],
   "source": [
    "batsman=deliveries[['batsman','match_id']].groupby(['batsman']).agg('nunique')\n",
    "batsman['id']=batsman.index\n",
    "batsman.reset_index(drop=True,inplace=True)\n",
    "batsman=batsman.rename(columns={'match_id':'matches','id':'batsman'})\n",
    "batsman=batsman[['batsman','matches']]"
   ]
  },
  {
   "cell_type": "markdown",
   "metadata": {},
   "source": [
    "creating total runs columns scored by the each player"
   ]
  },
  {
   "cell_type": "code",
   "execution_count": 9,
   "metadata": {},
   "outputs": [],
   "source": [
    "batsman_total_runs=deliveries[['batsman','total_runs']].groupby(['batsman']).agg('sum')\n",
    "batsman_total_runs['id']=batsman_total_runs.index\n",
    "batsman_total_runs.reset_index(drop=True,inplace=True)\n",
    "batsman['total_runs']=batsman_total_runs['total_runs']"
   ]
  },
  {
   "cell_type": "markdown",
   "metadata": {},
   "source": [
    "creating Highest individual column scored by the each player"
   ]
  },
  {
   "cell_type": "code",
   "execution_count": 10,
   "metadata": {},
   "outputs": [],
   "source": [
    "batsman_high_score=deliveries[['batsman','match_id','total_runs']].groupby(['batsman','match_id']).agg('sum').groupby(['batsman']).agg('max')\n",
    "batsman_high_score['id']=batsman_high_score.index\n",
    "batsman_high_score.reset_index(drop=True,inplace=True)\n",
    "batsman_high_score=batsman_high_score.rename(columns={'total_runs':'HS','id':'batsman'})\n",
    "batsman['HS']=batsman_high_score['HS']"
   ]
  },
  {
   "cell_type": "markdown",
   "metadata": {},
   "source": [
    "creating number of balls column faced by the each player"
   ]
  },
  {
   "cell_type": "code",
   "execution_count": 11,
   "metadata": {},
   "outputs": [],
   "source": [
    "batsman_balls_faced=deliveries[['batsman','total_runs']].groupby(['batsman']).agg('count')\n",
    "batsman_balls_faced['id']=batsman_balls_faced.index\n",
    "batsman_balls_faced.reset_index(drop=True,inplace=True)\n",
    "batsman_balls_faced=batsman_balls_faced.rename(columns={'total_runs':'ballsfaced','id':'batsman'})\n",
    "batsman['ballsfaced']=batsman_balls_faced['ballsfaced']"
   ]
  },
  {
   "cell_type": "markdown",
   "metadata": {},
   "source": [
    "creating number of 4's count column of the each batsman"
   ]
  },
  {
   "cell_type": "code",
   "execution_count": 12,
   "metadata": {},
   "outputs": [],
   "source": [
    "batsman_4s=deliveries[deliveries['total_runs']==4][['batsman','total_runs']].groupby(['batsman']).agg('count')\n",
    "batsman_4s['id']=batsman_4s.index\n",
    "batsman_4s.reset_index(drop=True,inplace=True)\n",
    "batsman_4s=batsman_4s.rename(columns={'total_runs':\"4's\",'id':'batsman'})\n",
    "batsman=pd.merge(batsman,batsman_4s,how='left',on='batsman')"
   ]
  },
  {
   "cell_type": "markdown",
   "metadata": {},
   "source": [
    "creating number of 6's count column of the each batsman"
   ]
  },
  {
   "cell_type": "code",
   "execution_count": 13,
   "metadata": {},
   "outputs": [],
   "source": [
    "batsman_6s=deliveries[deliveries['total_runs']==6][['batsman','total_runs']].groupby(['batsman']).agg('count')\n",
    "batsman_6s['id']=batsman_6s.index\n",
    "batsman_6s.reset_index(drop=True,inplace=True)\n",
    "batsman_6s=batsman_6s.rename(columns={'total_runs':\"6's\",'id':'batsman'})\n",
    "batsman=pd.merge(batsman,batsman_6s,how='left',on='batsman')"
   ]
  },
  {
   "cell_type": "markdown",
   "metadata": {},
   "source": [
    "filling the Null values and converting the data type"
   ]
  },
  {
   "cell_type": "code",
   "execution_count": 14,
   "metadata": {},
   "outputs": [],
   "source": [
    "batsman[[\"4's\",\"6's\"]]=batsman[[\"4's\",\"6's\"]].fillna(0)\n",
    "batsman[\"4's\"]=batsman[\"4's\"].astype(int)\n",
    "batsman[\"6's\"]=batsman[\"6's\"].astype(int)"
   ]
  },
  {
   "cell_type": "markdown",
   "metadata": {},
   "source": [
    "creating the Average and Strike Rate column of the each batsman"
   ]
  },
  {
   "cell_type": "code",
   "execution_count": 15,
   "metadata": {},
   "outputs": [],
   "source": [
    "batsman['Avg(TR/M)']=batsman['total_runs']/batsman['matches']\n",
    "batsman['SR(TR/BF)']=(batsman['total_runs']/batsman['ballsfaced'])*100"
   ]
  },
  {
   "cell_type": "markdown",
   "metadata": {},
   "source": [
    "creating player dismissed count column of each batsman . Then arranging the columns"
   ]
  },
  {
   "cell_type": "code",
   "execution_count": 16,
   "metadata": {},
   "outputs": [],
   "source": [
    "player_dismissed_entire_record=deliveries[['batsman','player_dismissed']].groupby(['batsman']).count()\n",
    "player_dismissed_entire_record['batsman']=player_dismissed_entire_record.index\n",
    "player_dismissed_entire_record.reset_index(drop=True,inplace=True)\n",
    "batsman1=pd.merge(batsman,player_dismissed_entire_record,how='left',on='batsman')\n",
    "batsman1=batsman1.rename(columns={'matches':'batting_played'})\n",
    "batsman1=batsman1[['batsman','batting_played','player_dismissed', 'total_runs', 'HS', 'ballsfaced', \"4's\",\n",
    "       \"6's\", 'Avg(TR/M)','SR(TR/BF)', ]]"
   ]
  },
  {
   "cell_type": "markdown",
   "metadata": {},
   "source": [
    "creating 'Calc'column where 'calc' is batsman average*batsman Strike rate"
   ]
  },
  {
   "cell_type": "code",
   "execution_count": 17,
   "metadata": {},
   "outputs": [],
   "source": [
    "batsman1['battingAVG(tr/outs)']=batsman1['total_runs']/batsman1['player_dismissed']\n",
    "batsman1['runs_by_balls(R/B)']=batsman1['total_runs']/batsman1['ballsfaced']\n",
    "batsman1['Calc']=batsman1['battingAVG(tr/outs)']*batsman1['runs_by_balls(R/B)']"
   ]
  },
  {
   "cell_type": "code",
   "execution_count": 18,
   "metadata": {},
   "outputs": [
    {
     "data": {
      "text/html": [
       "<div>\n",
       "<style scoped>\n",
       "    .dataframe tbody tr th:only-of-type {\n",
       "        vertical-align: middle;\n",
       "    }\n",
       "\n",
       "    .dataframe tbody tr th {\n",
       "        vertical-align: top;\n",
       "    }\n",
       "\n",
       "    .dataframe thead th {\n",
       "        text-align: right;\n",
       "    }\n",
       "</style>\n",
       "<table border=\"1\" class=\"dataframe\">\n",
       "  <thead>\n",
       "    <tr style=\"text-align: right;\">\n",
       "      <th></th>\n",
       "      <th>batsman</th>\n",
       "      <th>batting_played</th>\n",
       "      <th>player_dismissed</th>\n",
       "      <th>total_runs</th>\n",
       "      <th>HS</th>\n",
       "      <th>ballsfaced</th>\n",
       "      <th>4's</th>\n",
       "      <th>6's</th>\n",
       "      <th>Avg(TR/M)</th>\n",
       "      <th>SR(TR/BF)</th>\n",
       "      <th>battingAVG(tr/outs)</th>\n",
       "      <th>runs_by_balls(R/B)</th>\n",
       "      <th>Calc</th>\n",
       "    </tr>\n",
       "  </thead>\n",
       "  <tbody>\n",
       "    <tr>\n",
       "      <th>0</th>\n",
       "      <td>A Ashish Reddy</td>\n",
       "      <td>23</td>\n",
       "      <td>15</td>\n",
       "      <td>288</td>\n",
       "      <td>36</td>\n",
       "      <td>196</td>\n",
       "      <td>17</td>\n",
       "      <td>15</td>\n",
       "      <td>12.521739</td>\n",
       "      <td>146.938776</td>\n",
       "      <td>19.200000</td>\n",
       "      <td>1.469388</td>\n",
       "      <td>28.212245</td>\n",
       "    </tr>\n",
       "    <tr>\n",
       "      <th>1</th>\n",
       "      <td>A Chandila</td>\n",
       "      <td>2</td>\n",
       "      <td>1</td>\n",
       "      <td>4</td>\n",
       "      <td>4</td>\n",
       "      <td>7</td>\n",
       "      <td>0</td>\n",
       "      <td>0</td>\n",
       "      <td>2.000000</td>\n",
       "      <td>57.142857</td>\n",
       "      <td>4.000000</td>\n",
       "      <td>0.571429</td>\n",
       "      <td>2.285714</td>\n",
       "    </tr>\n",
       "    <tr>\n",
       "      <th>2</th>\n",
       "      <td>A Chopra</td>\n",
       "      <td>6</td>\n",
       "      <td>5</td>\n",
       "      <td>58</td>\n",
       "      <td>26</td>\n",
       "      <td>75</td>\n",
       "      <td>7</td>\n",
       "      <td>0</td>\n",
       "      <td>9.666667</td>\n",
       "      <td>77.333333</td>\n",
       "      <td>11.600000</td>\n",
       "      <td>0.773333</td>\n",
       "      <td>8.970667</td>\n",
       "    </tr>\n",
       "    <tr>\n",
       "      <th>3</th>\n",
       "      <td>A Flintoff</td>\n",
       "      <td>3</td>\n",
       "      <td>2</td>\n",
       "      <td>72</td>\n",
       "      <td>32</td>\n",
       "      <td>57</td>\n",
       "      <td>6</td>\n",
       "      <td>2</td>\n",
       "      <td>24.000000</td>\n",
       "      <td>126.315789</td>\n",
       "      <td>36.000000</td>\n",
       "      <td>1.263158</td>\n",
       "      <td>45.473684</td>\n",
       "    </tr>\n",
       "    <tr>\n",
       "      <th>4</th>\n",
       "      <td>A Kumble</td>\n",
       "      <td>15</td>\n",
       "      <td>2</td>\n",
       "      <td>42</td>\n",
       "      <td>8</td>\n",
       "      <td>49</td>\n",
       "      <td>4</td>\n",
       "      <td>0</td>\n",
       "      <td>2.800000</td>\n",
       "      <td>85.714286</td>\n",
       "      <td>21.000000</td>\n",
       "      <td>0.857143</td>\n",
       "      <td>18.000000</td>\n",
       "    </tr>\n",
       "    <tr>\n",
       "      <th>...</th>\n",
       "      <td>...</td>\n",
       "      <td>...</td>\n",
       "      <td>...</td>\n",
       "      <td>...</td>\n",
       "      <td>...</td>\n",
       "      <td>...</td>\n",
       "      <td>...</td>\n",
       "      <td>...</td>\n",
       "      <td>...</td>\n",
       "      <td>...</td>\n",
       "      <td>...</td>\n",
       "      <td>...</td>\n",
       "      <td>...</td>\n",
       "    </tr>\n",
       "    <tr>\n",
       "      <th>430</th>\n",
       "      <td>YV Takawale</td>\n",
       "      <td>10</td>\n",
       "      <td>8</td>\n",
       "      <td>207</td>\n",
       "      <td>47</td>\n",
       "      <td>183</td>\n",
       "      <td>27</td>\n",
       "      <td>3</td>\n",
       "      <td>20.700000</td>\n",
       "      <td>113.114754</td>\n",
       "      <td>25.875000</td>\n",
       "      <td>1.131148</td>\n",
       "      <td>29.268443</td>\n",
       "    </tr>\n",
       "    <tr>\n",
       "      <th>431</th>\n",
       "      <td>Yashpal Singh</td>\n",
       "      <td>4</td>\n",
       "      <td>4</td>\n",
       "      <td>49</td>\n",
       "      <td>20</td>\n",
       "      <td>67</td>\n",
       "      <td>5</td>\n",
       "      <td>0</td>\n",
       "      <td>12.250000</td>\n",
       "      <td>73.134328</td>\n",
       "      <td>12.250000</td>\n",
       "      <td>0.731343</td>\n",
       "      <td>8.958955</td>\n",
       "    </tr>\n",
       "    <tr>\n",
       "      <th>432</th>\n",
       "      <td>Younis Khan</td>\n",
       "      <td>1</td>\n",
       "      <td>1</td>\n",
       "      <td>3</td>\n",
       "      <td>3</td>\n",
       "      <td>7</td>\n",
       "      <td>0</td>\n",
       "      <td>0</td>\n",
       "      <td>3.000000</td>\n",
       "      <td>42.857143</td>\n",
       "      <td>3.000000</td>\n",
       "      <td>0.428571</td>\n",
       "      <td>1.285714</td>\n",
       "    </tr>\n",
       "    <tr>\n",
       "      <th>433</th>\n",
       "      <td>Yuvraj Singh</td>\n",
       "      <td>105</td>\n",
       "      <td>90</td>\n",
       "      <td>2445</td>\n",
       "      <td>89</td>\n",
       "      <td>1862</td>\n",
       "      <td>175</td>\n",
       "      <td>133</td>\n",
       "      <td>23.285714</td>\n",
       "      <td>131.310419</td>\n",
       "      <td>27.166667</td>\n",
       "      <td>1.313104</td>\n",
       "      <td>35.672664</td>\n",
       "    </tr>\n",
       "    <tr>\n",
       "      <th>434</th>\n",
       "      <td>Z Khan</td>\n",
       "      <td>24</td>\n",
       "      <td>14</td>\n",
       "      <td>117</td>\n",
       "      <td>23</td>\n",
       "      <td>128</td>\n",
       "      <td>11</td>\n",
       "      <td>2</td>\n",
       "      <td>4.875000</td>\n",
       "      <td>91.406250</td>\n",
       "      <td>8.357143</td>\n",
       "      <td>0.914062</td>\n",
       "      <td>7.638951</td>\n",
       "    </tr>\n",
       "  </tbody>\n",
       "</table>\n",
       "<p>435 rows × 13 columns</p>\n",
       "</div>"
      ],
      "text/plain": [
       "            batsman  batting_played  player_dismissed  total_runs  HS  \\\n",
       "0    A Ashish Reddy              23                15         288  36   \n",
       "1        A Chandila               2                 1           4   4   \n",
       "2          A Chopra               6                 5          58  26   \n",
       "3        A Flintoff               3                 2          72  32   \n",
       "4          A Kumble              15                 2          42   8   \n",
       "..              ...             ...               ...         ...  ..   \n",
       "430     YV Takawale              10                 8         207  47   \n",
       "431   Yashpal Singh               4                 4          49  20   \n",
       "432     Younis Khan               1                 1           3   3   \n",
       "433    Yuvraj Singh             105                90        2445  89   \n",
       "434          Z Khan              24                14         117  23   \n",
       "\n",
       "     ballsfaced  4's  6's  Avg(TR/M)   SR(TR/BF)  battingAVG(tr/outs)  \\\n",
       "0           196   17   15  12.521739  146.938776            19.200000   \n",
       "1             7    0    0   2.000000   57.142857             4.000000   \n",
       "2            75    7    0   9.666667   77.333333            11.600000   \n",
       "3            57    6    2  24.000000  126.315789            36.000000   \n",
       "4            49    4    0   2.800000   85.714286            21.000000   \n",
       "..          ...  ...  ...        ...         ...                  ...   \n",
       "430         183   27    3  20.700000  113.114754            25.875000   \n",
       "431          67    5    0  12.250000   73.134328            12.250000   \n",
       "432           7    0    0   3.000000   42.857143             3.000000   \n",
       "433        1862  175  133  23.285714  131.310419            27.166667   \n",
       "434         128   11    2   4.875000   91.406250             8.357143   \n",
       "\n",
       "     runs_by_balls(R/B)       Calc  \n",
       "0              1.469388  28.212245  \n",
       "1              0.571429   2.285714  \n",
       "2              0.773333   8.970667  \n",
       "3              1.263158  45.473684  \n",
       "4              0.857143  18.000000  \n",
       "..                  ...        ...  \n",
       "430            1.131148  29.268443  \n",
       "431            0.731343   8.958955  \n",
       "432            0.428571   1.285714  \n",
       "433            1.313104  35.672664  \n",
       "434            0.914062   7.638951  \n",
       "\n",
       "[435 rows x 13 columns]"
      ]
     },
     "execution_count": 18,
     "metadata": {},
     "output_type": "execute_result"
    }
   ],
   "source": [
    "batsman1"
   ]
  },
  {
   "cell_type": "markdown",
   "metadata": {},
   "source": [
    "creating bowler profile\n"
   ]
  },
  {
   "cell_type": "markdown",
   "metadata": {},
   "source": [
    "creating matches column "
   ]
  },
  {
   "cell_type": "code",
   "execution_count": 19,
   "metadata": {},
   "outputs": [],
   "source": [
    "bowler=deliveries[['bowler','match_id']].groupby(['bowler']).agg('nunique')\n",
    "bowler['id']=bowler.index\n",
    "bowler.reset_index(drop=True,inplace=True)\n",
    "bowler=bowler.rename(columns={'match_id':'matches','id':'bowler'})\n",
    "bowler=bowler[['bowler','matches']]"
   ]
  },
  {
   "cell_type": "markdown",
   "metadata": {},
   "source": [
    "creating ballsbowled column for each bowler"
   ]
  },
  {
   "cell_type": "code",
   "execution_count": 21,
   "metadata": {},
   "outputs": [],
   "source": [
    "bowler_bowled=deliveries[['bowler','over']].groupby(['bowler']).agg('count')\n",
    "bowler_bowled['id']=bowler_bowled.index\n",
    "bowler_bowled.reset_index(drop=True,inplace=True)\n",
    "bowler_bowled=bowler_bowled.rename(columns={'over':'ballsbowled','id':'bowler'})\n",
    "bowler['ballsbowled']=bowler_bowled['ballsbowled']"
   ]
  },
  {
   "cell_type": "markdown",
   "metadata": {},
   "source": [
    "creating wickets column for each bowler"
   ]
  },
  {
   "cell_type": "code",
   "execution_count": 22,
   "metadata": {},
   "outputs": [],
   "source": [
    "bowler_wickets=deliveries[['bowler','player_dismissed']].groupby(['bowler']).count()\n",
    "bowler_wickets['id']=bowler_wickets.index\n",
    "bowler_wickets.reset_index(drop=True,inplace=True)\n",
    "bowler_wickets=bowler_wickets.rename(columns={'player_dismissed':'wickets','id':'bowler'})\n",
    "bowler['wkts']=bowler_wickets['wickets']"
   ]
  },
  {
   "cell_type": "markdown",
   "metadata": {},
   "source": [
    "creating number of runs column given by the each bowler\n",
    "\n"
   ]
  },
  {
   "cell_type": "code",
   "execution_count": 23,
   "metadata": {},
   "outputs": [],
   "source": [
    "bowler_givenruns=deliveries[['bowler','total_runs']].groupby(['bowler']).agg('sum')\n",
    "bowler_givenruns['id']=bowler_givenruns.index\n",
    "bowler_givenruns.reset_index(drop=True,inplace=True)\n",
    "bowler_givenruns=bowler_givenruns.rename(columns={'total_runs':'runs','id':'bowler'})\n",
    "bowler['runs']=bowler_givenruns['runs']"
   ]
  },
  {
   "cell_type": "markdown",
   "metadata": {},
   "source": [
    "creating bowler Average,Strike rate,Economy rate"
   ]
  },
  {
   "cell_type": "code",
   "execution_count": 24,
   "metadata": {},
   "outputs": [],
   "source": [
    "bowler['Avg(TR/Wkts)']=bowler['runs']/bowler['wkts']\n",
    "bowler['bowling_sr(bb/wkts)']=bowler['ballsbowled']/bowler['wkts']\n",
    "bowler['economy_rate(runs/bb)']=bowler['runs']/bowler['ballsbowled']"
   ]
  },
  {
   "cell_type": "markdown",
   "metadata": {},
   "source": [
    "Doing inverse of Average,Strike rate,Economy rate"
   ]
  },
  {
   "cell_type": "code",
   "execution_count": 25,
   "metadata": {},
   "outputs": [],
   "source": [
    "bowler['(1/bowling_avg)']=1/bowler['Avg(TR/Wkts)']\n",
    "bowler['(1/bowling_sr)']=1/bowler['bowling_sr(bb/wkts)']\n",
    "bowler['(1/bowling_er)']=1/bowler['economy_rate(runs/bb)']"
   ]
  },
  {
   "cell_type": "code",
   "execution_count": 26,
   "metadata": {},
   "outputs": [
    {
     "data": {
      "text/plain": [
       "Index(['bowler', 'matches', 'ballsbowled', 'wkts', 'runs', 'Avg(TR/Wkts)',\n",
       "       'bowling_sr(bb/wkts)', 'economy_rate(runs/bb)', '(1/bowling_avg)',\n",
       "       '(1/bowling_sr)', '(1/bowling_er)', 'bowling_sum'],\n",
       "      dtype='object')"
      ]
     },
     "execution_count": 26,
     "metadata": {},
     "output_type": "execute_result"
    }
   ],
   "source": [
    "bowler['bowling_sum']=bowler['(1/bowling_avg)']+bowler['(1/bowling_sr)']+bowler['(1/bowling_er)']\n",
    "bowler.columns"
   ]
  },
  {
   "cell_type": "markdown",
   "metadata": {},
   "source": [
    "creating 'CombinedBowlingRate' column .Where A single measure that can be used to assess the performance of bowlers. The combined bowling rate CBR = 3/[1/A + 1/E + 1/S] is defined for this purpose and is used to rate bowlers. To find the rankings of the bowlers."
   ]
  },
  {
   "cell_type": "code",
   "execution_count": 27,
   "metadata": {},
   "outputs": [
    {
     "data": {
      "text/plain": [
       "Index(['bowler', 'matches', 'ballsbowled', 'wkts', 'runs', 'Avg(TR/Wkts)',\n",
       "       'bowling_sr(bb/wkts)', 'economy_rate(runs/bb)', '(1/bowling_avg)',\n",
       "       '(1/bowling_sr)', '(1/bowling_er)', 'bowling_sum',\n",
       "       'CombinedBowlingRate'],\n",
       "      dtype='object')"
      ]
     },
     "execution_count": 27,
     "metadata": {},
     "output_type": "execute_result"
    }
   ],
   "source": [
    "bowler['CombinedBowlingRate']=3/bowler['bowling_sum']\n",
    "bowler.columns"
   ]
  },
  {
   "cell_type": "code",
   "execution_count": 28,
   "metadata": {},
   "outputs": [
    {
     "data": {
      "text/html": [
       "<div>\n",
       "<style scoped>\n",
       "    .dataframe tbody tr th:only-of-type {\n",
       "        vertical-align: middle;\n",
       "    }\n",
       "\n",
       "    .dataframe tbody tr th {\n",
       "        vertical-align: top;\n",
       "    }\n",
       "\n",
       "    .dataframe thead th {\n",
       "        text-align: right;\n",
       "    }\n",
       "</style>\n",
       "<table border=\"1\" class=\"dataframe\">\n",
       "  <thead>\n",
       "    <tr style=\"text-align: right;\">\n",
       "      <th></th>\n",
       "      <th>bowler</th>\n",
       "      <th>matches</th>\n",
       "      <th>ballsbowled</th>\n",
       "      <th>wkts</th>\n",
       "      <th>runs</th>\n",
       "      <th>Avg(TR/Wkts)</th>\n",
       "      <th>bowling_sr(bb/wkts)</th>\n",
       "      <th>economy_rate(runs/bb)</th>\n",
       "      <th>(1/bowling_avg)</th>\n",
       "      <th>(1/bowling_sr)</th>\n",
       "      <th>(1/bowling_er)</th>\n",
       "      <th>bowling_sum</th>\n",
       "      <th>CombinedBowlingRate</th>\n",
       "    </tr>\n",
       "  </thead>\n",
       "  <tbody>\n",
       "    <tr>\n",
       "      <th>0</th>\n",
       "      <td>A Ashish Reddy</td>\n",
       "      <td>20</td>\n",
       "      <td>270</td>\n",
       "      <td>19</td>\n",
       "      <td>400</td>\n",
       "      <td>21.052632</td>\n",
       "      <td>14.210526</td>\n",
       "      <td>1.481481</td>\n",
       "      <td>0.047500</td>\n",
       "      <td>0.070370</td>\n",
       "      <td>0.675000</td>\n",
       "      <td>0.792870</td>\n",
       "      <td>3.783721</td>\n",
       "    </tr>\n",
       "    <tr>\n",
       "      <th>1</th>\n",
       "      <td>A Chandila</td>\n",
       "      <td>12</td>\n",
       "      <td>234</td>\n",
       "      <td>11</td>\n",
       "      <td>245</td>\n",
       "      <td>22.272727</td>\n",
       "      <td>21.272727</td>\n",
       "      <td>1.047009</td>\n",
       "      <td>0.044898</td>\n",
       "      <td>0.047009</td>\n",
       "      <td>0.955102</td>\n",
       "      <td>1.047009</td>\n",
       "      <td>2.865306</td>\n",
       "    </tr>\n",
       "    <tr>\n",
       "      <th>2</th>\n",
       "      <td>A Flintoff</td>\n",
       "      <td>3</td>\n",
       "      <td>66</td>\n",
       "      <td>2</td>\n",
       "      <td>106</td>\n",
       "      <td>53.000000</td>\n",
       "      <td>33.000000</td>\n",
       "      <td>1.606061</td>\n",
       "      <td>0.018868</td>\n",
       "      <td>0.030303</td>\n",
       "      <td>0.622642</td>\n",
       "      <td>0.671812</td>\n",
       "      <td>4.465532</td>\n",
       "    </tr>\n",
       "    <tr>\n",
       "      <th>3</th>\n",
       "      <td>A Kumble</td>\n",
       "      <td>42</td>\n",
       "      <td>983</td>\n",
       "      <td>49</td>\n",
       "      <td>1089</td>\n",
       "      <td>22.224490</td>\n",
       "      <td>20.061224</td>\n",
       "      <td>1.107833</td>\n",
       "      <td>0.044995</td>\n",
       "      <td>0.049847</td>\n",
       "      <td>0.902663</td>\n",
       "      <td>0.997506</td>\n",
       "      <td>3.007501</td>\n",
       "    </tr>\n",
       "    <tr>\n",
       "      <th>4</th>\n",
       "      <td>A Mishra</td>\n",
       "      <td>112</td>\n",
       "      <td>2466</td>\n",
       "      <td>132</td>\n",
       "      <td>2960</td>\n",
       "      <td>22.424242</td>\n",
       "      <td>18.681818</td>\n",
       "      <td>1.200324</td>\n",
       "      <td>0.044595</td>\n",
       "      <td>0.053528</td>\n",
       "      <td>0.833108</td>\n",
       "      <td>0.931231</td>\n",
       "      <td>3.221543</td>\n",
       "    </tr>\n",
       "    <tr>\n",
       "      <th>...</th>\n",
       "      <td>...</td>\n",
       "      <td>...</td>\n",
       "      <td>...</td>\n",
       "      <td>...</td>\n",
       "      <td>...</td>\n",
       "      <td>...</td>\n",
       "      <td>...</td>\n",
       "      <td>...</td>\n",
       "      <td>...</td>\n",
       "      <td>...</td>\n",
       "      <td>...</td>\n",
       "      <td>...</td>\n",
       "      <td>...</td>\n",
       "    </tr>\n",
       "    <tr>\n",
       "      <th>327</th>\n",
       "      <td>YA Abdulla</td>\n",
       "      <td>11</td>\n",
       "      <td>222</td>\n",
       "      <td>15</td>\n",
       "      <td>311</td>\n",
       "      <td>20.733333</td>\n",
       "      <td>14.800000</td>\n",
       "      <td>1.400901</td>\n",
       "      <td>0.048232</td>\n",
       "      <td>0.067568</td>\n",
       "      <td>0.713826</td>\n",
       "      <td>0.829625</td>\n",
       "      <td>3.616090</td>\n",
       "    </tr>\n",
       "    <tr>\n",
       "      <th>328</th>\n",
       "      <td>YK Pathan</td>\n",
       "      <td>76</td>\n",
       "      <td>1142</td>\n",
       "      <td>44</td>\n",
       "      <td>1380</td>\n",
       "      <td>31.363636</td>\n",
       "      <td>25.954545</td>\n",
       "      <td>1.208406</td>\n",
       "      <td>0.031884</td>\n",
       "      <td>0.038529</td>\n",
       "      <td>0.827536</td>\n",
       "      <td>0.897949</td>\n",
       "      <td>3.340946</td>\n",
       "    </tr>\n",
       "    <tr>\n",
       "      <th>329</th>\n",
       "      <td>YS Chahal</td>\n",
       "      <td>42</td>\n",
       "      <td>948</td>\n",
       "      <td>58</td>\n",
       "      <td>1249</td>\n",
       "      <td>21.534483</td>\n",
       "      <td>16.344828</td>\n",
       "      <td>1.317511</td>\n",
       "      <td>0.046437</td>\n",
       "      <td>0.061181</td>\n",
       "      <td>0.759007</td>\n",
       "      <td>0.866626</td>\n",
       "      <td>3.461702</td>\n",
       "    </tr>\n",
       "    <tr>\n",
       "      <th>330</th>\n",
       "      <td>Yuvraj Singh</td>\n",
       "      <td>69</td>\n",
       "      <td>857</td>\n",
       "      <td>37</td>\n",
       "      <td>1045</td>\n",
       "      <td>28.243243</td>\n",
       "      <td>23.162162</td>\n",
       "      <td>1.219370</td>\n",
       "      <td>0.035407</td>\n",
       "      <td>0.043174</td>\n",
       "      <td>0.820096</td>\n",
       "      <td>0.898676</td>\n",
       "      <td>3.338243</td>\n",
       "    </tr>\n",
       "    <tr>\n",
       "      <th>331</th>\n",
       "      <td>Z Khan</td>\n",
       "      <td>88</td>\n",
       "      <td>2030</td>\n",
       "      <td>107</td>\n",
       "      <td>2537</td>\n",
       "      <td>23.710280</td>\n",
       "      <td>18.971963</td>\n",
       "      <td>1.249754</td>\n",
       "      <td>0.042176</td>\n",
       "      <td>0.052709</td>\n",
       "      <td>0.800158</td>\n",
       "      <td>0.895043</td>\n",
       "      <td>3.351795</td>\n",
       "    </tr>\n",
       "  </tbody>\n",
       "</table>\n",
       "<p>332 rows × 13 columns</p>\n",
       "</div>"
      ],
      "text/plain": [
       "             bowler  matches  ballsbowled  wkts  runs  Avg(TR/Wkts)  \\\n",
       "0    A Ashish Reddy       20          270    19   400     21.052632   \n",
       "1        A Chandila       12          234    11   245     22.272727   \n",
       "2        A Flintoff        3           66     2   106     53.000000   \n",
       "3          A Kumble       42          983    49  1089     22.224490   \n",
       "4          A Mishra      112         2466   132  2960     22.424242   \n",
       "..              ...      ...          ...   ...   ...           ...   \n",
       "327      YA Abdulla       11          222    15   311     20.733333   \n",
       "328       YK Pathan       76         1142    44  1380     31.363636   \n",
       "329       YS Chahal       42          948    58  1249     21.534483   \n",
       "330    Yuvraj Singh       69          857    37  1045     28.243243   \n",
       "331          Z Khan       88         2030   107  2537     23.710280   \n",
       "\n",
       "     bowling_sr(bb/wkts)  economy_rate(runs/bb)  (1/bowling_avg)  \\\n",
       "0              14.210526               1.481481         0.047500   \n",
       "1              21.272727               1.047009         0.044898   \n",
       "2              33.000000               1.606061         0.018868   \n",
       "3              20.061224               1.107833         0.044995   \n",
       "4              18.681818               1.200324         0.044595   \n",
       "..                   ...                    ...              ...   \n",
       "327            14.800000               1.400901         0.048232   \n",
       "328            25.954545               1.208406         0.031884   \n",
       "329            16.344828               1.317511         0.046437   \n",
       "330            23.162162               1.219370         0.035407   \n",
       "331            18.971963               1.249754         0.042176   \n",
       "\n",
       "     (1/bowling_sr)  (1/bowling_er)  bowling_sum  CombinedBowlingRate  \n",
       "0          0.070370        0.675000     0.792870             3.783721  \n",
       "1          0.047009        0.955102     1.047009             2.865306  \n",
       "2          0.030303        0.622642     0.671812             4.465532  \n",
       "3          0.049847        0.902663     0.997506             3.007501  \n",
       "4          0.053528        0.833108     0.931231             3.221543  \n",
       "..              ...             ...          ...                  ...  \n",
       "327        0.067568        0.713826     0.829625             3.616090  \n",
       "328        0.038529        0.827536     0.897949             3.340946  \n",
       "329        0.061181        0.759007     0.866626             3.461702  \n",
       "330        0.043174        0.820096     0.898676             3.338243  \n",
       "331        0.052709        0.800158     0.895043             3.351795  \n",
       "\n",
       "[332 rows x 13 columns]"
      ]
     },
     "execution_count": 28,
     "metadata": {},
     "output_type": "execute_result"
    }
   ],
   "source": [
    "bowler"
   ]
  },
  {
   "cell_type": "markdown",
   "metadata": {},
   "source": [
    "# Now using player profile, trying to predict the winner¶"
   ]
  },
  {
   "cell_type": "markdown",
   "metadata": {},
   "source": [
    "so we need to create a table of matches played in 2017"
   ]
  },
  {
   "cell_type": "code",
   "execution_count": 30,
   "metadata": {},
   "outputs": [],
   "source": [
    "matches_season_2017=matches[matches['season']==2017]"
   ]
  },
  {
   "cell_type": "code",
   "execution_count": 31,
   "metadata": {},
   "outputs": [
    {
     "data": {
      "text/plain": [
       "array([ 1,  2,  3,  4,  5,  6,  7,  8,  9, 10, 11, 12, 13, 14, 15, 16, 17,\n",
       "       18, 19, 20, 21, 22, 23, 24, 25, 26, 27, 28, 29, 30, 31, 32, 33, 34,\n",
       "       35, 36, 37, 38, 39, 40, 41, 42, 43, 44, 45, 46, 47, 48, 49, 50, 51,\n",
       "       52, 53, 54, 55, 56, 57, 58, 59])"
      ]
     },
     "execution_count": 31,
     "metadata": {},
     "output_type": "execute_result"
    }
   ],
   "source": [
    "matches_season_2017['id'].unique()"
   ]
  },
  {
   "cell_type": "markdown",
   "metadata": {},
   "source": [
    "create a table of deliveries information in 2017"
   ]
  },
  {
   "cell_type": "code",
   "execution_count": 32,
   "metadata": {},
   "outputs": [
    {
     "data": {
      "text/plain": [
       "(13862, 21)"
      ]
     },
     "execution_count": 32,
     "metadata": {},
     "output_type": "execute_result"
    }
   ],
   "source": [
    "deliveries_complete_data=pd.read_csv('../input/ipldata/deliveries.csv')\n",
    "deliveries_season_2017=deliveries_complete_data[deliveries_complete_data['match_id'].isin([ 1,  2,  3,  4,  5,  6,  7,  8,  9, 10, 11, 12, 13, 14, 15, 16, 17,\n",
    "       18, 19, 20, 21, 22, 23, 24, 25, 26, 27, 28, 29, 30, 31, 32, 33, 34,\n",
    "       35, 36, 37, 38, 39, 40, 41, 42, 43, 44, 45, 46, 47, 48, 49, 50, 51,\n",
    "       52, 53, 54, 55, 56, 57, 58, 59])]\n",
    "deliveries_season_2017.shape"
   ]
  },
  {
   "cell_type": "markdown",
   "metadata": {},
   "source": [
    "My Hypothesis is that the winning team prediction depends on the players batting & bowling profile.\n",
    "\n",
    "That is the batting average of winning team should be more compared to the other team And bowling average of winning team should be less when compared to the other team\n",
    "\n",
    "We consider batting avg to be more important than bowling weight so we consider overall_winning_power = (0.60batting_avg) + (0.40 1/bowling_avg)"
   ]
  },
  {
   "cell_type": "markdown",
   "metadata": {},
   "source": [
    "# SRH Vs RCB"
   ]
  },
  {
   "cell_type": "markdown",
   "metadata": {},
   "source": [
    "# Comparing player profiles of both the teams"
   ]
  },
  {
   "cell_type": "markdown",
   "metadata": {},
   "source": [
    "checking match details"
   ]
  },
  {
   "cell_type": "code",
   "execution_count": 33,
   "metadata": {},
   "outputs": [
    {
     "data": {
      "text/html": [
       "<div>\n",
       "<style scoped>\n",
       "    .dataframe tbody tr th:only-of-type {\n",
       "        vertical-align: middle;\n",
       "    }\n",
       "\n",
       "    .dataframe tbody tr th {\n",
       "        vertical-align: top;\n",
       "    }\n",
       "\n",
       "    .dataframe thead th {\n",
       "        text-align: right;\n",
       "    }\n",
       "</style>\n",
       "<table border=\"1\" class=\"dataframe\">\n",
       "  <thead>\n",
       "    <tr style=\"text-align: right;\">\n",
       "      <th></th>\n",
       "      <th>id</th>\n",
       "      <th>season</th>\n",
       "      <th>city</th>\n",
       "      <th>date</th>\n",
       "      <th>team1</th>\n",
       "      <th>team2</th>\n",
       "      <th>toss_winner</th>\n",
       "      <th>toss_decision</th>\n",
       "      <th>result</th>\n",
       "      <th>dl_applied</th>\n",
       "      <th>winner</th>\n",
       "      <th>win_by_runs</th>\n",
       "      <th>win_by_wickets</th>\n",
       "      <th>player_of_match</th>\n",
       "      <th>venue</th>\n",
       "      <th>umpire1</th>\n",
       "      <th>umpire2</th>\n",
       "      <th>umpire3</th>\n",
       "    </tr>\n",
       "  </thead>\n",
       "  <tbody>\n",
       "    <tr>\n",
       "      <th>0</th>\n",
       "      <td>1</td>\n",
       "      <td>2017</td>\n",
       "      <td>Hyderabad</td>\n",
       "      <td>2017-04-05</td>\n",
       "      <td>Sunrisers Hyderabad</td>\n",
       "      <td>Royal Challengers Bangalore</td>\n",
       "      <td>Royal Challengers Bangalore</td>\n",
       "      <td>field</td>\n",
       "      <td>normal</td>\n",
       "      <td>0</td>\n",
       "      <td>Sunrisers Hyderabad</td>\n",
       "      <td>35</td>\n",
       "      <td>0</td>\n",
       "      <td>Yuvraj Singh</td>\n",
       "      <td>Rajiv Gandhi International Stadium, Uppal</td>\n",
       "      <td>AY Dandekar</td>\n",
       "      <td>NJ Llong</td>\n",
       "      <td>NaN</td>\n",
       "    </tr>\n",
       "  </tbody>\n",
       "</table>\n",
       "</div>"
      ],
      "text/plain": [
       "   id  season       city        date                team1  \\\n",
       "0   1    2017  Hyderabad  2017-04-05  Sunrisers Hyderabad   \n",
       "\n",
       "                         team2                  toss_winner toss_decision  \\\n",
       "0  Royal Challengers Bangalore  Royal Challengers Bangalore         field   \n",
       "\n",
       "   result  dl_applied               winner  win_by_runs  win_by_wickets  \\\n",
       "0  normal           0  Sunrisers Hyderabad           35               0   \n",
       "\n",
       "  player_of_match                                      venue      umpire1  \\\n",
       "0    Yuvraj Singh  Rajiv Gandhi International Stadium, Uppal  AY Dandekar   \n",
       "\n",
       "    umpire2 umpire3  \n",
       "0  NJ Llong     NaN  "
      ]
     },
     "execution_count": 33,
     "metadata": {},
     "output_type": "execute_result"
    }
   ],
   "source": [
    "matches[matches['id']==1]"
   ]
  },
  {
   "cell_type": "markdown",
   "metadata": {},
   "source": [
    "checking batsman names in SRH team"
   ]
  },
  {
   "cell_type": "code",
   "execution_count": 34,
   "metadata": {},
   "outputs": [
    {
     "data": {
      "text/plain": [
       "array(['DA Warner', 'S Dhawan', 'MC Henriques', 'Yuvraj Singh',\n",
       "       'DJ Hooda', 'BCJ Cutting'], dtype=object)"
      ]
     },
     "execution_count": 34,
     "metadata": {},
     "output_type": "execute_result"
    }
   ],
   "source": [
    "deliveries_complete_data[(deliveries_complete_data['match_id']==1)&(deliveries_complete_data['batting_team']=='Sunrisers Hyderabad')]['batsman'].unique()"
   ]
  },
  {
   "cell_type": "markdown",
   "metadata": {},
   "source": [
    "verifying if all batsman names are present in batsman profile table"
   ]
  },
  {
   "cell_type": "code",
   "execution_count": 35,
   "metadata": {},
   "outputs": [
    {
     "data": {
      "text/html": [
       "<div>\n",
       "<style scoped>\n",
       "    .dataframe tbody tr th:only-of-type {\n",
       "        vertical-align: middle;\n",
       "    }\n",
       "\n",
       "    .dataframe tbody tr th {\n",
       "        vertical-align: top;\n",
       "    }\n",
       "\n",
       "    .dataframe thead th {\n",
       "        text-align: right;\n",
       "    }\n",
       "</style>\n",
       "<table border=\"1\" class=\"dataframe\">\n",
       "  <thead>\n",
       "    <tr style=\"text-align: right;\">\n",
       "      <th></th>\n",
       "      <th>batsman</th>\n",
       "      <th>batting_played</th>\n",
       "      <th>player_dismissed</th>\n",
       "      <th>total_runs</th>\n",
       "      <th>HS</th>\n",
       "      <th>ballsfaced</th>\n",
       "      <th>4's</th>\n",
       "      <th>6's</th>\n",
       "      <th>Avg(TR/M)</th>\n",
       "      <th>SR(TR/BF)</th>\n",
       "      <th>battingAVG(tr/outs)</th>\n",
       "      <th>runs_by_balls(R/B)</th>\n",
       "      <th>Calc</th>\n",
       "    </tr>\n",
       "  </thead>\n",
       "  <tbody>\n",
       "    <tr>\n",
       "      <th>63</th>\n",
       "      <td>BCJ Cutting</td>\n",
       "      <td>5</td>\n",
       "      <td>3</td>\n",
       "      <td>83</td>\n",
       "      <td>47</td>\n",
       "      <td>43</td>\n",
       "      <td>4</td>\n",
       "      <td>7</td>\n",
       "      <td>16.600000</td>\n",
       "      <td>193.023256</td>\n",
       "      <td>27.666667</td>\n",
       "      <td>1.930233</td>\n",
       "      <td>53.403101</td>\n",
       "    </tr>\n",
       "    <tr>\n",
       "      <th>94</th>\n",
       "      <td>DA Warner</td>\n",
       "      <td>100</td>\n",
       "      <td>91</td>\n",
       "      <td>3543</td>\n",
       "      <td>119</td>\n",
       "      <td>2440</td>\n",
       "      <td>341</td>\n",
       "      <td>132</td>\n",
       "      <td>35.430000</td>\n",
       "      <td>145.204918</td>\n",
       "      <td>38.934066</td>\n",
       "      <td>1.452049</td>\n",
       "      <td>56.534179</td>\n",
       "    </tr>\n",
       "    <tr>\n",
       "      <th>102</th>\n",
       "      <td>DJ Hooda</td>\n",
       "      <td>24</td>\n",
       "      <td>20</td>\n",
       "      <td>307</td>\n",
       "      <td>57</td>\n",
       "      <td>224</td>\n",
       "      <td>14</td>\n",
       "      <td>16</td>\n",
       "      <td>12.791667</td>\n",
       "      <td>137.053571</td>\n",
       "      <td>15.350000</td>\n",
       "      <td>1.370536</td>\n",
       "      <td>21.037723</td>\n",
       "    </tr>\n",
       "    <tr>\n",
       "      <th>223</th>\n",
       "      <td>MC Henriques</td>\n",
       "      <td>39</td>\n",
       "      <td>29</td>\n",
       "      <td>716</td>\n",
       "      <td>76</td>\n",
       "      <td>564</td>\n",
       "      <td>58</td>\n",
       "      <td>23</td>\n",
       "      <td>18.358974</td>\n",
       "      <td>126.950355</td>\n",
       "      <td>24.689655</td>\n",
       "      <td>1.269504</td>\n",
       "      <td>31.343605</td>\n",
       "    </tr>\n",
       "    <tr>\n",
       "      <th>327</th>\n",
       "      <td>S Dhawan</td>\n",
       "      <td>112</td>\n",
       "      <td>95</td>\n",
       "      <td>3259</td>\n",
       "      <td>108</td>\n",
       "      <td>2622</td>\n",
       "      <td>351</td>\n",
       "      <td>61</td>\n",
       "      <td>29.098214</td>\n",
       "      <td>124.294432</td>\n",
       "      <td>34.305263</td>\n",
       "      <td>1.242944</td>\n",
       "      <td>42.639532</td>\n",
       "    </tr>\n",
       "    <tr>\n",
       "      <th>433</th>\n",
       "      <td>Yuvraj Singh</td>\n",
       "      <td>105</td>\n",
       "      <td>90</td>\n",
       "      <td>2445</td>\n",
       "      <td>89</td>\n",
       "      <td>1862</td>\n",
       "      <td>175</td>\n",
       "      <td>133</td>\n",
       "      <td>23.285714</td>\n",
       "      <td>131.310419</td>\n",
       "      <td>27.166667</td>\n",
       "      <td>1.313104</td>\n",
       "      <td>35.672664</td>\n",
       "    </tr>\n",
       "  </tbody>\n",
       "</table>\n",
       "</div>"
      ],
      "text/plain": [
       "          batsman  batting_played  player_dismissed  total_runs   HS  \\\n",
       "63    BCJ Cutting               5                 3          83   47   \n",
       "94      DA Warner             100                91        3543  119   \n",
       "102      DJ Hooda              24                20         307   57   \n",
       "223  MC Henriques              39                29         716   76   \n",
       "327      S Dhawan             112                95        3259  108   \n",
       "433  Yuvraj Singh             105                90        2445   89   \n",
       "\n",
       "     ballsfaced  4's  6's  Avg(TR/M)   SR(TR/BF)  battingAVG(tr/outs)  \\\n",
       "63           43    4    7  16.600000  193.023256            27.666667   \n",
       "94         2440  341  132  35.430000  145.204918            38.934066   \n",
       "102         224   14   16  12.791667  137.053571            15.350000   \n",
       "223         564   58   23  18.358974  126.950355            24.689655   \n",
       "327        2622  351   61  29.098214  124.294432            34.305263   \n",
       "433        1862  175  133  23.285714  131.310419            27.166667   \n",
       "\n",
       "     runs_by_balls(R/B)       Calc  \n",
       "63             1.930233  53.403101  \n",
       "94             1.452049  56.534179  \n",
       "102            1.370536  21.037723  \n",
       "223            1.269504  31.343605  \n",
       "327            1.242944  42.639532  \n",
       "433            1.313104  35.672664  "
      ]
     },
     "execution_count": 35,
     "metadata": {},
     "output_type": "execute_result"
    }
   ],
   "source": [
    "batsman1[batsman1['batsman'].isin(['MC Henriques','S Dhawan','Yuvraj Singh','DA Warner', 'DJ Hooda', 'BCJ Cutting'])]"
   ]
  },
  {
   "cell_type": "markdown",
   "metadata": {},
   "source": [
    "So we see that all players in SRH team have a batting profile. Meaning there is no new player here\n",
    "\n"
   ]
  },
  {
   "cell_type": "markdown",
   "metadata": {},
   "source": [
    "Batsman performance is represented by 'Calc' column .so we calculate batsmans average through 'Calc' column\n",
    "\n"
   ]
  },
  {
   "cell_type": "code",
   "execution_count": 36,
   "metadata": {},
   "outputs": [
    {
     "data": {
      "text/plain": [
       "40.105133834614"
      ]
     },
     "execution_count": 36,
     "metadata": {},
     "output_type": "execute_result"
    }
   ],
   "source": [
    "batsman1[batsman1['batsman'].isin(['MC Henriques','S Dhawan','Yuvraj Singh','DA Warner', 'DJ Hooda', 'BCJ Cutting'])]['Calc'].agg('mean')"
   ]
  },
  {
   "cell_type": "markdown",
   "metadata": {},
   "source": [
    "checking bowler names in SRH team"
   ]
  },
  {
   "cell_type": "code",
   "execution_count": 37,
   "metadata": {},
   "outputs": [
    {
     "data": {
      "text/plain": [
       "array(['A Nehra', 'B Kumar', 'BCJ Cutting', 'Rashid Khan', 'DJ Hooda',\n",
       "       'MC Henriques', 'Bipul Sharma'], dtype=object)"
      ]
     },
     "execution_count": 37,
     "metadata": {},
     "output_type": "execute_result"
    }
   ],
   "source": [
    "deliveries_complete_data[(deliveries_complete_data['match_id']==1)&(deliveries_complete_data['bowling_team']=='Sunrisers Hyderabad')]['bowler'].unique()"
   ]
  },
  {
   "cell_type": "markdown",
   "metadata": {},
   "source": [
    "verifying if all bowler names are present in bowler profile table"
   ]
  },
  {
   "cell_type": "code",
   "execution_count": 38,
   "metadata": {},
   "outputs": [
    {
     "data": {
      "text/html": [
       "<div>\n",
       "<style scoped>\n",
       "    .dataframe tbody tr th:only-of-type {\n",
       "        vertical-align: middle;\n",
       "    }\n",
       "\n",
       "    .dataframe tbody tr th {\n",
       "        vertical-align: top;\n",
       "    }\n",
       "\n",
       "    .dataframe thead th {\n",
       "        text-align: right;\n",
       "    }\n",
       "</style>\n",
       "<table border=\"1\" class=\"dataframe\">\n",
       "  <thead>\n",
       "    <tr style=\"text-align: right;\">\n",
       "      <th></th>\n",
       "      <th>bowler</th>\n",
       "      <th>matches</th>\n",
       "      <th>ballsbowled</th>\n",
       "      <th>wkts</th>\n",
       "      <th>runs</th>\n",
       "      <th>Avg(TR/Wkts)</th>\n",
       "      <th>bowling_sr(bb/wkts)</th>\n",
       "      <th>economy_rate(runs/bb)</th>\n",
       "      <th>(1/bowling_avg)</th>\n",
       "      <th>(1/bowling_sr)</th>\n",
       "      <th>(1/bowling_er)</th>\n",
       "      <th>bowling_sum</th>\n",
       "      <th>CombinedBowlingRate</th>\n",
       "    </tr>\n",
       "  </thead>\n",
       "  <tbody>\n",
       "    <tr>\n",
       "      <th>6</th>\n",
       "      <td>A Nehra</td>\n",
       "      <td>82</td>\n",
       "      <td>1842</td>\n",
       "      <td>111</td>\n",
       "      <td>2339</td>\n",
       "      <td>21.072072</td>\n",
       "      <td>16.594595</td>\n",
       "      <td>1.269815</td>\n",
       "      <td>0.047456</td>\n",
       "      <td>0.060261</td>\n",
       "      <td>0.787516</td>\n",
       "      <td>0.895233</td>\n",
       "      <td>3.351084</td>\n",
       "    </tr>\n",
       "    <tr>\n",
       "      <th>46</th>\n",
       "      <td>B Kumar</td>\n",
       "      <td>76</td>\n",
       "      <td>1730</td>\n",
       "      <td>89</td>\n",
       "      <td>2026</td>\n",
       "      <td>22.764045</td>\n",
       "      <td>19.438202</td>\n",
       "      <td>1.171098</td>\n",
       "      <td>0.043929</td>\n",
       "      <td>0.051445</td>\n",
       "      <td>0.853899</td>\n",
       "      <td>0.949273</td>\n",
       "      <td>3.160312</td>\n",
       "    </tr>\n",
       "    <tr>\n",
       "      <th>52</th>\n",
       "      <td>BCJ Cutting</td>\n",
       "      <td>5</td>\n",
       "      <td>92</td>\n",
       "      <td>7</td>\n",
       "      <td>111</td>\n",
       "      <td>15.857143</td>\n",
       "      <td>13.142857</td>\n",
       "      <td>1.206522</td>\n",
       "      <td>0.063063</td>\n",
       "      <td>0.076087</td>\n",
       "      <td>0.828829</td>\n",
       "      <td>0.967979</td>\n",
       "      <td>3.099241</td>\n",
       "    </tr>\n",
       "    <tr>\n",
       "      <th>58</th>\n",
       "      <td>Bipul Sharma</td>\n",
       "      <td>21</td>\n",
       "      <td>336</td>\n",
       "      <td>19</td>\n",
       "      <td>450</td>\n",
       "      <td>23.684211</td>\n",
       "      <td>17.684211</td>\n",
       "      <td>1.339286</td>\n",
       "      <td>0.042222</td>\n",
       "      <td>0.056548</td>\n",
       "      <td>0.746667</td>\n",
       "      <td>0.845437</td>\n",
       "      <td>3.548463</td>\n",
       "    </tr>\n",
       "    <tr>\n",
       "      <th>81</th>\n",
       "      <td>DJ Hooda</td>\n",
       "      <td>13</td>\n",
       "      <td>177</td>\n",
       "      <td>4</td>\n",
       "      <td>228</td>\n",
       "      <td>57.000000</td>\n",
       "      <td>44.250000</td>\n",
       "      <td>1.288136</td>\n",
       "      <td>0.017544</td>\n",
       "      <td>0.022599</td>\n",
       "      <td>0.776316</td>\n",
       "      <td>0.816459</td>\n",
       "      <td>3.674406</td>\n",
       "    </tr>\n",
       "    <tr>\n",
       "      <th>177</th>\n",
       "      <td>MC Henriques</td>\n",
       "      <td>43</td>\n",
       "      <td>770</td>\n",
       "      <td>40</td>\n",
       "      <td>1007</td>\n",
       "      <td>25.175000</td>\n",
       "      <td>19.250000</td>\n",
       "      <td>1.307792</td>\n",
       "      <td>0.039722</td>\n",
       "      <td>0.051948</td>\n",
       "      <td>0.764647</td>\n",
       "      <td>0.856317</td>\n",
       "      <td>3.503374</td>\n",
       "    </tr>\n",
       "  </tbody>\n",
       "</table>\n",
       "</div>"
      ],
      "text/plain": [
       "           bowler  matches  ballsbowled  wkts  runs  Avg(TR/Wkts)  \\\n",
       "6         A Nehra       82         1842   111  2339     21.072072   \n",
       "46        B Kumar       76         1730    89  2026     22.764045   \n",
       "52    BCJ Cutting        5           92     7   111     15.857143   \n",
       "58   Bipul Sharma       21          336    19   450     23.684211   \n",
       "81       DJ Hooda       13          177     4   228     57.000000   \n",
       "177  MC Henriques       43          770    40  1007     25.175000   \n",
       "\n",
       "     bowling_sr(bb/wkts)  economy_rate(runs/bb)  (1/bowling_avg)  \\\n",
       "6              16.594595               1.269815         0.047456   \n",
       "46             19.438202               1.171098         0.043929   \n",
       "52             13.142857               1.206522         0.063063   \n",
       "58             17.684211               1.339286         0.042222   \n",
       "81             44.250000               1.288136         0.017544   \n",
       "177            19.250000               1.307792         0.039722   \n",
       "\n",
       "     (1/bowling_sr)  (1/bowling_er)  bowling_sum  CombinedBowlingRate  \n",
       "6          0.060261        0.787516     0.895233             3.351084  \n",
       "46         0.051445        0.853899     0.949273             3.160312  \n",
       "52         0.076087        0.828829     0.967979             3.099241  \n",
       "58         0.056548        0.746667     0.845437             3.548463  \n",
       "81         0.022599        0.776316     0.816459             3.674406  \n",
       "177        0.051948        0.764647     0.856317             3.503374  "
      ]
     },
     "execution_count": 38,
     "metadata": {},
     "output_type": "execute_result"
    }
   ],
   "source": [
    "bowler[bowler['bowler'].isin(['A Nehra', 'B Kumar', 'BCJ Cutting', 'Rashid Khan', 'DJ Hooda',\n",
    "       'MC Henriques', 'Bipul Sharma'])]"
   ]
  },
  {
   "cell_type": "markdown",
   "metadata": {},
   "source": [
    "So we see that all players in SRH team have a bowling profile. Except one player is missing in that Bowler Name:'Rashid Khan'\n",
    "\n",
    "Bowler performance is represented by 'CombinedBowlingRate' column .so we calculate bowlers average through 'CombinedBowlingRate' column"
   ]
  },
  {
   "cell_type": "code",
   "execution_count": 39,
   "metadata": {},
   "outputs": [
    {
     "data": {
      "text/plain": [
       "3.3894798966417556"
      ]
     },
     "execution_count": 39,
     "metadata": {},
     "output_type": "execute_result"
    }
   ],
   "source": [
    "bowler[bowler['bowler'].isin(['A Nehra', 'B Kumar', 'BCJ Cutting', 'Rashid Khan', 'DJ Hooda',\n",
    "       'MC Henriques', 'Bipul Sharma'])]['CombinedBowlingRate'].agg('mean')"
   ]
  },
  {
   "cell_type": "markdown",
   "metadata": {},
   "source": [
    "checking batsman names in RCB team"
   ]
  },
  {
   "cell_type": "code",
   "execution_count": 40,
   "metadata": {},
   "outputs": [
    {
     "data": {
      "text/plain": [
       "array(['CH Gayle', 'Mandeep Singh', 'TM Head', 'KM Jadhav', 'SR Watson',\n",
       "       'Sachin Baby', 'STR Binny', 'S Aravind', 'YS Chahal', 'TS Mills',\n",
       "       'A Choudhary'], dtype=object)"
      ]
     },
     "execution_count": 40,
     "metadata": {},
     "output_type": "execute_result"
    }
   ],
   "source": [
    "deliveries_complete_data[(deliveries_complete_data['match_id']==1)&(deliveries_complete_data['batting_team']=='Royal Challengers Bangalore')]['batsman'].unique()"
   ]
  },
  {
   "cell_type": "markdown",
   "metadata": {},
   "source": [
    "verifying if all batsman names are present in batsman profile table"
   ]
  },
  {
   "cell_type": "code",
   "execution_count": 41,
   "metadata": {},
   "outputs": [
    {
     "data": {
      "text/html": [
       "<div>\n",
       "<style scoped>\n",
       "    .dataframe tbody tr th:only-of-type {\n",
       "        vertical-align: middle;\n",
       "    }\n",
       "\n",
       "    .dataframe tbody tr th {\n",
       "        vertical-align: top;\n",
       "    }\n",
       "\n",
       "    .dataframe thead th {\n",
       "        text-align: right;\n",
       "    }\n",
       "</style>\n",
       "<table border=\"1\" class=\"dataframe\">\n",
       "  <thead>\n",
       "    <tr style=\"text-align: right;\">\n",
       "      <th></th>\n",
       "      <th>batsman</th>\n",
       "      <th>batting_played</th>\n",
       "      <th>player_dismissed</th>\n",
       "      <th>total_runs</th>\n",
       "      <th>HS</th>\n",
       "      <th>ballsfaced</th>\n",
       "      <th>4's</th>\n",
       "      <th>6's</th>\n",
       "      <th>Avg(TR/M)</th>\n",
       "      <th>SR(TR/BF)</th>\n",
       "      <th>battingAVG(tr/outs)</th>\n",
       "      <th>runs_by_balls(R/B)</th>\n",
       "      <th>Calc</th>\n",
       "    </tr>\n",
       "  </thead>\n",
       "  <tbody>\n",
       "    <tr>\n",
       "      <th>77</th>\n",
       "      <td>CH Gayle</td>\n",
       "      <td>91</td>\n",
       "      <td>81</td>\n",
       "      <td>3697</td>\n",
       "      <td>181</td>\n",
       "      <td>2360</td>\n",
       "      <td>291</td>\n",
       "      <td>247</td>\n",
       "      <td>40.626374</td>\n",
       "      <td>156.652542</td>\n",
       "      <td>45.641975</td>\n",
       "      <td>1.566525</td>\n",
       "      <td>71.499315</td>\n",
       "    </tr>\n",
       "    <tr>\n",
       "      <th>188</th>\n",
       "      <td>KM Jadhav</td>\n",
       "      <td>44</td>\n",
       "      <td>26</td>\n",
       "      <td>655</td>\n",
       "      <td>63</td>\n",
       "      <td>490</td>\n",
       "      <td>46</td>\n",
       "      <td>23</td>\n",
       "      <td>14.886364</td>\n",
       "      <td>133.673469</td>\n",
       "      <td>25.192308</td>\n",
       "      <td>1.336735</td>\n",
       "      <td>33.675432</td>\n",
       "    </tr>\n",
       "    <tr>\n",
       "      <th>248</th>\n",
       "      <td>Mandeep Singh</td>\n",
       "      <td>48</td>\n",
       "      <td>46</td>\n",
       "      <td>967</td>\n",
       "      <td>78</td>\n",
       "      <td>760</td>\n",
       "      <td>113</td>\n",
       "      <td>14</td>\n",
       "      <td>20.145833</td>\n",
       "      <td>127.236842</td>\n",
       "      <td>21.021739</td>\n",
       "      <td>1.272368</td>\n",
       "      <td>26.747397</td>\n",
       "    </tr>\n",
       "    <tr>\n",
       "      <th>324</th>\n",
       "      <td>S Aravind</td>\n",
       "      <td>4</td>\n",
       "      <td>0</td>\n",
       "      <td>29</td>\n",
       "      <td>14</td>\n",
       "      <td>19</td>\n",
       "      <td>5</td>\n",
       "      <td>0</td>\n",
       "      <td>7.250000</td>\n",
       "      <td>152.631579</td>\n",
       "      <td>inf</td>\n",
       "      <td>1.526316</td>\n",
       "      <td>inf</td>\n",
       "    </tr>\n",
       "    <tr>\n",
       "      <th>369</th>\n",
       "      <td>SR Watson</td>\n",
       "      <td>91</td>\n",
       "      <td>79</td>\n",
       "      <td>2669</td>\n",
       "      <td>109</td>\n",
       "      <td>1869</td>\n",
       "      <td>253</td>\n",
       "      <td>121</td>\n",
       "      <td>29.329670</td>\n",
       "      <td>142.803638</td>\n",
       "      <td>33.784810</td>\n",
       "      <td>1.428036</td>\n",
       "      <td>48.245938</td>\n",
       "    </tr>\n",
       "    <tr>\n",
       "      <th>374</th>\n",
       "      <td>STR Binny</td>\n",
       "      <td>49</td>\n",
       "      <td>32</td>\n",
       "      <td>727</td>\n",
       "      <td>49</td>\n",
       "      <td>542</td>\n",
       "      <td>53</td>\n",
       "      <td>26</td>\n",
       "      <td>14.836735</td>\n",
       "      <td>134.132841</td>\n",
       "      <td>22.718750</td>\n",
       "      <td>1.341328</td>\n",
       "      <td>30.473305</td>\n",
       "    </tr>\n",
       "    <tr>\n",
       "      <th>378</th>\n",
       "      <td>Sachin Baby</td>\n",
       "      <td>7</td>\n",
       "      <td>6</td>\n",
       "      <td>128</td>\n",
       "      <td>35</td>\n",
       "      <td>89</td>\n",
       "      <td>9</td>\n",
       "      <td>5</td>\n",
       "      <td>18.285714</td>\n",
       "      <td>143.820225</td>\n",
       "      <td>21.333333</td>\n",
       "      <td>1.438202</td>\n",
       "      <td>30.681648</td>\n",
       "    </tr>\n",
       "    <tr>\n",
       "      <th>399</th>\n",
       "      <td>TM Head</td>\n",
       "      <td>3</td>\n",
       "      <td>2</td>\n",
       "      <td>61</td>\n",
       "      <td>42</td>\n",
       "      <td>42</td>\n",
       "      <td>3</td>\n",
       "      <td>2</td>\n",
       "      <td>20.333333</td>\n",
       "      <td>145.238095</td>\n",
       "      <td>30.500000</td>\n",
       "      <td>1.452381</td>\n",
       "      <td>44.297619</td>\n",
       "    </tr>\n",
       "    <tr>\n",
       "      <th>429</th>\n",
       "      <td>YS Chahal</td>\n",
       "      <td>2</td>\n",
       "      <td>0</td>\n",
       "      <td>3</td>\n",
       "      <td>2</td>\n",
       "      <td>3</td>\n",
       "      <td>0</td>\n",
       "      <td>0</td>\n",
       "      <td>1.500000</td>\n",
       "      <td>100.000000</td>\n",
       "      <td>inf</td>\n",
       "      <td>1.000000</td>\n",
       "      <td>inf</td>\n",
       "    </tr>\n",
       "  </tbody>\n",
       "</table>\n",
       "</div>"
      ],
      "text/plain": [
       "           batsman  batting_played  player_dismissed  total_runs   HS  \\\n",
       "77        CH Gayle              91                81        3697  181   \n",
       "188      KM Jadhav              44                26         655   63   \n",
       "248  Mandeep Singh              48                46         967   78   \n",
       "324      S Aravind               4                 0          29   14   \n",
       "369      SR Watson              91                79        2669  109   \n",
       "374      STR Binny              49                32         727   49   \n",
       "378    Sachin Baby               7                 6         128   35   \n",
       "399        TM Head               3                 2          61   42   \n",
       "429      YS Chahal               2                 0           3    2   \n",
       "\n",
       "     ballsfaced  4's  6's  Avg(TR/M)   SR(TR/BF)  battingAVG(tr/outs)  \\\n",
       "77         2360  291  247  40.626374  156.652542            45.641975   \n",
       "188         490   46   23  14.886364  133.673469            25.192308   \n",
       "248         760  113   14  20.145833  127.236842            21.021739   \n",
       "324          19    5    0   7.250000  152.631579                  inf   \n",
       "369        1869  253  121  29.329670  142.803638            33.784810   \n",
       "374         542   53   26  14.836735  134.132841            22.718750   \n",
       "378          89    9    5  18.285714  143.820225            21.333333   \n",
       "399          42    3    2  20.333333  145.238095            30.500000   \n",
       "429           3    0    0   1.500000  100.000000                  inf   \n",
       "\n",
       "     runs_by_balls(R/B)       Calc  \n",
       "77             1.566525  71.499315  \n",
       "188            1.336735  33.675432  \n",
       "248            1.272368  26.747397  \n",
       "324            1.526316        inf  \n",
       "369            1.428036  48.245938  \n",
       "374            1.341328  30.473305  \n",
       "378            1.438202  30.681648  \n",
       "399            1.452381  44.297619  \n",
       "429            1.000000        inf  "
      ]
     },
     "execution_count": 41,
     "metadata": {},
     "output_type": "execute_result"
    }
   ],
   "source": [
    "batsman1[batsman1['batsman'].isin(['CH Gayle', 'Mandeep Singh', 'TM Head', 'KM Jadhav', 'SR Watson',\n",
    "       'Sachin Baby', 'STR Binny', 'S Aravind', 'YS Chahal', 'TS Mills',\n",
    "       'A Choudhary'])]"
   ]
  },
  {
   "cell_type": "markdown",
   "metadata": {},
   "source": [
    "So we see that some players in RCB team have a batting profile. Missing players are 'TS Mills','A Choudhary'\n",
    "\n",
    "'S Aravind','YS Chachal' have infinite in 'Calc' column when looked at their player profile they turn out to be bowlers. So we are excluding them in the batting average\n",
    "\n",
    "Batsman performance is represented by 'Calc' column .so we calculate batsmans average through 'Calc' column"
   ]
  },
  {
   "cell_type": "code",
   "execution_count": 42,
   "metadata": {},
   "outputs": [
    {
     "data": {
      "text/plain": [
       "40.80295048287634"
      ]
     },
     "execution_count": 42,
     "metadata": {},
     "output_type": "execute_result"
    }
   ],
   "source": [
    "batsman1[batsman1['batsman'].isin(['CH Gayle', 'Mandeep Singh', 'TM Head', 'KM Jadhav', 'SR Watson',\n",
    "       'Sachin Baby', 'STR Binny'])]['Calc'].agg('mean')"
   ]
  },
  {
   "cell_type": "markdown",
   "metadata": {},
   "source": [
    "checking bowler names in RCB team"
   ]
  },
  {
   "cell_type": "code",
   "execution_count": 44,
   "metadata": {},
   "outputs": [
    {
     "data": {
      "text/plain": [
       "array(['TS Mills', 'A Choudhary', 'YS Chahal', 'S Aravind', 'SR Watson',\n",
       "       'TM Head', 'STR Binny'], dtype=object)"
      ]
     },
     "execution_count": 44,
     "metadata": {},
     "output_type": "execute_result"
    }
   ],
   "source": [
    "deliveries_complete_data[(deliveries_complete_data['match_id']==1)&(deliveries_complete_data['bowling_team']=='Royal Challengers Bangalore')]['bowler'].unique()"
   ]
  },
  {
   "cell_type": "markdown",
   "metadata": {},
   "source": [
    "verifying if all bowler names are present in bowler profile table\n",
    "\n"
   ]
  },
  {
   "cell_type": "code",
   "execution_count": 45,
   "metadata": {},
   "outputs": [
    {
     "data": {
      "text/html": [
       "<div>\n",
       "<style scoped>\n",
       "    .dataframe tbody tr th:only-of-type {\n",
       "        vertical-align: middle;\n",
       "    }\n",
       "\n",
       "    .dataframe tbody tr th {\n",
       "        vertical-align: top;\n",
       "    }\n",
       "\n",
       "    .dataframe thead th {\n",
       "        text-align: right;\n",
       "    }\n",
       "</style>\n",
       "<table border=\"1\" class=\"dataframe\">\n",
       "  <thead>\n",
       "    <tr style=\"text-align: right;\">\n",
       "      <th></th>\n",
       "      <th>bowler</th>\n",
       "      <th>matches</th>\n",
       "      <th>ballsbowled</th>\n",
       "      <th>wkts</th>\n",
       "      <th>runs</th>\n",
       "      <th>Avg(TR/Wkts)</th>\n",
       "      <th>bowling_sr(bb/wkts)</th>\n",
       "      <th>economy_rate(runs/bb)</th>\n",
       "      <th>(1/bowling_avg)</th>\n",
       "      <th>(1/bowling_sr)</th>\n",
       "      <th>(1/bowling_er)</th>\n",
       "      <th>bowling_sum</th>\n",
       "      <th>CombinedBowlingRate</th>\n",
       "    </tr>\n",
       "  </thead>\n",
       "  <tbody>\n",
       "    <tr>\n",
       "      <th>247</th>\n",
       "      <td>S Aravind</td>\n",
       "      <td>28</td>\n",
       "      <td>598</td>\n",
       "      <td>43</td>\n",
       "      <td>779</td>\n",
       "      <td>18.116279</td>\n",
       "      <td>13.906977</td>\n",
       "      <td>1.302676</td>\n",
       "      <td>0.055199</td>\n",
       "      <td>0.071906</td>\n",
       "      <td>0.767651</td>\n",
       "      <td>0.894756</td>\n",
       "      <td>3.352869</td>\n",
       "    </tr>\n",
       "    <tr>\n",
       "      <th>285</th>\n",
       "      <td>SR Watson</td>\n",
       "      <td>86</td>\n",
       "      <td>1796</td>\n",
       "      <td>95</td>\n",
       "      <td>2244</td>\n",
       "      <td>23.621053</td>\n",
       "      <td>18.905263</td>\n",
       "      <td>1.249443</td>\n",
       "      <td>0.042335</td>\n",
       "      <td>0.052895</td>\n",
       "      <td>0.800357</td>\n",
       "      <td>0.895587</td>\n",
       "      <td>3.349759</td>\n",
       "    </tr>\n",
       "    <tr>\n",
       "      <th>289</th>\n",
       "      <td>STR Binny</td>\n",
       "      <td>53</td>\n",
       "      <td>517</td>\n",
       "      <td>23</td>\n",
       "      <td>636</td>\n",
       "      <td>27.652174</td>\n",
       "      <td>22.478261</td>\n",
       "      <td>1.230174</td>\n",
       "      <td>0.036164</td>\n",
       "      <td>0.044487</td>\n",
       "      <td>0.812893</td>\n",
       "      <td>0.893544</td>\n",
       "      <td>3.357417</td>\n",
       "    </tr>\n",
       "    <tr>\n",
       "      <th>329</th>\n",
       "      <td>YS Chahal</td>\n",
       "      <td>42</td>\n",
       "      <td>948</td>\n",
       "      <td>58</td>\n",
       "      <td>1249</td>\n",
       "      <td>21.534483</td>\n",
       "      <td>16.344828</td>\n",
       "      <td>1.317511</td>\n",
       "      <td>0.046437</td>\n",
       "      <td>0.061181</td>\n",
       "      <td>0.759007</td>\n",
       "      <td>0.866626</td>\n",
       "      <td>3.461702</td>\n",
       "    </tr>\n",
       "  </tbody>\n",
       "</table>\n",
       "</div>"
      ],
      "text/plain": [
       "        bowler  matches  ballsbowled  wkts  runs  Avg(TR/Wkts)  \\\n",
       "247  S Aravind       28          598    43   779     18.116279   \n",
       "285  SR Watson       86         1796    95  2244     23.621053   \n",
       "289  STR Binny       53          517    23   636     27.652174   \n",
       "329  YS Chahal       42          948    58  1249     21.534483   \n",
       "\n",
       "     bowling_sr(bb/wkts)  economy_rate(runs/bb)  (1/bowling_avg)  \\\n",
       "247            13.906977               1.302676         0.055199   \n",
       "285            18.905263               1.249443         0.042335   \n",
       "289            22.478261               1.230174         0.036164   \n",
       "329            16.344828               1.317511         0.046437   \n",
       "\n",
       "     (1/bowling_sr)  (1/bowling_er)  bowling_sum  CombinedBowlingRate  \n",
       "247        0.071906        0.767651     0.894756             3.352869  \n",
       "285        0.052895        0.800357     0.895587             3.349759  \n",
       "289        0.044487        0.812893     0.893544             3.357417  \n",
       "329        0.061181        0.759007     0.866626             3.461702  "
      ]
     },
     "execution_count": 45,
     "metadata": {},
     "output_type": "execute_result"
    }
   ],
   "source": [
    "bowler[bowler['bowler'].isin(['TS Mills', 'A Choudhary', 'YS Chahal', 'S Aravind', 'SR Watson',\n",
    "       'TM Head', 'STR Binny'])]"
   ]
  },
  {
   "cell_type": "markdown",
   "metadata": {},
   "source": [
    "So we see that some players in RCB team have a bowling profile. Missing players are 'TS Mills','A Choudhary','TM Head'\n",
    "\n",
    "Bowler performance is represented by 'CombinedBowlingRate' column .so we calculate bowlers average through 'CombinedBowlingRate' column"
   ]
  },
  {
   "cell_type": "code",
   "execution_count": 46,
   "metadata": {},
   "outputs": [
    {
     "data": {
      "text/plain": [
       "3.3804365304040473"
      ]
     },
     "execution_count": 46,
     "metadata": {},
     "output_type": "execute_result"
    }
   ],
   "source": [
    "bowler[bowler['bowler'].isin(['TS Mills', 'A Choudhary', 'YS Chahal', 'S Aravind', 'SR Watson',\n",
    "       'TM Head', 'STR Binny'])]['CombinedBowlingRate'].agg('mean')"
   ]
  },
  {
   "cell_type": "markdown",
   "metadata": {},
   "source": [
    " # MI VS RPS"
   ]
  },
  {
   "cell_type": "markdown",
   "metadata": {},
   "source": [
    "checking match details"
   ]
  },
  {
   "cell_type": "code",
   "execution_count": 47,
   "metadata": {},
   "outputs": [
    {
     "data": {
      "text/html": [
       "<div>\n",
       "<style scoped>\n",
       "    .dataframe tbody tr th:only-of-type {\n",
       "        vertical-align: middle;\n",
       "    }\n",
       "\n",
       "    .dataframe tbody tr th {\n",
       "        vertical-align: top;\n",
       "    }\n",
       "\n",
       "    .dataframe thead th {\n",
       "        text-align: right;\n",
       "    }\n",
       "</style>\n",
       "<table border=\"1\" class=\"dataframe\">\n",
       "  <thead>\n",
       "    <tr style=\"text-align: right;\">\n",
       "      <th></th>\n",
       "      <th>id</th>\n",
       "      <th>season</th>\n",
       "      <th>city</th>\n",
       "      <th>date</th>\n",
       "      <th>team1</th>\n",
       "      <th>team2</th>\n",
       "      <th>toss_winner</th>\n",
       "      <th>toss_decision</th>\n",
       "      <th>result</th>\n",
       "      <th>dl_applied</th>\n",
       "      <th>winner</th>\n",
       "      <th>win_by_runs</th>\n",
       "      <th>win_by_wickets</th>\n",
       "      <th>player_of_match</th>\n",
       "      <th>venue</th>\n",
       "      <th>umpire1</th>\n",
       "      <th>umpire2</th>\n",
       "      <th>umpire3</th>\n",
       "    </tr>\n",
       "  </thead>\n",
       "  <tbody>\n",
       "    <tr>\n",
       "      <th>1</th>\n",
       "      <td>2</td>\n",
       "      <td>2017</td>\n",
       "      <td>Pune</td>\n",
       "      <td>2017-04-06</td>\n",
       "      <td>Mumbai Indians</td>\n",
       "      <td>Rising Pune Supergiant</td>\n",
       "      <td>Rising Pune Supergiant</td>\n",
       "      <td>field</td>\n",
       "      <td>normal</td>\n",
       "      <td>0</td>\n",
       "      <td>Rising Pune Supergiant</td>\n",
       "      <td>0</td>\n",
       "      <td>7</td>\n",
       "      <td>SPD Smith</td>\n",
       "      <td>Maharashtra Cricket Association Stadium</td>\n",
       "      <td>A Nand Kishore</td>\n",
       "      <td>S Ravi</td>\n",
       "      <td>NaN</td>\n",
       "    </tr>\n",
       "  </tbody>\n",
       "</table>\n",
       "</div>"
      ],
      "text/plain": [
       "   id  season  city        date           team1                   team2  \\\n",
       "1   2    2017  Pune  2017-04-06  Mumbai Indians  Rising Pune Supergiant   \n",
       "\n",
       "              toss_winner toss_decision  result  dl_applied  \\\n",
       "1  Rising Pune Supergiant         field  normal           0   \n",
       "\n",
       "                   winner  win_by_runs  win_by_wickets player_of_match  \\\n",
       "1  Rising Pune Supergiant            0               7       SPD Smith   \n",
       "\n",
       "                                     venue         umpire1 umpire2 umpire3  \n",
       "1  Maharashtra Cricket Association Stadium  A Nand Kishore  S Ravi     NaN  "
      ]
     },
     "execution_count": 47,
     "metadata": {},
     "output_type": "execute_result"
    }
   ],
   "source": [
    "matches[matches['id']==2]"
   ]
  },
  {
   "cell_type": "markdown",
   "metadata": {},
   "source": [
    "checking batsman names in RPS team"
   ]
  },
  {
   "cell_type": "code",
   "execution_count": 48,
   "metadata": {},
   "outputs": [
    {
     "data": {
      "text/plain": [
       "array(['AM Rahane', 'MA Agarwal', 'SPD Smith', 'BA Stokes', 'MS Dhoni'],\n",
       "      dtype=object)"
      ]
     },
     "execution_count": 48,
     "metadata": {},
     "output_type": "execute_result"
    }
   ],
   "source": [
    "deliveries_complete_data[(deliveries_complete_data['match_id']==2)&(deliveries_complete_data['batting_team']=='Rising Pune Supergiant')]['batsman'].unique()"
   ]
  },
  {
   "cell_type": "markdown",
   "metadata": {},
   "source": [
    "verifying if all batsman names are present in batsman profile table"
   ]
  },
  {
   "cell_type": "code",
   "execution_count": 49,
   "metadata": {},
   "outputs": [
    {
     "data": {
      "text/html": [
       "<div>\n",
       "<style scoped>\n",
       "    .dataframe tbody tr th:only-of-type {\n",
       "        vertical-align: middle;\n",
       "    }\n",
       "\n",
       "    .dataframe tbody tr th {\n",
       "        vertical-align: top;\n",
       "    }\n",
       "\n",
       "    .dataframe thead th {\n",
       "        text-align: right;\n",
       "    }\n",
       "</style>\n",
       "<table border=\"1\" class=\"dataframe\">\n",
       "  <thead>\n",
       "    <tr style=\"text-align: right;\">\n",
       "      <th></th>\n",
       "      <th>batsman</th>\n",
       "      <th>batting_played</th>\n",
       "      <th>player_dismissed</th>\n",
       "      <th>total_runs</th>\n",
       "      <th>HS</th>\n",
       "      <th>ballsfaced</th>\n",
       "      <th>4's</th>\n",
       "      <th>6's</th>\n",
       "      <th>Avg(TR/M)</th>\n",
       "      <th>SR(TR/BF)</th>\n",
       "      <th>battingAVG(tr/outs)</th>\n",
       "      <th>runs_by_balls(R/B)</th>\n",
       "      <th>Calc</th>\n",
       "    </tr>\n",
       "  </thead>\n",
       "  <tbody>\n",
       "    <tr>\n",
       "      <th>35</th>\n",
       "      <td>AM Rahane</td>\n",
       "      <td>89</td>\n",
       "      <td>76</td>\n",
       "      <td>2803</td>\n",
       "      <td>113</td>\n",
       "      <td>2274</td>\n",
       "      <td>290</td>\n",
       "      <td>51</td>\n",
       "      <td>31.494382</td>\n",
       "      <td>123.262973</td>\n",
       "      <td>36.881579</td>\n",
       "      <td>1.232630</td>\n",
       "      <td>45.461331</td>\n",
       "    </tr>\n",
       "    <tr>\n",
       "      <th>220</th>\n",
       "      <td>MA Agarwal</td>\n",
       "      <td>45</td>\n",
       "      <td>44</td>\n",
       "      <td>835</td>\n",
       "      <td>71</td>\n",
       "      <td>663</td>\n",
       "      <td>80</td>\n",
       "      <td>33</td>\n",
       "      <td>18.555556</td>\n",
       "      <td>125.942685</td>\n",
       "      <td>18.977273</td>\n",
       "      <td>1.259427</td>\n",
       "      <td>23.900487</td>\n",
       "    </tr>\n",
       "    <tr>\n",
       "      <th>244</th>\n",
       "      <td>MS Dhoni</td>\n",
       "      <td>128</td>\n",
       "      <td>92</td>\n",
       "      <td>3421</td>\n",
       "      <td>70</td>\n",
       "      <td>2419</td>\n",
       "      <td>240</td>\n",
       "      <td>140</td>\n",
       "      <td>26.726562</td>\n",
       "      <td>141.422075</td>\n",
       "      <td>37.184783</td>\n",
       "      <td>1.414221</td>\n",
       "      <td>52.587491</td>\n",
       "    </tr>\n",
       "    <tr>\n",
       "      <th>367</th>\n",
       "      <td>SPD Smith</td>\n",
       "      <td>47</td>\n",
       "      <td>38</td>\n",
       "      <td>1292</td>\n",
       "      <td>102</td>\n",
       "      <td>933</td>\n",
       "      <td>112</td>\n",
       "      <td>31</td>\n",
       "      <td>27.489362</td>\n",
       "      <td>138.478028</td>\n",
       "      <td>34.000000</td>\n",
       "      <td>1.384780</td>\n",
       "      <td>47.082529</td>\n",
       "    </tr>\n",
       "  </tbody>\n",
       "</table>\n",
       "</div>"
      ],
      "text/plain": [
       "        batsman  batting_played  player_dismissed  total_runs   HS  \\\n",
       "35    AM Rahane              89                76        2803  113   \n",
       "220  MA Agarwal              45                44         835   71   \n",
       "244    MS Dhoni             128                92        3421   70   \n",
       "367   SPD Smith              47                38        1292  102   \n",
       "\n",
       "     ballsfaced  4's  6's  Avg(TR/M)   SR(TR/BF)  battingAVG(tr/outs)  \\\n",
       "35         2274  290   51  31.494382  123.262973            36.881579   \n",
       "220         663   80   33  18.555556  125.942685            18.977273   \n",
       "244        2419  240  140  26.726562  141.422075            37.184783   \n",
       "367         933  112   31  27.489362  138.478028            34.000000   \n",
       "\n",
       "     runs_by_balls(R/B)       Calc  \n",
       "35             1.232630  45.461331  \n",
       "220            1.259427  23.900487  \n",
       "244            1.414221  52.587491  \n",
       "367            1.384780  47.082529  "
      ]
     },
     "execution_count": 49,
     "metadata": {},
     "output_type": "execute_result"
    }
   ],
   "source": [
    "batsman1[batsman1['batsman'].isin(['AM Rahane', 'MA Agarwal', 'SPD Smith', 'BA Stokes', 'MS Dhoni'])]"
   ]
  },
  {
   "cell_type": "markdown",
   "metadata": {},
   "source": [
    "So we see that all players in RPS team have a batting profile. Except one player is missing 'BA Stokes'\n",
    "\n",
    "\n",
    "Batsman performance is represented by 'Calc' column .so we calculate batsmans average through 'Calc' column\n",
    "\n"
   ]
  },
  {
   "cell_type": "code",
   "execution_count": 50,
   "metadata": {},
   "outputs": [
    {
     "data": {
      "text/plain": [
       "42.25795952075569"
      ]
     },
     "execution_count": 50,
     "metadata": {},
     "output_type": "execute_result"
    }
   ],
   "source": [
    "batsman1[batsman1['batsman'].isin(['AM Rahane', 'MA Agarwal', 'SPD Smith', 'BA Stokes', 'MS Dhoni'])]['Calc'].agg('mean')"
   ]
  },
  {
   "cell_type": "markdown",
   "metadata": {},
   "source": [
    "checking batsman names in MI team"
   ]
  },
  {
   "cell_type": "code",
   "execution_count": 51,
   "metadata": {},
   "outputs": [
    {
     "data": {
      "text/plain": [
       "array(['PA Patel', 'JC Buttler', 'RG Sharma', 'N Rana', 'AT Rayudu',\n",
       "       'KH Pandya', 'KA Pollard', 'HH Pandya', 'TG Southee'], dtype=object)"
      ]
     },
     "execution_count": 51,
     "metadata": {},
     "output_type": "execute_result"
    }
   ],
   "source": [
    "deliveries_complete_data[(deliveries_complete_data['match_id']==2)&(deliveries_complete_data['batting_team']=='Mumbai Indians')]['batsman'].unique()"
   ]
  },
  {
   "cell_type": "markdown",
   "metadata": {},
   "source": [
    "verifying if all batsman names are present in batsman profile table\n",
    "\n"
   ]
  },
  {
   "cell_type": "code",
   "execution_count": 52,
   "metadata": {},
   "outputs": [
    {
     "data": {
      "text/html": [
       "<div>\n",
       "<style scoped>\n",
       "    .dataframe tbody tr th:only-of-type {\n",
       "        vertical-align: middle;\n",
       "    }\n",
       "\n",
       "    .dataframe tbody tr th {\n",
       "        vertical-align: top;\n",
       "    }\n",
       "\n",
       "    .dataframe thead th {\n",
       "        text-align: right;\n",
       "    }\n",
       "</style>\n",
       "<table border=\"1\" class=\"dataframe\">\n",
       "  <thead>\n",
       "    <tr style=\"text-align: right;\">\n",
       "      <th></th>\n",
       "      <th>batsman</th>\n",
       "      <th>batting_played</th>\n",
       "      <th>player_dismissed</th>\n",
       "      <th>total_runs</th>\n",
       "      <th>HS</th>\n",
       "      <th>ballsfaced</th>\n",
       "      <th>4's</th>\n",
       "      <th>6's</th>\n",
       "      <th>Avg(TR/M)</th>\n",
       "      <th>SR(TR/BF)</th>\n",
       "      <th>battingAVG(tr/outs)</th>\n",
       "      <th>runs_by_balls(R/B)</th>\n",
       "      <th>Calc</th>\n",
       "    </tr>\n",
       "  </thead>\n",
       "  <tbody>\n",
       "    <tr>\n",
       "      <th>45</th>\n",
       "      <td>AT Rayudu</td>\n",
       "      <td>100</td>\n",
       "      <td>82</td>\n",
       "      <td>2424</td>\n",
       "      <td>86</td>\n",
       "      <td>1884</td>\n",
       "      <td>199</td>\n",
       "      <td>76</td>\n",
       "      <td>24.240000</td>\n",
       "      <td>128.662420</td>\n",
       "      <td>29.560976</td>\n",
       "      <td>1.286624</td>\n",
       "      <td>38.033867</td>\n",
       "    </tr>\n",
       "    <tr>\n",
       "      <th>137</th>\n",
       "      <td>HH Pandya</td>\n",
       "      <td>17</td>\n",
       "      <td>12</td>\n",
       "      <td>177</td>\n",
       "      <td>67</td>\n",
       "      <td>134</td>\n",
       "      <td>13</td>\n",
       "      <td>8</td>\n",
       "      <td>10.411765</td>\n",
       "      <td>132.089552</td>\n",
       "      <td>14.750000</td>\n",
       "      <td>1.320896</td>\n",
       "      <td>19.483209</td>\n",
       "    </tr>\n",
       "    <tr>\n",
       "      <th>158</th>\n",
       "      <td>JC Buttler</td>\n",
       "      <td>14</td>\n",
       "      <td>11</td>\n",
       "      <td>264</td>\n",
       "      <td>41</td>\n",
       "      <td>189</td>\n",
       "      <td>23</td>\n",
       "      <td>11</td>\n",
       "      <td>18.857143</td>\n",
       "      <td>139.682540</td>\n",
       "      <td>24.000000</td>\n",
       "      <td>1.396825</td>\n",
       "      <td>33.523810</td>\n",
       "    </tr>\n",
       "    <tr>\n",
       "      <th>177</th>\n",
       "      <td>KA Pollard</td>\n",
       "      <td>96</td>\n",
       "      <td>71</td>\n",
       "      <td>2073</td>\n",
       "      <td>80</td>\n",
       "      <td>1380</td>\n",
       "      <td>132</td>\n",
       "      <td>124</td>\n",
       "      <td>21.593750</td>\n",
       "      <td>150.217391</td>\n",
       "      <td>29.197183</td>\n",
       "      <td>1.502174</td>\n",
       "      <td>43.859247</td>\n",
       "    </tr>\n",
       "    <tr>\n",
       "      <th>183</th>\n",
       "      <td>KH Pandya</td>\n",
       "      <td>8</td>\n",
       "      <td>5</td>\n",
       "      <td>241</td>\n",
       "      <td>87</td>\n",
       "      <td>127</td>\n",
       "      <td>22</td>\n",
       "      <td>13</td>\n",
       "      <td>30.125000</td>\n",
       "      <td>189.763780</td>\n",
       "      <td>48.200000</td>\n",
       "      <td>1.897638</td>\n",
       "      <td>91.466142</td>\n",
       "    </tr>\n",
       "    <tr>\n",
       "      <th>255</th>\n",
       "      <td>N Rana</td>\n",
       "      <td>3</td>\n",
       "      <td>3</td>\n",
       "      <td>110</td>\n",
       "      <td>73</td>\n",
       "      <td>78</td>\n",
       "      <td>6</td>\n",
       "      <td>8</td>\n",
       "      <td>36.666667</td>\n",
       "      <td>141.025641</td>\n",
       "      <td>36.666667</td>\n",
       "      <td>1.410256</td>\n",
       "      <td>51.709402</td>\n",
       "    </tr>\n",
       "    <tr>\n",
       "      <th>273</th>\n",
       "      <td>PA Patel</td>\n",
       "      <td>100</td>\n",
       "      <td>89</td>\n",
       "      <td>2063</td>\n",
       "      <td>85</td>\n",
       "      <td>1752</td>\n",
       "      <td>250</td>\n",
       "      <td>27</td>\n",
       "      <td>20.630000</td>\n",
       "      <td>117.751142</td>\n",
       "      <td>23.179775</td>\n",
       "      <td>1.177511</td>\n",
       "      <td>27.294450</td>\n",
       "    </tr>\n",
       "    <tr>\n",
       "      <th>305</th>\n",
       "      <td>RG Sharma</td>\n",
       "      <td>137</td>\n",
       "      <td>121</td>\n",
       "      <td>3985</td>\n",
       "      <td>113</td>\n",
       "      <td>2996</td>\n",
       "      <td>321</td>\n",
       "      <td>163</td>\n",
       "      <td>29.087591</td>\n",
       "      <td>133.010681</td>\n",
       "      <td>32.933884</td>\n",
       "      <td>1.330107</td>\n",
       "      <td>43.805584</td>\n",
       "    </tr>\n",
       "    <tr>\n",
       "      <th>396</th>\n",
       "      <td>TG Southee</td>\n",
       "      <td>7</td>\n",
       "      <td>4</td>\n",
       "      <td>50</td>\n",
       "      <td>28</td>\n",
       "      <td>33</td>\n",
       "      <td>3</td>\n",
       "      <td>2</td>\n",
       "      <td>7.142857</td>\n",
       "      <td>151.515152</td>\n",
       "      <td>12.500000</td>\n",
       "      <td>1.515152</td>\n",
       "      <td>18.939394</td>\n",
       "    </tr>\n",
       "  </tbody>\n",
       "</table>\n",
       "</div>"
      ],
      "text/plain": [
       "        batsman  batting_played  player_dismissed  total_runs   HS  \\\n",
       "45    AT Rayudu             100                82        2424   86   \n",
       "137   HH Pandya              17                12         177   67   \n",
       "158  JC Buttler              14                11         264   41   \n",
       "177  KA Pollard              96                71        2073   80   \n",
       "183   KH Pandya               8                 5         241   87   \n",
       "255      N Rana               3                 3         110   73   \n",
       "273    PA Patel             100                89        2063   85   \n",
       "305   RG Sharma             137               121        3985  113   \n",
       "396  TG Southee               7                 4          50   28   \n",
       "\n",
       "     ballsfaced  4's  6's  Avg(TR/M)   SR(TR/BF)  battingAVG(tr/outs)  \\\n",
       "45         1884  199   76  24.240000  128.662420            29.560976   \n",
       "137         134   13    8  10.411765  132.089552            14.750000   \n",
       "158         189   23   11  18.857143  139.682540            24.000000   \n",
       "177        1380  132  124  21.593750  150.217391            29.197183   \n",
       "183         127   22   13  30.125000  189.763780            48.200000   \n",
       "255          78    6    8  36.666667  141.025641            36.666667   \n",
       "273        1752  250   27  20.630000  117.751142            23.179775   \n",
       "305        2996  321  163  29.087591  133.010681            32.933884   \n",
       "396          33    3    2   7.142857  151.515152            12.500000   \n",
       "\n",
       "     runs_by_balls(R/B)       Calc  \n",
       "45             1.286624  38.033867  \n",
       "137            1.320896  19.483209  \n",
       "158            1.396825  33.523810  \n",
       "177            1.502174  43.859247  \n",
       "183            1.897638  91.466142  \n",
       "255            1.410256  51.709402  \n",
       "273            1.177511  27.294450  \n",
       "305            1.330107  43.805584  \n",
       "396            1.515152  18.939394  "
      ]
     },
     "execution_count": 52,
     "metadata": {},
     "output_type": "execute_result"
    }
   ],
   "source": [
    "batsman1[batsman1['batsman'].isin(['PA Patel', 'JC Buttler', 'RG Sharma', 'N Rana', 'AT Rayudu',\n",
    "       'KH Pandya', 'KA Pollard', 'HH Pandya', 'TG Southee'])]"
   ]
  },
  {
   "cell_type": "markdown",
   "metadata": {},
   "source": [
    "So we see that all players in MI team have a batting profile. Meaning there is no new player is missing here\n",
    "\n",
    "Batsman performance is represented by 'Calc' column .so we calculate batsmans average through 'Calc' column\n",
    "\n"
   ]
  },
  {
   "cell_type": "code",
   "execution_count": 53,
   "metadata": {},
   "outputs": [
    {
     "data": {
      "text/plain": [
       "40.901678123263835"
      ]
     },
     "execution_count": 53,
     "metadata": {},
     "output_type": "execute_result"
    }
   ],
   "source": [
    "batsman1[batsman1['batsman'].isin(['PA Patel', 'JC Buttler', 'RG Sharma', 'N Rana', 'AT Rayudu',\n",
    "       'KH Pandya', 'KA Pollard', 'HH Pandya', 'TG Southee'])]['Calc'].agg('mean')"
   ]
  },
  {
   "cell_type": "markdown",
   "metadata": {},
   "source": [
    "checking bowler names in RPS team"
   ]
  },
  {
   "cell_type": "code",
   "execution_count": 54,
   "metadata": {},
   "outputs": [
    {
     "data": {
      "text/plain": [
       "array(['AB Dinda', 'DL Chahar', 'BA Stokes', 'Imran Tahir', 'A Zampa',\n",
       "       'R Bhatia'], dtype=object)"
      ]
     },
     "execution_count": 54,
     "metadata": {},
     "output_type": "execute_result"
    }
   ],
   "source": [
    "deliveries_complete_data[(deliveries_complete_data['match_id']==2)&(deliveries_complete_data['bowling_team']=='Rising Pune Supergiant')]['bowler'].unique()"
   ]
  },
  {
   "cell_type": "markdown",
   "metadata": {},
   "source": [
    "verifying if all bowler names are present in bowler profile table"
   ]
  },
  {
   "cell_type": "code",
   "execution_count": 55,
   "metadata": {},
   "outputs": [
    {
     "data": {
      "text/html": [
       "<div>\n",
       "<style scoped>\n",
       "    .dataframe tbody tr th:only-of-type {\n",
       "        vertical-align: middle;\n",
       "    }\n",
       "\n",
       "    .dataframe tbody tr th {\n",
       "        vertical-align: top;\n",
       "    }\n",
       "\n",
       "    .dataframe thead th {\n",
       "        text-align: right;\n",
       "    }\n",
       "</style>\n",
       "<table border=\"1\" class=\"dataframe\">\n",
       "  <thead>\n",
       "    <tr style=\"text-align: right;\">\n",
       "      <th></th>\n",
       "      <th>bowler</th>\n",
       "      <th>matches</th>\n",
       "      <th>ballsbowled</th>\n",
       "      <th>wkts</th>\n",
       "      <th>runs</th>\n",
       "      <th>Avg(TR/Wkts)</th>\n",
       "      <th>bowling_sr(bb/wkts)</th>\n",
       "      <th>economy_rate(runs/bb)</th>\n",
       "      <th>(1/bowling_avg)</th>\n",
       "      <th>(1/bowling_sr)</th>\n",
       "      <th>(1/bowling_er)</th>\n",
       "      <th>bowling_sum</th>\n",
       "      <th>CombinedBowlingRate</th>\n",
       "    </tr>\n",
       "  </thead>\n",
       "  <tbody>\n",
       "    <tr>\n",
       "      <th>11</th>\n",
       "      <td>A Zampa</td>\n",
       "      <td>5</td>\n",
       "      <td>103</td>\n",
       "      <td>12</td>\n",
       "      <td>117</td>\n",
       "      <td>9.750000</td>\n",
       "      <td>8.583333</td>\n",
       "      <td>1.135922</td>\n",
       "      <td>0.102564</td>\n",
       "      <td>0.116505</td>\n",
       "      <td>0.880342</td>\n",
       "      <td>1.099411</td>\n",
       "      <td>2.728734</td>\n",
       "    </tr>\n",
       "    <tr>\n",
       "      <th>17</th>\n",
       "      <td>AB Dinda</td>\n",
       "      <td>72</td>\n",
       "      <td>1524</td>\n",
       "      <td>80</td>\n",
       "      <td>1982</td>\n",
       "      <td>24.775000</td>\n",
       "      <td>19.050000</td>\n",
       "      <td>1.300525</td>\n",
       "      <td>0.040363</td>\n",
       "      <td>0.052493</td>\n",
       "      <td>0.768920</td>\n",
       "      <td>0.861777</td>\n",
       "      <td>3.481179</td>\n",
       "    </tr>\n",
       "    <tr>\n",
       "      <th>86</th>\n",
       "      <td>DL Chahar</td>\n",
       "      <td>2</td>\n",
       "      <td>33</td>\n",
       "      <td>0</td>\n",
       "      <td>42</td>\n",
       "      <td>inf</td>\n",
       "      <td>inf</td>\n",
       "      <td>1.272727</td>\n",
       "      <td>0.000000</td>\n",
       "      <td>0.000000</td>\n",
       "      <td>0.785714</td>\n",
       "      <td>0.785714</td>\n",
       "      <td>3.818182</td>\n",
       "    </tr>\n",
       "    <tr>\n",
       "      <th>115</th>\n",
       "      <td>Imran Tahir</td>\n",
       "      <td>20</td>\n",
       "      <td>448</td>\n",
       "      <td>31</td>\n",
       "      <td>632</td>\n",
       "      <td>20.387097</td>\n",
       "      <td>14.451613</td>\n",
       "      <td>1.410714</td>\n",
       "      <td>0.049051</td>\n",
       "      <td>0.069196</td>\n",
       "      <td>0.708861</td>\n",
       "      <td>0.827108</td>\n",
       "      <td>3.627097</td>\n",
       "    </tr>\n",
       "    <tr>\n",
       "      <th>220</th>\n",
       "      <td>R Bhatia</td>\n",
       "      <td>88</td>\n",
       "      <td>1618</td>\n",
       "      <td>80</td>\n",
       "      <td>2004</td>\n",
       "      <td>25.050000</td>\n",
       "      <td>20.225000</td>\n",
       "      <td>1.238566</td>\n",
       "      <td>0.039920</td>\n",
       "      <td>0.049444</td>\n",
       "      <td>0.807385</td>\n",
       "      <td>0.896749</td>\n",
       "      <td>3.345417</td>\n",
       "    </tr>\n",
       "  </tbody>\n",
       "</table>\n",
       "</div>"
      ],
      "text/plain": [
       "          bowler  matches  ballsbowled  wkts  runs  Avg(TR/Wkts)  \\\n",
       "11       A Zampa        5          103    12   117      9.750000   \n",
       "17      AB Dinda       72         1524    80  1982     24.775000   \n",
       "86     DL Chahar        2           33     0    42           inf   \n",
       "115  Imran Tahir       20          448    31   632     20.387097   \n",
       "220     R Bhatia       88         1618    80  2004     25.050000   \n",
       "\n",
       "     bowling_sr(bb/wkts)  economy_rate(runs/bb)  (1/bowling_avg)  \\\n",
       "11              8.583333               1.135922         0.102564   \n",
       "17             19.050000               1.300525         0.040363   \n",
       "86                   inf               1.272727         0.000000   \n",
       "115            14.451613               1.410714         0.049051   \n",
       "220            20.225000               1.238566         0.039920   \n",
       "\n",
       "     (1/bowling_sr)  (1/bowling_er)  bowling_sum  CombinedBowlingRate  \n",
       "11         0.116505        0.880342     1.099411             2.728734  \n",
       "17         0.052493        0.768920     0.861777             3.481179  \n",
       "86         0.000000        0.785714     0.785714             3.818182  \n",
       "115        0.069196        0.708861     0.827108             3.627097  \n",
       "220        0.049444        0.807385     0.896749             3.345417  "
      ]
     },
     "execution_count": 55,
     "metadata": {},
     "output_type": "execute_result"
    }
   ],
   "source": [
    "bowler[bowler['bowler'].isin(['AB Dinda', 'DL Chahar', 'BA Stokes', 'Imran Tahir', 'A Zampa',\n",
    "       'R Bhatia'])]"
   ]
  },
  {
   "cell_type": "markdown",
   "metadata": {},
   "source": [
    "So we see that all players in RPS team have a bowling profile. Except one player is missing 'BA Stokes'\n",
    "\n",
    "Bowler performance is represented by 'CombinedBowlingRate' column .so we calculate bowlers average through 'CombinedBowlingRate' column"
   ]
  },
  {
   "cell_type": "code",
   "execution_count": 56,
   "metadata": {},
   "outputs": [
    {
     "data": {
      "text/plain": [
       "3.400121785310565"
      ]
     },
     "execution_count": 56,
     "metadata": {},
     "output_type": "execute_result"
    }
   ],
   "source": [
    "bowler[bowler['bowler'].isin(['AB Dinda', 'DL Chahar', 'BA Stokes', 'Imran Tahir', 'A Zampa',\n",
    "       'R Bhatia'])]['CombinedBowlingRate'].agg('mean')"
   ]
  },
  {
   "cell_type": "markdown",
   "metadata": {},
   "source": [
    "checking bowler names in MI team\n",
    "\n"
   ]
  },
  {
   "cell_type": "code",
   "execution_count": 57,
   "metadata": {},
   "outputs": [
    {
     "data": {
      "text/plain": [
       "array(['TG Southee', 'HH Pandya', 'MJ McClenaghan', 'JJ Bumrah',\n",
       "       'KH Pandya', 'KA Pollard'], dtype=object)"
      ]
     },
     "execution_count": 57,
     "metadata": {},
     "output_type": "execute_result"
    }
   ],
   "source": [
    "deliveries_complete_data[(deliveries_complete_data['match_id']==2)&(deliveries_complete_data['bowling_team']=='Mumbai Indians')]['bowler'].unique()"
   ]
  },
  {
   "cell_type": "markdown",
   "metadata": {},
   "source": [
    "verifying if all bowler names are present in bowler profile table"
   ]
  },
  {
   "cell_type": "code",
   "execution_count": 58,
   "metadata": {},
   "outputs": [
    {
     "data": {
      "text/html": [
       "<div>\n",
       "<style scoped>\n",
       "    .dataframe tbody tr th:only-of-type {\n",
       "        vertical-align: middle;\n",
       "    }\n",
       "\n",
       "    .dataframe tbody tr th {\n",
       "        vertical-align: top;\n",
       "    }\n",
       "\n",
       "    .dataframe thead th {\n",
       "        text-align: right;\n",
       "    }\n",
       "</style>\n",
       "<table border=\"1\" class=\"dataframe\">\n",
       "  <thead>\n",
       "    <tr style=\"text-align: right;\">\n",
       "      <th></th>\n",
       "      <th>bowler</th>\n",
       "      <th>matches</th>\n",
       "      <th>ballsbowled</th>\n",
       "      <th>wkts</th>\n",
       "      <th>runs</th>\n",
       "      <th>Avg(TR/Wkts)</th>\n",
       "      <th>bowling_sr(bb/wkts)</th>\n",
       "      <th>economy_rate(runs/bb)</th>\n",
       "      <th>(1/bowling_avg)</th>\n",
       "      <th>(1/bowling_sr)</th>\n",
       "      <th>(1/bowling_er)</th>\n",
       "      <th>bowling_sum</th>\n",
       "      <th>CombinedBowlingRate</th>\n",
       "    </tr>\n",
       "  </thead>\n",
       "  <tbody>\n",
       "    <tr>\n",
       "      <th>106</th>\n",
       "      <td>HH Pandya</td>\n",
       "      <td>18</td>\n",
       "      <td>213</td>\n",
       "      <td>4</td>\n",
       "      <td>333</td>\n",
       "      <td>83.250000</td>\n",
       "      <td>53.250000</td>\n",
       "      <td>1.563380</td>\n",
       "      <td>0.012012</td>\n",
       "      <td>0.018779</td>\n",
       "      <td>0.639640</td>\n",
       "      <td>0.670431</td>\n",
       "      <td>4.474733</td>\n",
       "    </tr>\n",
       "    <tr>\n",
       "      <th>130</th>\n",
       "      <td>JJ Bumrah</td>\n",
       "      <td>31</td>\n",
       "      <td>711</td>\n",
       "      <td>30</td>\n",
       "      <td>978</td>\n",
       "      <td>32.600000</td>\n",
       "      <td>23.700000</td>\n",
       "      <td>1.375527</td>\n",
       "      <td>0.030675</td>\n",
       "      <td>0.042194</td>\n",
       "      <td>0.726994</td>\n",
       "      <td>0.799863</td>\n",
       "      <td>3.750643</td>\n",
       "    </tr>\n",
       "    <tr>\n",
       "      <th>143</th>\n",
       "      <td>KA Pollard</td>\n",
       "      <td>80</td>\n",
       "      <td>1264</td>\n",
       "      <td>67</td>\n",
       "      <td>1755</td>\n",
       "      <td>26.194030</td>\n",
       "      <td>18.865672</td>\n",
       "      <td>1.388449</td>\n",
       "      <td>0.038177</td>\n",
       "      <td>0.053006</td>\n",
       "      <td>0.720228</td>\n",
       "      <td>0.811411</td>\n",
       "      <td>3.697264</td>\n",
       "    </tr>\n",
       "    <tr>\n",
       "      <th>146</th>\n",
       "      <td>KH Pandya</td>\n",
       "      <td>11</td>\n",
       "      <td>194</td>\n",
       "      <td>7</td>\n",
       "      <td>238</td>\n",
       "      <td>34.000000</td>\n",
       "      <td>27.714286</td>\n",
       "      <td>1.226804</td>\n",
       "      <td>0.029412</td>\n",
       "      <td>0.036082</td>\n",
       "      <td>0.815126</td>\n",
       "      <td>0.880620</td>\n",
       "      <td>3.406690</td>\n",
       "    </tr>\n",
       "    <tr>\n",
       "      <th>182</th>\n",
       "      <td>MJ McClenaghan</td>\n",
       "      <td>26</td>\n",
       "      <td>637</td>\n",
       "      <td>36</td>\n",
       "      <td>844</td>\n",
       "      <td>23.444444</td>\n",
       "      <td>17.694444</td>\n",
       "      <td>1.324961</td>\n",
       "      <td>0.042654</td>\n",
       "      <td>0.056515</td>\n",
       "      <td>0.754739</td>\n",
       "      <td>0.853908</td>\n",
       "      <td>3.513258</td>\n",
       "    </tr>\n",
       "    <tr>\n",
       "      <th>306</th>\n",
       "      <td>TG Southee</td>\n",
       "      <td>26</td>\n",
       "      <td>625</td>\n",
       "      <td>22</td>\n",
       "      <td>833</td>\n",
       "      <td>37.863636</td>\n",
       "      <td>28.409091</td>\n",
       "      <td>1.332800</td>\n",
       "      <td>0.026411</td>\n",
       "      <td>0.035200</td>\n",
       "      <td>0.750300</td>\n",
       "      <td>0.811911</td>\n",
       "      <td>3.694988</td>\n",
       "    </tr>\n",
       "  </tbody>\n",
       "</table>\n",
       "</div>"
      ],
      "text/plain": [
       "             bowler  matches  ballsbowled  wkts  runs  Avg(TR/Wkts)  \\\n",
       "106       HH Pandya       18          213     4   333     83.250000   \n",
       "130       JJ Bumrah       31          711    30   978     32.600000   \n",
       "143      KA Pollard       80         1264    67  1755     26.194030   \n",
       "146       KH Pandya       11          194     7   238     34.000000   \n",
       "182  MJ McClenaghan       26          637    36   844     23.444444   \n",
       "306      TG Southee       26          625    22   833     37.863636   \n",
       "\n",
       "     bowling_sr(bb/wkts)  economy_rate(runs/bb)  (1/bowling_avg)  \\\n",
       "106            53.250000               1.563380         0.012012   \n",
       "130            23.700000               1.375527         0.030675   \n",
       "143            18.865672               1.388449         0.038177   \n",
       "146            27.714286               1.226804         0.029412   \n",
       "182            17.694444               1.324961         0.042654   \n",
       "306            28.409091               1.332800         0.026411   \n",
       "\n",
       "     (1/bowling_sr)  (1/bowling_er)  bowling_sum  CombinedBowlingRate  \n",
       "106        0.018779        0.639640     0.670431             4.474733  \n",
       "130        0.042194        0.726994     0.799863             3.750643  \n",
       "143        0.053006        0.720228     0.811411             3.697264  \n",
       "146        0.036082        0.815126     0.880620             3.406690  \n",
       "182        0.056515        0.754739     0.853908             3.513258  \n",
       "306        0.035200        0.750300     0.811911             3.694988  "
      ]
     },
     "execution_count": 58,
     "metadata": {},
     "output_type": "execute_result"
    }
   ],
   "source": [
    "bowler[bowler['bowler'].isin(['TG Southee', 'HH Pandya', 'MJ McClenaghan', 'JJ Bumrah',\n",
    "       'KH Pandya', 'KA Pollard'])]"
   ]
  },
  {
   "cell_type": "markdown",
   "metadata": {},
   "source": [
    "So we see that all players in MI team have a bowling profile. Meaning there is no player is missing here\n",
    "\n",
    "Bowler performance is represented by 'CombinedBowlingRate' column .so we calculate bowlers average through 'CombinedBowlingRate' column\n",
    "\n"
   ]
  },
  {
   "cell_type": "code",
   "execution_count": 59,
   "metadata": {},
   "outputs": [
    {
     "data": {
      "text/plain": [
       "3.7562625948912167"
      ]
     },
     "execution_count": 59,
     "metadata": {},
     "output_type": "execute_result"
    }
   ],
   "source": [
    "bowler[bowler['bowler'].isin(['TG Southee', 'HH Pandya', 'MJ McClenaghan', 'JJ Bumrah',\n",
    "       'KH Pandya', 'KA Pollard'])]['CombinedBowlingRate'].agg('mean')"
   ]
  },
  {
   "cell_type": "markdown",
   "metadata": {},
   "source": [
    "# GL VS KKR"
   ]
  },
  {
   "cell_type": "markdown",
   "metadata": {},
   "source": [
    "checking match details"
   ]
  },
  {
   "cell_type": "code",
   "execution_count": 60,
   "metadata": {},
   "outputs": [
    {
     "data": {
      "text/html": [
       "<div>\n",
       "<style scoped>\n",
       "    .dataframe tbody tr th:only-of-type {\n",
       "        vertical-align: middle;\n",
       "    }\n",
       "\n",
       "    .dataframe tbody tr th {\n",
       "        vertical-align: top;\n",
       "    }\n",
       "\n",
       "    .dataframe thead th {\n",
       "        text-align: right;\n",
       "    }\n",
       "</style>\n",
       "<table border=\"1\" class=\"dataframe\">\n",
       "  <thead>\n",
       "    <tr style=\"text-align: right;\">\n",
       "      <th></th>\n",
       "      <th>id</th>\n",
       "      <th>season</th>\n",
       "      <th>city</th>\n",
       "      <th>date</th>\n",
       "      <th>team1</th>\n",
       "      <th>team2</th>\n",
       "      <th>toss_winner</th>\n",
       "      <th>toss_decision</th>\n",
       "      <th>result</th>\n",
       "      <th>dl_applied</th>\n",
       "      <th>winner</th>\n",
       "      <th>win_by_runs</th>\n",
       "      <th>win_by_wickets</th>\n",
       "      <th>player_of_match</th>\n",
       "      <th>venue</th>\n",
       "      <th>umpire1</th>\n",
       "      <th>umpire2</th>\n",
       "      <th>umpire3</th>\n",
       "    </tr>\n",
       "  </thead>\n",
       "  <tbody>\n",
       "    <tr>\n",
       "      <th>2</th>\n",
       "      <td>3</td>\n",
       "      <td>2017</td>\n",
       "      <td>Rajkot</td>\n",
       "      <td>2017-04-07</td>\n",
       "      <td>Gujarat Lions</td>\n",
       "      <td>Kolkata Knight Riders</td>\n",
       "      <td>Kolkata Knight Riders</td>\n",
       "      <td>field</td>\n",
       "      <td>normal</td>\n",
       "      <td>0</td>\n",
       "      <td>Kolkata Knight Riders</td>\n",
       "      <td>0</td>\n",
       "      <td>10</td>\n",
       "      <td>CA Lynn</td>\n",
       "      <td>Saurashtra Cricket Association Stadium</td>\n",
       "      <td>Nitin Menon</td>\n",
       "      <td>CK Nandan</td>\n",
       "      <td>NaN</td>\n",
       "    </tr>\n",
       "  </tbody>\n",
       "</table>\n",
       "</div>"
      ],
      "text/plain": [
       "   id  season    city        date          team1                  team2  \\\n",
       "2   3    2017  Rajkot  2017-04-07  Gujarat Lions  Kolkata Knight Riders   \n",
       "\n",
       "             toss_winner toss_decision  result  dl_applied  \\\n",
       "2  Kolkata Knight Riders         field  normal           0   \n",
       "\n",
       "                  winner  win_by_runs  win_by_wickets player_of_match  \\\n",
       "2  Kolkata Knight Riders            0              10         CA Lynn   \n",
       "\n",
       "                                    venue      umpire1    umpire2 umpire3  \n",
       "2  Saurashtra Cricket Association Stadium  Nitin Menon  CK Nandan     NaN  "
      ]
     },
     "execution_count": 60,
     "metadata": {},
     "output_type": "execute_result"
    }
   ],
   "source": [
    "matches[matches['id']==3]"
   ]
  },
  {
   "cell_type": "markdown",
   "metadata": {},
   "source": [
    "checking batsman names in GL team\n",
    "\n"
   ]
  },
  {
   "cell_type": "code",
   "execution_count": 61,
   "metadata": {},
   "outputs": [
    {
     "data": {
      "text/plain": [
       "array(['JJ Roy', 'BB McCullum', 'SK Raina', 'AJ Finch', 'KD Karthik'],\n",
       "      dtype=object)"
      ]
     },
     "execution_count": 61,
     "metadata": {},
     "output_type": "execute_result"
    }
   ],
   "source": [
    "deliveries_complete_data[(deliveries_complete_data['match_id']==3)&(deliveries_complete_data['batting_team']=='Gujarat Lions')]['batsman'].unique()"
   ]
  },
  {
   "cell_type": "markdown",
   "metadata": {},
   "source": [
    "verifying if all batsman names are present in batsman profile table\n",
    "\n"
   ]
  },
  {
   "cell_type": "code",
   "execution_count": 62,
   "metadata": {},
   "outputs": [
    {
     "data": {
      "text/html": [
       "<div>\n",
       "<style scoped>\n",
       "    .dataframe tbody tr th:only-of-type {\n",
       "        vertical-align: middle;\n",
       "    }\n",
       "\n",
       "    .dataframe tbody tr th {\n",
       "        vertical-align: top;\n",
       "    }\n",
       "\n",
       "    .dataframe thead th {\n",
       "        text-align: right;\n",
       "    }\n",
       "</style>\n",
       "<table border=\"1\" class=\"dataframe\">\n",
       "  <thead>\n",
       "    <tr style=\"text-align: right;\">\n",
       "      <th></th>\n",
       "      <th>batsman</th>\n",
       "      <th>batting_played</th>\n",
       "      <th>player_dismissed</th>\n",
       "      <th>total_runs</th>\n",
       "      <th>HS</th>\n",
       "      <th>ballsfaced</th>\n",
       "      <th>4's</th>\n",
       "      <th>6's</th>\n",
       "      <th>Avg(TR/M)</th>\n",
       "      <th>SR(TR/BF)</th>\n",
       "      <th>battingAVG(tr/outs)</th>\n",
       "      <th>runs_by_balls(R/B)</th>\n",
       "      <th>Calc</th>\n",
       "    </tr>\n",
       "  </thead>\n",
       "  <tbody>\n",
       "    <tr>\n",
       "      <th>32</th>\n",
       "      <td>AJ Finch</td>\n",
       "      <td>51</td>\n",
       "      <td>46</td>\n",
       "      <td>1386</td>\n",
       "      <td>90</td>\n",
       "      <td>1080</td>\n",
       "      <td>147</td>\n",
       "      <td>40</td>\n",
       "      <td>27.176471</td>\n",
       "      <td>128.333333</td>\n",
       "      <td>30.130435</td>\n",
       "      <td>1.283333</td>\n",
       "      <td>38.667391</td>\n",
       "    </tr>\n",
       "    <tr>\n",
       "      <th>60</th>\n",
       "      <td>BB McCullum</td>\n",
       "      <td>92</td>\n",
       "      <td>89</td>\n",
       "      <td>2631</td>\n",
       "      <td>169</td>\n",
       "      <td>1954</td>\n",
       "      <td>249</td>\n",
       "      <td>105</td>\n",
       "      <td>28.597826</td>\n",
       "      <td>134.646878</td>\n",
       "      <td>29.561798</td>\n",
       "      <td>1.346469</td>\n",
       "      <td>39.804038</td>\n",
       "    </tr>\n",
       "    <tr>\n",
       "      <th>182</th>\n",
       "      <td>KD Karthik</td>\n",
       "      <td>121</td>\n",
       "      <td>112</td>\n",
       "      <td>2656</td>\n",
       "      <td>91</td>\n",
       "      <td>2092</td>\n",
       "      <td>257</td>\n",
       "      <td>60</td>\n",
       "      <td>21.950413</td>\n",
       "      <td>126.959847</td>\n",
       "      <td>23.714286</td>\n",
       "      <td>1.269598</td>\n",
       "      <td>30.107621</td>\n",
       "    </tr>\n",
       "    <tr>\n",
       "      <th>354</th>\n",
       "      <td>SK Raina</td>\n",
       "      <td>143</td>\n",
       "      <td>122</td>\n",
       "      <td>4291</td>\n",
       "      <td>105</td>\n",
       "      <td>3059</td>\n",
       "      <td>360</td>\n",
       "      <td>160</td>\n",
       "      <td>30.006993</td>\n",
       "      <td>140.274600</td>\n",
       "      <td>35.172131</td>\n",
       "      <td>1.402746</td>\n",
       "      <td>49.337566</td>\n",
       "    </tr>\n",
       "  </tbody>\n",
       "</table>\n",
       "</div>"
      ],
      "text/plain": [
       "         batsman  batting_played  player_dismissed  total_runs   HS  \\\n",
       "32      AJ Finch              51                46        1386   90   \n",
       "60   BB McCullum              92                89        2631  169   \n",
       "182   KD Karthik             121               112        2656   91   \n",
       "354     SK Raina             143               122        4291  105   \n",
       "\n",
       "     ballsfaced  4's  6's  Avg(TR/M)   SR(TR/BF)  battingAVG(tr/outs)  \\\n",
       "32         1080  147   40  27.176471  128.333333            30.130435   \n",
       "60         1954  249  105  28.597826  134.646878            29.561798   \n",
       "182        2092  257   60  21.950413  126.959847            23.714286   \n",
       "354        3059  360  160  30.006993  140.274600            35.172131   \n",
       "\n",
       "     runs_by_balls(R/B)       Calc  \n",
       "32             1.283333  38.667391  \n",
       "60             1.346469  39.804038  \n",
       "182            1.269598  30.107621  \n",
       "354            1.402746  49.337566  "
      ]
     },
     "execution_count": 62,
     "metadata": {},
     "output_type": "execute_result"
    }
   ],
   "source": [
    "batsman1[batsman1['batsman'].isin(['JJ Roy', 'BB McCullum', 'SK Raina', 'AJ Finch', 'KD Karthik'])]"
   ]
  },
  {
   "cell_type": "markdown",
   "metadata": {},
   "source": [
    "So we see that all players in GL team have a batting profile. Except one player is missing 'JJ Roy'\n",
    "\n",
    "Batsman performance is represented by 'Calc' column .so we calculate batsmans average through 'Calc' column\n"
   ]
  },
  {
   "cell_type": "code",
   "execution_count": 63,
   "metadata": {},
   "outputs": [
    {
     "data": {
      "text/plain": [
       "39.479154026053024"
      ]
     },
     "execution_count": 63,
     "metadata": {},
     "output_type": "execute_result"
    }
   ],
   "source": [
    "batsman1[batsman1['batsman'].isin(['JJ Roy', 'BB McCullum', 'SK Raina', 'AJ Finch', 'KD Karthik'])]['Calc'].agg('mean')"
   ]
  },
  {
   "cell_type": "markdown",
   "metadata": {},
   "source": [
    "checking bowler names in GL team\n"
   ]
  },
  {
   "cell_type": "code",
   "execution_count": 64,
   "metadata": {},
   "outputs": [
    {
     "data": {
      "text/plain": [
       "array(['P Kumar', 'DS Kulkarni', 'MS Gony', 'S Kaushik', 'DR Smith',\n",
       "       'SB Jakati'], dtype=object)"
      ]
     },
     "execution_count": 64,
     "metadata": {},
     "output_type": "execute_result"
    }
   ],
   "source": [
    "deliveries_complete_data[(deliveries_complete_data['match_id']==3)&(deliveries_complete_data['bowling_team']=='Gujarat Lions')]['bowler'].unique()"
   ]
  },
  {
   "cell_type": "markdown",
   "metadata": {},
   "source": [
    "verifying if all bowler names are present in bowler profile table"
   ]
  },
  {
   "cell_type": "code",
   "execution_count": 65,
   "metadata": {},
   "outputs": [
    {
     "data": {
      "text/html": [
       "<div>\n",
       "<style scoped>\n",
       "    .dataframe tbody tr th:only-of-type {\n",
       "        vertical-align: middle;\n",
       "    }\n",
       "\n",
       "    .dataframe tbody tr th {\n",
       "        vertical-align: top;\n",
       "    }\n",
       "\n",
       "    .dataframe thead th {\n",
       "        text-align: right;\n",
       "    }\n",
       "</style>\n",
       "<table border=\"1\" class=\"dataframe\">\n",
       "  <thead>\n",
       "    <tr style=\"text-align: right;\">\n",
       "      <th></th>\n",
       "      <th>bowler</th>\n",
       "      <th>matches</th>\n",
       "      <th>ballsbowled</th>\n",
       "      <th>wkts</th>\n",
       "      <th>runs</th>\n",
       "      <th>Avg(TR/Wkts)</th>\n",
       "      <th>bowling_sr(bb/wkts)</th>\n",
       "      <th>economy_rate(runs/bb)</th>\n",
       "      <th>(1/bowling_avg)</th>\n",
       "      <th>(1/bowling_sr)</th>\n",
       "      <th>(1/bowling_er)</th>\n",
       "      <th>bowling_sum</th>\n",
       "      <th>CombinedBowlingRate</th>\n",
       "    </tr>\n",
       "  </thead>\n",
       "  <tbody>\n",
       "    <tr>\n",
       "      <th>91</th>\n",
       "      <td>DR Smith</td>\n",
       "      <td>37</td>\n",
       "      <td>475</td>\n",
       "      <td>25</td>\n",
       "      <td>674</td>\n",
       "      <td>26.960000</td>\n",
       "      <td>19.000000</td>\n",
       "      <td>1.418947</td>\n",
       "      <td>0.037092</td>\n",
       "      <td>0.052632</td>\n",
       "      <td>0.704748</td>\n",
       "      <td>0.794471</td>\n",
       "      <td>3.776096</td>\n",
       "    </tr>\n",
       "    <tr>\n",
       "      <th>92</th>\n",
       "      <td>DS Kulkarni</td>\n",
       "      <td>66</td>\n",
       "      <td>1367</td>\n",
       "      <td>78</td>\n",
       "      <td>1745</td>\n",
       "      <td>22.371795</td>\n",
       "      <td>17.525641</td>\n",
       "      <td>1.276518</td>\n",
       "      <td>0.044699</td>\n",
       "      <td>0.057059</td>\n",
       "      <td>0.783381</td>\n",
       "      <td>0.885139</td>\n",
       "      <td>3.389296</td>\n",
       "    </tr>\n",
       "    <tr>\n",
       "      <th>189</th>\n",
       "      <td>MS Gony</td>\n",
       "      <td>43</td>\n",
       "      <td>910</td>\n",
       "      <td>39</td>\n",
       "      <td>1285</td>\n",
       "      <td>32.948718</td>\n",
       "      <td>23.333333</td>\n",
       "      <td>1.412088</td>\n",
       "      <td>0.030350</td>\n",
       "      <td>0.042857</td>\n",
       "      <td>0.708171</td>\n",
       "      <td>0.781379</td>\n",
       "      <td>3.839368</td>\n",
       "    </tr>\n",
       "    <tr>\n",
       "      <th>203</th>\n",
       "      <td>P Kumar</td>\n",
       "      <td>113</td>\n",
       "      <td>2529</td>\n",
       "      <td>96</td>\n",
       "      <td>3188</td>\n",
       "      <td>33.208333</td>\n",
       "      <td>26.343750</td>\n",
       "      <td>1.260577</td>\n",
       "      <td>0.030113</td>\n",
       "      <td>0.037960</td>\n",
       "      <td>0.793287</td>\n",
       "      <td>0.861360</td>\n",
       "      <td>3.482865</td>\n",
       "    </tr>\n",
       "    <tr>\n",
       "      <th>252</th>\n",
       "      <td>S Kaushik</td>\n",
       "      <td>7</td>\n",
       "      <td>142</td>\n",
       "      <td>6</td>\n",
       "      <td>195</td>\n",
       "      <td>32.500000</td>\n",
       "      <td>23.666667</td>\n",
       "      <td>1.373239</td>\n",
       "      <td>0.030769</td>\n",
       "      <td>0.042254</td>\n",
       "      <td>0.728205</td>\n",
       "      <td>0.801228</td>\n",
       "      <td>3.744253</td>\n",
       "    </tr>\n",
       "    <tr>\n",
       "      <th>265</th>\n",
       "      <td>SB Jakati</td>\n",
       "      <td>55</td>\n",
       "      <td>1069</td>\n",
       "      <td>50</td>\n",
       "      <td>1422</td>\n",
       "      <td>28.440000</td>\n",
       "      <td>21.380000</td>\n",
       "      <td>1.330215</td>\n",
       "      <td>0.035162</td>\n",
       "      <td>0.046773</td>\n",
       "      <td>0.751758</td>\n",
       "      <td>0.833693</td>\n",
       "      <td>3.598449</td>\n",
       "    </tr>\n",
       "  </tbody>\n",
       "</table>\n",
       "</div>"
      ],
      "text/plain": [
       "          bowler  matches  ballsbowled  wkts  runs  Avg(TR/Wkts)  \\\n",
       "91      DR Smith       37          475    25   674     26.960000   \n",
       "92   DS Kulkarni       66         1367    78  1745     22.371795   \n",
       "189      MS Gony       43          910    39  1285     32.948718   \n",
       "203      P Kumar      113         2529    96  3188     33.208333   \n",
       "252    S Kaushik        7          142     6   195     32.500000   \n",
       "265    SB Jakati       55         1069    50  1422     28.440000   \n",
       "\n",
       "     bowling_sr(bb/wkts)  economy_rate(runs/bb)  (1/bowling_avg)  \\\n",
       "91             19.000000               1.418947         0.037092   \n",
       "92             17.525641               1.276518         0.044699   \n",
       "189            23.333333               1.412088         0.030350   \n",
       "203            26.343750               1.260577         0.030113   \n",
       "252            23.666667               1.373239         0.030769   \n",
       "265            21.380000               1.330215         0.035162   \n",
       "\n",
       "     (1/bowling_sr)  (1/bowling_er)  bowling_sum  CombinedBowlingRate  \n",
       "91         0.052632        0.704748     0.794471             3.776096  \n",
       "92         0.057059        0.783381     0.885139             3.389296  \n",
       "189        0.042857        0.708171     0.781379             3.839368  \n",
       "203        0.037960        0.793287     0.861360             3.482865  \n",
       "252        0.042254        0.728205     0.801228             3.744253  \n",
       "265        0.046773        0.751758     0.833693             3.598449  "
      ]
     },
     "execution_count": 65,
     "metadata": {},
     "output_type": "execute_result"
    }
   ],
   "source": [
    "bowler[bowler['bowler'].isin(['P Kumar', 'DS Kulkarni', 'MS Gony', 'S Kaushik', 'DR Smith',\n",
    "       'SB Jakati'])]"
   ]
  },
  {
   "cell_type": "markdown",
   "metadata": {},
   "source": [
    "So we see that all players in GL team have a bowling profile. Meaning there is no player is missing here\n",
    "\n",
    "Bowler performance is represented by 'CombinedBowlingRate' column .so we calculate bowlers average through 'CombinedBowlingRate' column\n",
    "\n"
   ]
  },
  {
   "cell_type": "code",
   "execution_count": 66,
   "metadata": {},
   "outputs": [
    {
     "data": {
      "text/plain": [
       "3.638387885572866"
      ]
     },
     "execution_count": 66,
     "metadata": {},
     "output_type": "execute_result"
    }
   ],
   "source": [
    "bowler[bowler['bowler'].isin(['P Kumar', 'DS Kulkarni', 'MS Gony', 'S Kaushik', 'DR Smith',\n",
    "       'SB Jakati'])]['CombinedBowlingRate'].agg('mean')"
   ]
  },
  {
   "cell_type": "markdown",
   "metadata": {},
   "source": [
    "checking batsman names in KKR team\n",
    "\n"
   ]
  },
  {
   "cell_type": "code",
   "execution_count": 67,
   "metadata": {},
   "outputs": [
    {
     "data": {
      "text/plain": [
       "array(['G Gambhir', 'CA Lynn'], dtype=object)"
      ]
     },
     "execution_count": 67,
     "metadata": {},
     "output_type": "execute_result"
    }
   ],
   "source": [
    "deliveries_complete_data[(deliveries_complete_data['match_id']==3)&(deliveries_complete_data['batting_team']=='Kolkata Knight Riders')]['batsman'].unique()"
   ]
  },
  {
   "cell_type": "markdown",
   "metadata": {},
   "source": [
    "verifying if all batsman names are present in batsman profile table"
   ]
  },
  {
   "cell_type": "code",
   "execution_count": 68,
   "metadata": {},
   "outputs": [
    {
     "data": {
      "text/html": [
       "<div>\n",
       "<style scoped>\n",
       "    .dataframe tbody tr th:only-of-type {\n",
       "        vertical-align: middle;\n",
       "    }\n",
       "\n",
       "    .dataframe tbody tr th {\n",
       "        vertical-align: top;\n",
       "    }\n",
       "\n",
       "    .dataframe thead th {\n",
       "        text-align: right;\n",
       "    }\n",
       "</style>\n",
       "<table border=\"1\" class=\"dataframe\">\n",
       "  <thead>\n",
       "    <tr style=\"text-align: right;\">\n",
       "      <th></th>\n",
       "      <th>batsman</th>\n",
       "      <th>batting_played</th>\n",
       "      <th>player_dismissed</th>\n",
       "      <th>total_runs</th>\n",
       "      <th>HS</th>\n",
       "      <th>ballsfaced</th>\n",
       "      <th>4's</th>\n",
       "      <th>6's</th>\n",
       "      <th>Avg(TR/M)</th>\n",
       "      <th>SR(TR/BF)</th>\n",
       "      <th>battingAVG(tr/outs)</th>\n",
       "      <th>runs_by_balls(R/B)</th>\n",
       "      <th>Calc</th>\n",
       "    </tr>\n",
       "  </thead>\n",
       "  <tbody>\n",
       "    <tr>\n",
       "      <th>75</th>\n",
       "      <td>CA Lynn</td>\n",
       "      <td>5</td>\n",
       "      <td>4</td>\n",
       "      <td>94</td>\n",
       "      <td>46</td>\n",
       "      <td>85</td>\n",
       "      <td>6</td>\n",
       "      <td>4</td>\n",
       "      <td>18.800000</td>\n",
       "      <td>110.588235</td>\n",
       "      <td>23.500000</td>\n",
       "      <td>1.105882</td>\n",
       "      <td>25.988235</td>\n",
       "    </tr>\n",
       "    <tr>\n",
       "      <th>126</th>\n",
       "      <td>G Gambhir</td>\n",
       "      <td>130</td>\n",
       "      <td>117</td>\n",
       "      <td>3857</td>\n",
       "      <td>96</td>\n",
       "      <td>3028</td>\n",
       "      <td>427</td>\n",
       "      <td>50</td>\n",
       "      <td>29.669231</td>\n",
       "      <td>127.377807</td>\n",
       "      <td>32.965812</td>\n",
       "      <td>1.273778</td>\n",
       "      <td>41.991128</td>\n",
       "    </tr>\n",
       "  </tbody>\n",
       "</table>\n",
       "</div>"
      ],
      "text/plain": [
       "       batsman  batting_played  player_dismissed  total_runs  HS  ballsfaced  \\\n",
       "75     CA Lynn               5                 4          94  46          85   \n",
       "126  G Gambhir             130               117        3857  96        3028   \n",
       "\n",
       "     4's  6's  Avg(TR/M)   SR(TR/BF)  battingAVG(tr/outs)  runs_by_balls(R/B)  \\\n",
       "75     6    4  18.800000  110.588235            23.500000            1.105882   \n",
       "126  427   50  29.669231  127.377807            32.965812            1.273778   \n",
       "\n",
       "          Calc  \n",
       "75   25.988235  \n",
       "126  41.991128  "
      ]
     },
     "execution_count": 68,
     "metadata": {},
     "output_type": "execute_result"
    }
   ],
   "source": [
    "batsman1[batsman1['batsman'].isin(['G Gambhir', 'CA Lynn'])]"
   ]
  },
  {
   "cell_type": "markdown",
   "metadata": {},
   "source": [
    "So we see that all players in KKR team have a batting profile. Meaning no player is missing here\n",
    "\n",
    "Batsman performance is represented by 'Calc' column .so we calculate batsmans average through 'Calc' column\n",
    "\n"
   ]
  },
  {
   "cell_type": "code",
   "execution_count": 69,
   "metadata": {},
   "outputs": [
    {
     "data": {
      "text/plain": [
       "33.989681839947984"
      ]
     },
     "execution_count": 69,
     "metadata": {},
     "output_type": "execute_result"
    }
   ],
   "source": [
    "batsman1[batsman1['batsman'].isin(['G Gambhir', 'CA Lynn'])]['Calc'].agg('mean')"
   ]
  },
  {
   "cell_type": "markdown",
   "metadata": {},
   "source": [
    "checking bowler names in KKR team\n",
    "\n"
   ]
  },
  {
   "cell_type": "code",
   "execution_count": 70,
   "metadata": {},
   "outputs": [
    {
     "data": {
      "text/plain": [
       "array(['TA Boult', 'PP Chawla', 'SP Narine', 'CR Woakes', 'Kuldeep Yadav',\n",
       "       'YK Pathan'], dtype=object)"
      ]
     },
     "execution_count": 70,
     "metadata": {},
     "output_type": "execute_result"
    }
   ],
   "source": [
    "deliveries_complete_data[(deliveries_complete_data['match_id']==3)&(deliveries_complete_data['bowling_team']=='Kolkata Knight Riders')]['bowler'].unique()"
   ]
  },
  {
   "cell_type": "markdown",
   "metadata": {},
   "source": [
    "verifying if all bowler names are present in bowler profile table\n",
    "\n"
   ]
  },
  {
   "cell_type": "code",
   "execution_count": 71,
   "metadata": {},
   "outputs": [
    {
     "data": {
      "text/html": [
       "<div>\n",
       "<style scoped>\n",
       "    .dataframe tbody tr th:only-of-type {\n",
       "        vertical-align: middle;\n",
       "    }\n",
       "\n",
       "    .dataframe tbody tr th {\n",
       "        vertical-align: top;\n",
       "    }\n",
       "\n",
       "    .dataframe thead th {\n",
       "        text-align: right;\n",
       "    }\n",
       "</style>\n",
       "<table border=\"1\" class=\"dataframe\">\n",
       "  <thead>\n",
       "    <tr style=\"text-align: right;\">\n",
       "      <th></th>\n",
       "      <th>bowler</th>\n",
       "      <th>matches</th>\n",
       "      <th>ballsbowled</th>\n",
       "      <th>wkts</th>\n",
       "      <th>runs</th>\n",
       "      <th>Avg(TR/Wkts)</th>\n",
       "      <th>bowling_sr(bb/wkts)</th>\n",
       "      <th>economy_rate(runs/bb)</th>\n",
       "      <th>(1/bowling_avg)</th>\n",
       "      <th>(1/bowling_sr)</th>\n",
       "      <th>(1/bowling_er)</th>\n",
       "      <th>bowling_sum</th>\n",
       "      <th>CombinedBowlingRate</th>\n",
       "    </tr>\n",
       "  </thead>\n",
       "  <tbody>\n",
       "    <tr>\n",
       "      <th>157</th>\n",
       "      <td>Kuldeep Yadav</td>\n",
       "      <td>3</td>\n",
       "      <td>74</td>\n",
       "      <td>7</td>\n",
       "      <td>102</td>\n",
       "      <td>14.571429</td>\n",
       "      <td>10.571429</td>\n",
       "      <td>1.378378</td>\n",
       "      <td>0.068627</td>\n",
       "      <td>0.094595</td>\n",
       "      <td>0.725490</td>\n",
       "      <td>0.888712</td>\n",
       "      <td>3.375671</td>\n",
       "    </tr>\n",
       "    <tr>\n",
       "      <th>214</th>\n",
       "      <td>PP Chawla</td>\n",
       "      <td>122</td>\n",
       "      <td>2472</td>\n",
       "      <td>127</td>\n",
       "      <td>3136</td>\n",
       "      <td>24.692913</td>\n",
       "      <td>19.464567</td>\n",
       "      <td>1.268608</td>\n",
       "      <td>0.040497</td>\n",
       "      <td>0.051375</td>\n",
       "      <td>0.788265</td>\n",
       "      <td>0.880138</td>\n",
       "      <td>3.408556</td>\n",
       "    </tr>\n",
       "    <tr>\n",
       "      <th>282</th>\n",
       "      <td>SP Narine</td>\n",
       "      <td>66</td>\n",
       "      <td>1594</td>\n",
       "      <td>97</td>\n",
       "      <td>1673</td>\n",
       "      <td>17.247423</td>\n",
       "      <td>16.432990</td>\n",
       "      <td>1.049561</td>\n",
       "      <td>0.057980</td>\n",
       "      <td>0.060853</td>\n",
       "      <td>0.952779</td>\n",
       "      <td>1.071612</td>\n",
       "      <td>2.799520</td>\n",
       "    </tr>\n",
       "    <tr>\n",
       "      <th>305</th>\n",
       "      <td>TA Boult</td>\n",
       "      <td>8</td>\n",
       "      <td>207</td>\n",
       "      <td>11</td>\n",
       "      <td>278</td>\n",
       "      <td>25.272727</td>\n",
       "      <td>18.818182</td>\n",
       "      <td>1.342995</td>\n",
       "      <td>0.039568</td>\n",
       "      <td>0.053140</td>\n",
       "      <td>0.744604</td>\n",
       "      <td>0.837313</td>\n",
       "      <td>3.582891</td>\n",
       "    </tr>\n",
       "    <tr>\n",
       "      <th>328</th>\n",
       "      <td>YK Pathan</td>\n",
       "      <td>76</td>\n",
       "      <td>1142</td>\n",
       "      <td>44</td>\n",
       "      <td>1380</td>\n",
       "      <td>31.363636</td>\n",
       "      <td>25.954545</td>\n",
       "      <td>1.208406</td>\n",
       "      <td>0.031884</td>\n",
       "      <td>0.038529</td>\n",
       "      <td>0.827536</td>\n",
       "      <td>0.897949</td>\n",
       "      <td>3.340946</td>\n",
       "    </tr>\n",
       "  </tbody>\n",
       "</table>\n",
       "</div>"
      ],
      "text/plain": [
       "            bowler  matches  ballsbowled  wkts  runs  Avg(TR/Wkts)  \\\n",
       "157  Kuldeep Yadav        3           74     7   102     14.571429   \n",
       "214      PP Chawla      122         2472   127  3136     24.692913   \n",
       "282      SP Narine       66         1594    97  1673     17.247423   \n",
       "305       TA Boult        8          207    11   278     25.272727   \n",
       "328      YK Pathan       76         1142    44  1380     31.363636   \n",
       "\n",
       "     bowling_sr(bb/wkts)  economy_rate(runs/bb)  (1/bowling_avg)  \\\n",
       "157            10.571429               1.378378         0.068627   \n",
       "214            19.464567               1.268608         0.040497   \n",
       "282            16.432990               1.049561         0.057980   \n",
       "305            18.818182               1.342995         0.039568   \n",
       "328            25.954545               1.208406         0.031884   \n",
       "\n",
       "     (1/bowling_sr)  (1/bowling_er)  bowling_sum  CombinedBowlingRate  \n",
       "157        0.094595        0.725490     0.888712             3.375671  \n",
       "214        0.051375        0.788265     0.880138             3.408556  \n",
       "282        0.060853        0.952779     1.071612             2.799520  \n",
       "305        0.053140        0.744604     0.837313             3.582891  \n",
       "328        0.038529        0.827536     0.897949             3.340946  "
      ]
     },
     "execution_count": 71,
     "metadata": {},
     "output_type": "execute_result"
    }
   ],
   "source": [
    "bowler[bowler['bowler'].isin(['TA Boult', 'PP Chawla', 'SP Narine', 'CR Woakes', 'Kuldeep Yadav',\n",
    "       'YK Pathan'])]"
   ]
  },
  {
   "cell_type": "markdown",
   "metadata": {},
   "source": [
    "So we see that all players in KKR team have a bowling profile. Except one player is missing 'CR Woakes'\n",
    "\n",
    "Bowler performance is represented by 'CombinedBowlingRate' column .so we calculate bowlers average through 'CombinedBowlingRate' column\n",
    "\n"
   ]
  },
  {
   "cell_type": "code",
   "execution_count": 72,
   "metadata": {},
   "outputs": [
    {
     "data": {
      "text/plain": [
       "3.3015166759830508"
      ]
     },
     "execution_count": 72,
     "metadata": {},
     "output_type": "execute_result"
    }
   ],
   "source": [
    "bowler[bowler['bowler'].isin(['TA Boult', 'PP Chawla', 'SP Narine', 'CR Woakes', 'Kuldeep Yadav',\n",
    "       'YK Pathan'])]['CombinedBowlingRate'].agg('mean')"
   ]
  },
  {
   "cell_type": "markdown",
   "metadata": {},
   "source": [
    "# RPS VS KXIP\n",
    "\n",
    "\n",
    "\n",
    "checking match details"
   ]
  },
  {
   "cell_type": "code",
   "execution_count": 73,
   "metadata": {},
   "outputs": [
    {
     "data": {
      "text/html": [
       "<div>\n",
       "<style scoped>\n",
       "    .dataframe tbody tr th:only-of-type {\n",
       "        vertical-align: middle;\n",
       "    }\n",
       "\n",
       "    .dataframe tbody tr th {\n",
       "        vertical-align: top;\n",
       "    }\n",
       "\n",
       "    .dataframe thead th {\n",
       "        text-align: right;\n",
       "    }\n",
       "</style>\n",
       "<table border=\"1\" class=\"dataframe\">\n",
       "  <thead>\n",
       "    <tr style=\"text-align: right;\">\n",
       "      <th></th>\n",
       "      <th>id</th>\n",
       "      <th>season</th>\n",
       "      <th>city</th>\n",
       "      <th>date</th>\n",
       "      <th>team1</th>\n",
       "      <th>team2</th>\n",
       "      <th>toss_winner</th>\n",
       "      <th>toss_decision</th>\n",
       "      <th>result</th>\n",
       "      <th>dl_applied</th>\n",
       "      <th>winner</th>\n",
       "      <th>win_by_runs</th>\n",
       "      <th>win_by_wickets</th>\n",
       "      <th>player_of_match</th>\n",
       "      <th>venue</th>\n",
       "      <th>umpire1</th>\n",
       "      <th>umpire2</th>\n",
       "      <th>umpire3</th>\n",
       "    </tr>\n",
       "  </thead>\n",
       "  <tbody>\n",
       "    <tr>\n",
       "      <th>3</th>\n",
       "      <td>4</td>\n",
       "      <td>2017</td>\n",
       "      <td>Indore</td>\n",
       "      <td>2017-04-08</td>\n",
       "      <td>Rising Pune Supergiant</td>\n",
       "      <td>Kings XI Punjab</td>\n",
       "      <td>Kings XI Punjab</td>\n",
       "      <td>field</td>\n",
       "      <td>normal</td>\n",
       "      <td>0</td>\n",
       "      <td>Kings XI Punjab</td>\n",
       "      <td>0</td>\n",
       "      <td>6</td>\n",
       "      <td>GJ Maxwell</td>\n",
       "      <td>Holkar Cricket Stadium</td>\n",
       "      <td>AK Chaudhary</td>\n",
       "      <td>C Shamshuddin</td>\n",
       "      <td>NaN</td>\n",
       "    </tr>\n",
       "  </tbody>\n",
       "</table>\n",
       "</div>"
      ],
      "text/plain": [
       "   id  season    city        date                   team1            team2  \\\n",
       "3   4    2017  Indore  2017-04-08  Rising Pune Supergiant  Kings XI Punjab   \n",
       "\n",
       "       toss_winner toss_decision  result  dl_applied           winner  \\\n",
       "3  Kings XI Punjab         field  normal           0  Kings XI Punjab   \n",
       "\n",
       "   win_by_runs  win_by_wickets player_of_match                   venue  \\\n",
       "3            0               6      GJ Maxwell  Holkar Cricket Stadium   \n",
       "\n",
       "        umpire1        umpire2 umpire3  \n",
       "3  AK Chaudhary  C Shamshuddin     NaN  "
      ]
     },
     "execution_count": 73,
     "metadata": {},
     "output_type": "execute_result"
    }
   ],
   "source": [
    "matches[matches['id']==4]"
   ]
  },
  {
   "cell_type": "markdown",
   "metadata": {},
   "source": [
    "checking batsman names in RPS team\n",
    "\n"
   ]
  },
  {
   "cell_type": "code",
   "execution_count": 74,
   "metadata": {},
   "outputs": [
    {
     "data": {
      "text/plain": [
       "array(['AM Rahane', 'MA Agarwal', 'SPD Smith', 'BA Stokes', 'MS Dhoni',\n",
       "       'MK Tiwary', 'DT Christian'], dtype=object)"
      ]
     },
     "execution_count": 74,
     "metadata": {},
     "output_type": "execute_result"
    }
   ],
   "source": [
    "deliveries_complete_data[(deliveries_complete_data['match_id']==4)&(deliveries_complete_data['batting_team']=='Rising Pune Supergiant')]['batsman'].unique()"
   ]
  },
  {
   "cell_type": "markdown",
   "metadata": {},
   "source": [
    "verifying if all batsman names are present in batsman profile table\n",
    "\n"
   ]
  },
  {
   "cell_type": "code",
   "execution_count": 75,
   "metadata": {},
   "outputs": [
    {
     "data": {
      "text/html": [
       "<div>\n",
       "<style scoped>\n",
       "    .dataframe tbody tr th:only-of-type {\n",
       "        vertical-align: middle;\n",
       "    }\n",
       "\n",
       "    .dataframe tbody tr th {\n",
       "        vertical-align: top;\n",
       "    }\n",
       "\n",
       "    .dataframe thead th {\n",
       "        text-align: right;\n",
       "    }\n",
       "</style>\n",
       "<table border=\"1\" class=\"dataframe\">\n",
       "  <thead>\n",
       "    <tr style=\"text-align: right;\">\n",
       "      <th></th>\n",
       "      <th>batsman</th>\n",
       "      <th>batting_played</th>\n",
       "      <th>player_dismissed</th>\n",
       "      <th>total_runs</th>\n",
       "      <th>HS</th>\n",
       "      <th>ballsfaced</th>\n",
       "      <th>4's</th>\n",
       "      <th>6's</th>\n",
       "      <th>Avg(TR/M)</th>\n",
       "      <th>SR(TR/BF)</th>\n",
       "      <th>battingAVG(tr/outs)</th>\n",
       "      <th>runs_by_balls(R/B)</th>\n",
       "      <th>Calc</th>\n",
       "    </tr>\n",
       "  </thead>\n",
       "  <tbody>\n",
       "    <tr>\n",
       "      <th>35</th>\n",
       "      <td>AM Rahane</td>\n",
       "      <td>89</td>\n",
       "      <td>76</td>\n",
       "      <td>2803</td>\n",
       "      <td>113</td>\n",
       "      <td>2274</td>\n",
       "      <td>290</td>\n",
       "      <td>51</td>\n",
       "      <td>31.494382</td>\n",
       "      <td>123.262973</td>\n",
       "      <td>36.881579</td>\n",
       "      <td>1.232630</td>\n",
       "      <td>45.461331</td>\n",
       "    </tr>\n",
       "    <tr>\n",
       "      <th>117</th>\n",
       "      <td>DT Christian</td>\n",
       "      <td>22</td>\n",
       "      <td>17</td>\n",
       "      <td>355</td>\n",
       "      <td>42</td>\n",
       "      <td>299</td>\n",
       "      <td>17</td>\n",
       "      <td>12</td>\n",
       "      <td>16.136364</td>\n",
       "      <td>118.729097</td>\n",
       "      <td>20.882353</td>\n",
       "      <td>1.187291</td>\n",
       "      <td>24.793429</td>\n",
       "    </tr>\n",
       "    <tr>\n",
       "      <th>220</th>\n",
       "      <td>MA Agarwal</td>\n",
       "      <td>45</td>\n",
       "      <td>44</td>\n",
       "      <td>835</td>\n",
       "      <td>71</td>\n",
       "      <td>663</td>\n",
       "      <td>80</td>\n",
       "      <td>33</td>\n",
       "      <td>18.555556</td>\n",
       "      <td>125.942685</td>\n",
       "      <td>18.977273</td>\n",
       "      <td>1.259427</td>\n",
       "      <td>23.900487</td>\n",
       "    </tr>\n",
       "    <tr>\n",
       "      <th>235</th>\n",
       "      <td>MK Tiwary</td>\n",
       "      <td>66</td>\n",
       "      <td>49</td>\n",
       "      <td>1390</td>\n",
       "      <td>83</td>\n",
       "      <td>1202</td>\n",
       "      <td>122</td>\n",
       "      <td>28</td>\n",
       "      <td>21.060606</td>\n",
       "      <td>115.640599</td>\n",
       "      <td>28.367347</td>\n",
       "      <td>1.156406</td>\n",
       "      <td>32.804170</td>\n",
       "    </tr>\n",
       "    <tr>\n",
       "      <th>244</th>\n",
       "      <td>MS Dhoni</td>\n",
       "      <td>128</td>\n",
       "      <td>92</td>\n",
       "      <td>3421</td>\n",
       "      <td>70</td>\n",
       "      <td>2419</td>\n",
       "      <td>240</td>\n",
       "      <td>140</td>\n",
       "      <td>26.726562</td>\n",
       "      <td>141.422075</td>\n",
       "      <td>37.184783</td>\n",
       "      <td>1.414221</td>\n",
       "      <td>52.587491</td>\n",
       "    </tr>\n",
       "    <tr>\n",
       "      <th>367</th>\n",
       "      <td>SPD Smith</td>\n",
       "      <td>47</td>\n",
       "      <td>38</td>\n",
       "      <td>1292</td>\n",
       "      <td>102</td>\n",
       "      <td>933</td>\n",
       "      <td>112</td>\n",
       "      <td>31</td>\n",
       "      <td>27.489362</td>\n",
       "      <td>138.478028</td>\n",
       "      <td>34.000000</td>\n",
       "      <td>1.384780</td>\n",
       "      <td>47.082529</td>\n",
       "    </tr>\n",
       "  </tbody>\n",
       "</table>\n",
       "</div>"
      ],
      "text/plain": [
       "          batsman  batting_played  player_dismissed  total_runs   HS  \\\n",
       "35      AM Rahane              89                76        2803  113   \n",
       "117  DT Christian              22                17         355   42   \n",
       "220    MA Agarwal              45                44         835   71   \n",
       "235     MK Tiwary              66                49        1390   83   \n",
       "244      MS Dhoni             128                92        3421   70   \n",
       "367     SPD Smith              47                38        1292  102   \n",
       "\n",
       "     ballsfaced  4's  6's  Avg(TR/M)   SR(TR/BF)  battingAVG(tr/outs)  \\\n",
       "35         2274  290   51  31.494382  123.262973            36.881579   \n",
       "117         299   17   12  16.136364  118.729097            20.882353   \n",
       "220         663   80   33  18.555556  125.942685            18.977273   \n",
       "235        1202  122   28  21.060606  115.640599            28.367347   \n",
       "244        2419  240  140  26.726562  141.422075            37.184783   \n",
       "367         933  112   31  27.489362  138.478028            34.000000   \n",
       "\n",
       "     runs_by_balls(R/B)       Calc  \n",
       "35             1.232630  45.461331  \n",
       "117            1.187291  24.793429  \n",
       "220            1.259427  23.900487  \n",
       "235            1.156406  32.804170  \n",
       "244            1.414221  52.587491  \n",
       "367            1.384780  47.082529  "
      ]
     },
     "execution_count": 75,
     "metadata": {},
     "output_type": "execute_result"
    }
   ],
   "source": [
    "batsman1[batsman1['batsman'].isin(['AM Rahane', 'MA Agarwal', 'SPD Smith', 'BA Stokes', 'MS Dhoni',\n",
    "       'MK Tiwary', 'DT Christian'])]"
   ]
  },
  {
   "cell_type": "markdown",
   "metadata": {},
   "source": [
    "So we see that all players in RPS team have a batting profile. Except one player is missing 'BA Stokes'\n",
    "\n",
    "\n",
    "Batsman performance is represented by 'Calc' column .so we calculate batsmans average through 'Calc' column\n"
   ]
  },
  {
   "cell_type": "code",
   "execution_count": 76,
   "metadata": {},
   "outputs": [
    {
     "data": {
      "text/plain": [
       "37.77157284686991"
      ]
     },
     "execution_count": 76,
     "metadata": {},
     "output_type": "execute_result"
    }
   ],
   "source": [
    "batsman1[batsman1['batsman'].isin(['AM Rahane', 'MA Agarwal', 'SPD Smith', 'BA Stokes', 'MS Dhoni',\n",
    "       'MK Tiwary', 'DT Christian'])]['Calc'].agg('mean')"
   ]
  },
  {
   "cell_type": "markdown",
   "metadata": {},
   "source": [
    "checking bowler names in RPS team\n",
    "\n"
   ]
  },
  {
   "cell_type": "code",
   "execution_count": 77,
   "metadata": {},
   "outputs": [
    {
     "data": {
      "text/plain": [
       "array(['AB Dinda', 'DT Christian', 'BA Stokes', 'Imran Tahir',\n",
       "       'RD Chahar', 'R Bhatia'], dtype=object)"
      ]
     },
     "execution_count": 77,
     "metadata": {},
     "output_type": "execute_result"
    }
   ],
   "source": [
    "deliveries_complete_data[(deliveries_complete_data['match_id']==4)&(deliveries_complete_data['bowling_team']=='Rising Pune Supergiant')]['bowler'].unique()"
   ]
  },
  {
   "cell_type": "markdown",
   "metadata": {},
   "source": [
    "verifying if all bowler names are present in bowler profile table"
   ]
  },
  {
   "cell_type": "code",
   "execution_count": 78,
   "metadata": {},
   "outputs": [
    {
     "data": {
      "text/html": [
       "<div>\n",
       "<style scoped>\n",
       "    .dataframe tbody tr th:only-of-type {\n",
       "        vertical-align: middle;\n",
       "    }\n",
       "\n",
       "    .dataframe tbody tr th {\n",
       "        vertical-align: top;\n",
       "    }\n",
       "\n",
       "    .dataframe thead th {\n",
       "        text-align: right;\n",
       "    }\n",
       "</style>\n",
       "<table border=\"1\" class=\"dataframe\">\n",
       "  <thead>\n",
       "    <tr style=\"text-align: right;\">\n",
       "      <th></th>\n",
       "      <th>bowler</th>\n",
       "      <th>matches</th>\n",
       "      <th>ballsbowled</th>\n",
       "      <th>wkts</th>\n",
       "      <th>runs</th>\n",
       "      <th>Avg(TR/Wkts)</th>\n",
       "      <th>bowling_sr(bb/wkts)</th>\n",
       "      <th>economy_rate(runs/bb)</th>\n",
       "      <th>(1/bowling_avg)</th>\n",
       "      <th>(1/bowling_sr)</th>\n",
       "      <th>(1/bowling_er)</th>\n",
       "      <th>bowling_sum</th>\n",
       "      <th>CombinedBowlingRate</th>\n",
       "    </tr>\n",
       "  </thead>\n",
       "  <tbody>\n",
       "    <tr>\n",
       "      <th>17</th>\n",
       "      <td>AB Dinda</td>\n",
       "      <td>72</td>\n",
       "      <td>1524</td>\n",
       "      <td>80</td>\n",
       "      <td>1982</td>\n",
       "      <td>24.775000</td>\n",
       "      <td>19.050000</td>\n",
       "      <td>1.300525</td>\n",
       "      <td>0.040363</td>\n",
       "      <td>0.052493</td>\n",
       "      <td>0.768920</td>\n",
       "      <td>0.861777</td>\n",
       "      <td>3.481179</td>\n",
       "    </tr>\n",
       "    <tr>\n",
       "      <th>93</th>\n",
       "      <td>DT Christian</td>\n",
       "      <td>23</td>\n",
       "      <td>498</td>\n",
       "      <td>20</td>\n",
       "      <td>653</td>\n",
       "      <td>32.650000</td>\n",
       "      <td>24.900000</td>\n",
       "      <td>1.311245</td>\n",
       "      <td>0.030628</td>\n",
       "      <td>0.040161</td>\n",
       "      <td>0.762634</td>\n",
       "      <td>0.833423</td>\n",
       "      <td>3.599615</td>\n",
       "    </tr>\n",
       "    <tr>\n",
       "      <th>115</th>\n",
       "      <td>Imran Tahir</td>\n",
       "      <td>20</td>\n",
       "      <td>448</td>\n",
       "      <td>31</td>\n",
       "      <td>632</td>\n",
       "      <td>20.387097</td>\n",
       "      <td>14.451613</td>\n",
       "      <td>1.410714</td>\n",
       "      <td>0.049051</td>\n",
       "      <td>0.069196</td>\n",
       "      <td>0.708861</td>\n",
       "      <td>0.827108</td>\n",
       "      <td>3.627097</td>\n",
       "    </tr>\n",
       "    <tr>\n",
       "      <th>220</th>\n",
       "      <td>R Bhatia</td>\n",
       "      <td>88</td>\n",
       "      <td>1618</td>\n",
       "      <td>80</td>\n",
       "      <td>2004</td>\n",
       "      <td>25.050000</td>\n",
       "      <td>20.225000</td>\n",
       "      <td>1.238566</td>\n",
       "      <td>0.039920</td>\n",
       "      <td>0.049444</td>\n",
       "      <td>0.807385</td>\n",
       "      <td>0.896749</td>\n",
       "      <td>3.345417</td>\n",
       "    </tr>\n",
       "  </tbody>\n",
       "</table>\n",
       "</div>"
      ],
      "text/plain": [
       "           bowler  matches  ballsbowled  wkts  runs  Avg(TR/Wkts)  \\\n",
       "17       AB Dinda       72         1524    80  1982     24.775000   \n",
       "93   DT Christian       23          498    20   653     32.650000   \n",
       "115   Imran Tahir       20          448    31   632     20.387097   \n",
       "220      R Bhatia       88         1618    80  2004     25.050000   \n",
       "\n",
       "     bowling_sr(bb/wkts)  economy_rate(runs/bb)  (1/bowling_avg)  \\\n",
       "17             19.050000               1.300525         0.040363   \n",
       "93             24.900000               1.311245         0.030628   \n",
       "115            14.451613               1.410714         0.049051   \n",
       "220            20.225000               1.238566         0.039920   \n",
       "\n",
       "     (1/bowling_sr)  (1/bowling_er)  bowling_sum  CombinedBowlingRate  \n",
       "17         0.052493        0.768920     0.861777             3.481179  \n",
       "93         0.040161        0.762634     0.833423             3.599615  \n",
       "115        0.069196        0.708861     0.827108             3.627097  \n",
       "220        0.049444        0.807385     0.896749             3.345417  "
      ]
     },
     "execution_count": 78,
     "metadata": {},
     "output_type": "execute_result"
    }
   ],
   "source": [
    "bowler[bowler['bowler'].isin(['AB Dinda', 'DT Christian', 'BA Stokes', 'Imran Tahir',\n",
    "       'RD Chahar', 'R Bhatia'])]"
   ]
  },
  {
   "cell_type": "markdown",
   "metadata": {},
   "source": [
    "So we see that all players in RPS team have a bowling profile. Missing player are'BA Stokes','DT Christian','RD Chahar'\n",
    "\n",
    "\n",
    "\n",
    "Bowler performance is represented by 'CombinedBowlingRate' column .so we calculate bowlers average through 'CombinedBowlingRate' column\n",
    "\n"
   ]
  },
  {
   "cell_type": "code",
   "execution_count": 79,
   "metadata": {},
   "outputs": [
    {
     "data": {
      "text/plain": [
       "3.5133269146347192"
      ]
     },
     "execution_count": 79,
     "metadata": {},
     "output_type": "execute_result"
    }
   ],
   "source": [
    "bowler[bowler['bowler'].isin(['AB Dinda', 'DT Christian', 'BA Stokes', 'Imran Tahir',\n",
    "       'RD Chahar', 'R Bhatia'])]['CombinedBowlingRate'].agg('mean')"
   ]
  },
  {
   "cell_type": "markdown",
   "metadata": {},
   "source": [
    "checking batsman names in KXIP team"
   ]
  },
  {
   "cell_type": "code",
   "execution_count": 80,
   "metadata": {},
   "outputs": [
    {
     "data": {
      "text/plain": [
       "array(['HM Amla', 'M Vohra', 'WP Saha', 'AR Patel', 'GJ Maxwell',\n",
       "       'DA Miller'], dtype=object)"
      ]
     },
     "execution_count": 80,
     "metadata": {},
     "output_type": "execute_result"
    }
   ],
   "source": [
    "deliveries_complete_data[(deliveries_complete_data['match_id']==4)&(deliveries_complete_data['batting_team']=='Kings XI Punjab')]['batsman'].unique()"
   ]
  },
  {
   "cell_type": "markdown",
   "metadata": {},
   "source": [
    "verifying if all batsman names are present in batsman profile table\n",
    "\n"
   ]
  },
  {
   "cell_type": "code",
   "execution_count": 81,
   "metadata": {},
   "outputs": [
    {
     "data": {
      "text/html": [
       "<div>\n",
       "<style scoped>\n",
       "    .dataframe tbody tr th:only-of-type {\n",
       "        vertical-align: middle;\n",
       "    }\n",
       "\n",
       "    .dataframe tbody tr th {\n",
       "        vertical-align: top;\n",
       "    }\n",
       "\n",
       "    .dataframe thead th {\n",
       "        text-align: right;\n",
       "    }\n",
       "</style>\n",
       "<table border=\"1\" class=\"dataframe\">\n",
       "  <thead>\n",
       "    <tr style=\"text-align: right;\">\n",
       "      <th></th>\n",
       "      <th>batsman</th>\n",
       "      <th>batting_played</th>\n",
       "      <th>player_dismissed</th>\n",
       "      <th>total_runs</th>\n",
       "      <th>HS</th>\n",
       "      <th>ballsfaced</th>\n",
       "      <th>4's</th>\n",
       "      <th>6's</th>\n",
       "      <th>Avg(TR/M)</th>\n",
       "      <th>SR(TR/BF)</th>\n",
       "      <th>battingAVG(tr/outs)</th>\n",
       "      <th>runs_by_balls(R/B)</th>\n",
       "      <th>Calc</th>\n",
       "    </tr>\n",
       "  </thead>\n",
       "  <tbody>\n",
       "    <tr>\n",
       "      <th>41</th>\n",
       "      <td>AR Patel</td>\n",
       "      <td>29</td>\n",
       "      <td>21</td>\n",
       "      <td>397</td>\n",
       "      <td>43</td>\n",
       "      <td>323</td>\n",
       "      <td>23</td>\n",
       "      <td>17</td>\n",
       "      <td>13.689655</td>\n",
       "      <td>122.910217</td>\n",
       "      <td>18.904762</td>\n",
       "      <td>1.229102</td>\n",
       "      <td>23.235884</td>\n",
       "    </tr>\n",
       "    <tr>\n",
       "      <th>93</th>\n",
       "      <td>DA Miller</td>\n",
       "      <td>60</td>\n",
       "      <td>42</td>\n",
       "      <td>1558</td>\n",
       "      <td>108</td>\n",
       "      <td>1053</td>\n",
       "      <td>104</td>\n",
       "      <td>74</td>\n",
       "      <td>25.966667</td>\n",
       "      <td>147.958215</td>\n",
       "      <td>37.095238</td>\n",
       "      <td>1.479582</td>\n",
       "      <td>54.885452</td>\n",
       "    </tr>\n",
       "    <tr>\n",
       "      <th>132</th>\n",
       "      <td>GJ Maxwell</td>\n",
       "      <td>42</td>\n",
       "      <td>40</td>\n",
       "      <td>971</td>\n",
       "      <td>101</td>\n",
       "      <td>594</td>\n",
       "      <td>77</td>\n",
       "      <td>56</td>\n",
       "      <td>23.119048</td>\n",
       "      <td>163.468013</td>\n",
       "      <td>24.275000</td>\n",
       "      <td>1.634680</td>\n",
       "      <td>39.681860</td>\n",
       "    </tr>\n",
       "    <tr>\n",
       "      <th>138</th>\n",
       "      <td>HM Amla</td>\n",
       "      <td>6</td>\n",
       "      <td>6</td>\n",
       "      <td>164</td>\n",
       "      <td>99</td>\n",
       "      <td>122</td>\n",
       "      <td>20</td>\n",
       "      <td>4</td>\n",
       "      <td>27.333333</td>\n",
       "      <td>134.426230</td>\n",
       "      <td>27.333333</td>\n",
       "      <td>1.344262</td>\n",
       "      <td>36.743169</td>\n",
       "    </tr>\n",
       "    <tr>\n",
       "      <th>218</th>\n",
       "      <td>M Vohra</td>\n",
       "      <td>32</td>\n",
       "      <td>29</td>\n",
       "      <td>758</td>\n",
       "      <td>69</td>\n",
       "      <td>580</td>\n",
       "      <td>73</td>\n",
       "      <td>26</td>\n",
       "      <td>23.687500</td>\n",
       "      <td>130.689655</td>\n",
       "      <td>26.137931</td>\n",
       "      <td>1.306897</td>\n",
       "      <td>34.159572</td>\n",
       "    </tr>\n",
       "    <tr>\n",
       "      <th>421</th>\n",
       "      <td>WP Saha</td>\n",
       "      <td>67</td>\n",
       "      <td>53</td>\n",
       "      <td>1379</td>\n",
       "      <td>120</td>\n",
       "      <td>1025</td>\n",
       "      <td>112</td>\n",
       "      <td>49</td>\n",
       "      <td>20.582090</td>\n",
       "      <td>134.536585</td>\n",
       "      <td>26.018868</td>\n",
       "      <td>1.345366</td>\n",
       "      <td>35.004896</td>\n",
       "    </tr>\n",
       "  </tbody>\n",
       "</table>\n",
       "</div>"
      ],
      "text/plain": [
       "        batsman  batting_played  player_dismissed  total_runs   HS  \\\n",
       "41     AR Patel              29                21         397   43   \n",
       "93    DA Miller              60                42        1558  108   \n",
       "132  GJ Maxwell              42                40         971  101   \n",
       "138     HM Amla               6                 6         164   99   \n",
       "218     M Vohra              32                29         758   69   \n",
       "421     WP Saha              67                53        1379  120   \n",
       "\n",
       "     ballsfaced  4's  6's  Avg(TR/M)   SR(TR/BF)  battingAVG(tr/outs)  \\\n",
       "41          323   23   17  13.689655  122.910217            18.904762   \n",
       "93         1053  104   74  25.966667  147.958215            37.095238   \n",
       "132         594   77   56  23.119048  163.468013            24.275000   \n",
       "138         122   20    4  27.333333  134.426230            27.333333   \n",
       "218         580   73   26  23.687500  130.689655            26.137931   \n",
       "421        1025  112   49  20.582090  134.536585            26.018868   \n",
       "\n",
       "     runs_by_balls(R/B)       Calc  \n",
       "41             1.229102  23.235884  \n",
       "93             1.479582  54.885452  \n",
       "132            1.634680  39.681860  \n",
       "138            1.344262  36.743169  \n",
       "218            1.306897  34.159572  \n",
       "421            1.345366  35.004896  "
      ]
     },
     "execution_count": 81,
     "metadata": {},
     "output_type": "execute_result"
    }
   ],
   "source": [
    "batsman1[batsman1['batsman'].isin(['HM Amla', 'M Vohra', 'WP Saha', 'AR Patel', 'GJ Maxwell',\n",
    "       'DA Miller'])]"
   ]
  },
  {
   "cell_type": "markdown",
   "metadata": {},
   "source": [
    "So we see that all players in KXIP team have a batting profile. Means no player is missing\n",
    "\n",
    "\n",
    "Batsman performance is represented by 'Calc' column .so we calculate batsmans average through 'Calc' column\n",
    "\n"
   ]
  },
  {
   "cell_type": "code",
   "execution_count": 82,
   "metadata": {},
   "outputs": [
    {
     "data": {
      "text/plain": [
       "37.28513898112103"
      ]
     },
     "execution_count": 82,
     "metadata": {},
     "output_type": "execute_result"
    }
   ],
   "source": [
    "batsman1[batsman1['batsman'].isin(['HM Amla', 'M Vohra', 'WP Saha', 'AR Patel', 'GJ Maxwell',\n",
    "       'DA Miller'])]['Calc'].agg('mean')"
   ]
  },
  {
   "cell_type": "markdown",
   "metadata": {},
   "source": [
    "checking bowler names in KXIP team"
   ]
  },
  {
   "cell_type": "code",
   "execution_count": 83,
   "metadata": {},
   "outputs": [
    {
     "data": {
      "text/plain": [
       "array(['Sandeep Sharma', 'MM Sharma', 'AR Patel', 'T Natarajan',\n",
       "       'MP Stoinis', 'Swapnil Singh'], dtype=object)"
      ]
     },
     "execution_count": 83,
     "metadata": {},
     "output_type": "execute_result"
    }
   ],
   "source": [
    "deliveries_complete_data[(deliveries_complete_data['match_id']==4)&(deliveries_complete_data['bowling_team']=='Kings XI Punjab')]['bowler'].unique()"
   ]
  },
  {
   "cell_type": "markdown",
   "metadata": {},
   "source": [
    "verifying if all bowler names are present in bowler profile table\n",
    "\n"
   ]
  },
  {
   "cell_type": "code",
   "execution_count": 84,
   "metadata": {},
   "outputs": [
    {
     "data": {
      "text/html": [
       "<div>\n",
       "<style scoped>\n",
       "    .dataframe tbody tr th:only-of-type {\n",
       "        vertical-align: middle;\n",
       "    }\n",
       "\n",
       "    .dataframe tbody tr th {\n",
       "        vertical-align: top;\n",
       "    }\n",
       "\n",
       "    .dataframe thead th {\n",
       "        text-align: right;\n",
       "    }\n",
       "</style>\n",
       "<table border=\"1\" class=\"dataframe\">\n",
       "  <thead>\n",
       "    <tr style=\"text-align: right;\">\n",
       "      <th></th>\n",
       "      <th>bowler</th>\n",
       "      <th>matches</th>\n",
       "      <th>ballsbowled</th>\n",
       "      <th>wkts</th>\n",
       "      <th>runs</th>\n",
       "      <th>Avg(TR/Wkts)</th>\n",
       "      <th>bowling_sr(bb/wkts)</th>\n",
       "      <th>economy_rate(runs/bb)</th>\n",
       "      <th>(1/bowling_avg)</th>\n",
       "      <th>(1/bowling_sr)</th>\n",
       "      <th>(1/bowling_er)</th>\n",
       "      <th>bowling_sum</th>\n",
       "      <th>CombinedBowlingRate</th>\n",
       "    </tr>\n",
       "  </thead>\n",
       "  <tbody>\n",
       "    <tr>\n",
       "      <th>34</th>\n",
       "      <td>AR Patel</td>\n",
       "      <td>45</td>\n",
       "      <td>986</td>\n",
       "      <td>46</td>\n",
       "      <td>1218</td>\n",
       "      <td>26.478261</td>\n",
       "      <td>21.434783</td>\n",
       "      <td>1.235294</td>\n",
       "      <td>0.037767</td>\n",
       "      <td>0.046653</td>\n",
       "      <td>0.809524</td>\n",
       "      <td>0.893944</td>\n",
       "      <td>3.355916</td>\n",
       "    </tr>\n",
       "    <tr>\n",
       "      <th>185</th>\n",
       "      <td>MM Sharma</td>\n",
       "      <td>61</td>\n",
       "      <td>1289</td>\n",
       "      <td>78</td>\n",
       "      <td>1676</td>\n",
       "      <td>21.487179</td>\n",
       "      <td>16.525641</td>\n",
       "      <td>1.300233</td>\n",
       "      <td>0.046539</td>\n",
       "      <td>0.060512</td>\n",
       "      <td>0.769093</td>\n",
       "      <td>0.876144</td>\n",
       "      <td>3.424093</td>\n",
       "    </tr>\n",
       "    <tr>\n",
       "      <th>187</th>\n",
       "      <td>MP Stoinis</td>\n",
       "      <td>7</td>\n",
       "      <td>140</td>\n",
       "      <td>9</td>\n",
       "      <td>203</td>\n",
       "      <td>22.555556</td>\n",
       "      <td>15.555556</td>\n",
       "      <td>1.450000</td>\n",
       "      <td>0.044335</td>\n",
       "      <td>0.064286</td>\n",
       "      <td>0.689655</td>\n",
       "      <td>0.798276</td>\n",
       "      <td>3.758099</td>\n",
       "    </tr>\n",
       "    <tr>\n",
       "      <th>292</th>\n",
       "      <td>Sandeep Sharma</td>\n",
       "      <td>43</td>\n",
       "      <td>973</td>\n",
       "      <td>59</td>\n",
       "      <td>1221</td>\n",
       "      <td>20.694915</td>\n",
       "      <td>16.491525</td>\n",
       "      <td>1.254882</td>\n",
       "      <td>0.048321</td>\n",
       "      <td>0.060637</td>\n",
       "      <td>0.796888</td>\n",
       "      <td>0.905846</td>\n",
       "      <td>3.311821</td>\n",
       "    </tr>\n",
       "    <tr>\n",
       "      <th>301</th>\n",
       "      <td>Swapnil Singh</td>\n",
       "      <td>1</td>\n",
       "      <td>18</td>\n",
       "      <td>0</td>\n",
       "      <td>29</td>\n",
       "      <td>inf</td>\n",
       "      <td>inf</td>\n",
       "      <td>1.611111</td>\n",
       "      <td>0.000000</td>\n",
       "      <td>0.000000</td>\n",
       "      <td>0.620690</td>\n",
       "      <td>0.620690</td>\n",
       "      <td>4.833333</td>\n",
       "    </tr>\n",
       "  </tbody>\n",
       "</table>\n",
       "</div>"
      ],
      "text/plain": [
       "             bowler  matches  ballsbowled  wkts  runs  Avg(TR/Wkts)  \\\n",
       "34         AR Patel       45          986    46  1218     26.478261   \n",
       "185       MM Sharma       61         1289    78  1676     21.487179   \n",
       "187      MP Stoinis        7          140     9   203     22.555556   \n",
       "292  Sandeep Sharma       43          973    59  1221     20.694915   \n",
       "301   Swapnil Singh        1           18     0    29           inf   \n",
       "\n",
       "     bowling_sr(bb/wkts)  economy_rate(runs/bb)  (1/bowling_avg)  \\\n",
       "34             21.434783               1.235294         0.037767   \n",
       "185            16.525641               1.300233         0.046539   \n",
       "187            15.555556               1.450000         0.044335   \n",
       "292            16.491525               1.254882         0.048321   \n",
       "301                  inf               1.611111         0.000000   \n",
       "\n",
       "     (1/bowling_sr)  (1/bowling_er)  bowling_sum  CombinedBowlingRate  \n",
       "34         0.046653        0.809524     0.893944             3.355916  \n",
       "185        0.060512        0.769093     0.876144             3.424093  \n",
       "187        0.064286        0.689655     0.798276             3.758099  \n",
       "292        0.060637        0.796888     0.905846             3.311821  \n",
       "301        0.000000        0.620690     0.620690             4.833333  "
      ]
     },
     "execution_count": 84,
     "metadata": {},
     "output_type": "execute_result"
    }
   ],
   "source": [
    "bowler[bowler['bowler'].isin(['Sandeep Sharma', 'MM Sharma', 'AR Patel', 'T Natarajan',\n",
    "       'MP Stoinis', 'Swapnil Singh'])]"
   ]
  },
  {
   "cell_type": "markdown",
   "metadata": {},
   "source": [
    "So we see that all players in KXIP team have a bowling profile. Except one player is missing 'T Natarajan'\n",
    "\n",
    "\n",
    "Bowler performance is represented by 'CombinedBowlingRate' column .so we calculate bowlers average through 'CombinedBowlingRate' column\n",
    "\n"
   ]
  },
  {
   "cell_type": "code",
   "execution_count": 86,
   "metadata": {},
   "outputs": [
    {
     "data": {
      "text/plain": [
       "3.736652444189555"
      ]
     },
     "execution_count": 86,
     "metadata": {},
     "output_type": "execute_result"
    }
   ],
   "source": [
    "bowler[bowler['bowler'].isin(['Sandeep Sharma', 'MM Sharma', 'AR Patel', 'T Natarajan',\n",
    "       'MP Stoinis', 'Swapnil Singh'])]['CombinedBowlingRate'].agg('mean')"
   ]
  },
  {
   "cell_type": "markdown",
   "metadata": {},
   "source": [
    "# DD vs RCB"
   ]
  },
  {
   "cell_type": "markdown",
   "metadata": {},
   "source": [
    "checking match details\n"
   ]
  },
  {
   "cell_type": "code",
   "execution_count": 87,
   "metadata": {},
   "outputs": [
    {
     "data": {
      "text/html": [
       "<div>\n",
       "<style scoped>\n",
       "    .dataframe tbody tr th:only-of-type {\n",
       "        vertical-align: middle;\n",
       "    }\n",
       "\n",
       "    .dataframe tbody tr th {\n",
       "        vertical-align: top;\n",
       "    }\n",
       "\n",
       "    .dataframe thead th {\n",
       "        text-align: right;\n",
       "    }\n",
       "</style>\n",
       "<table border=\"1\" class=\"dataframe\">\n",
       "  <thead>\n",
       "    <tr style=\"text-align: right;\">\n",
       "      <th></th>\n",
       "      <th>id</th>\n",
       "      <th>season</th>\n",
       "      <th>city</th>\n",
       "      <th>date</th>\n",
       "      <th>team1</th>\n",
       "      <th>team2</th>\n",
       "      <th>toss_winner</th>\n",
       "      <th>toss_decision</th>\n",
       "      <th>result</th>\n",
       "      <th>dl_applied</th>\n",
       "      <th>winner</th>\n",
       "      <th>win_by_runs</th>\n",
       "      <th>win_by_wickets</th>\n",
       "      <th>player_of_match</th>\n",
       "      <th>venue</th>\n",
       "      <th>umpire1</th>\n",
       "      <th>umpire2</th>\n",
       "      <th>umpire3</th>\n",
       "    </tr>\n",
       "  </thead>\n",
       "  <tbody>\n",
       "    <tr>\n",
       "      <th>4</th>\n",
       "      <td>5</td>\n",
       "      <td>2017</td>\n",
       "      <td>Bangalore</td>\n",
       "      <td>2017-04-08</td>\n",
       "      <td>Royal Challengers Bangalore</td>\n",
       "      <td>Delhi Daredevils</td>\n",
       "      <td>Royal Challengers Bangalore</td>\n",
       "      <td>bat</td>\n",
       "      <td>normal</td>\n",
       "      <td>0</td>\n",
       "      <td>Royal Challengers Bangalore</td>\n",
       "      <td>15</td>\n",
       "      <td>0</td>\n",
       "      <td>KM Jadhav</td>\n",
       "      <td>M Chinnaswamy Stadium</td>\n",
       "      <td>NaN</td>\n",
       "      <td>NaN</td>\n",
       "      <td>NaN</td>\n",
       "    </tr>\n",
       "  </tbody>\n",
       "</table>\n",
       "</div>"
      ],
      "text/plain": [
       "   id  season       city        date                        team1  \\\n",
       "4   5    2017  Bangalore  2017-04-08  Royal Challengers Bangalore   \n",
       "\n",
       "              team2                  toss_winner toss_decision  result  \\\n",
       "4  Delhi Daredevils  Royal Challengers Bangalore           bat  normal   \n",
       "\n",
       "   dl_applied                       winner  win_by_runs  win_by_wickets  \\\n",
       "4           0  Royal Challengers Bangalore           15               0   \n",
       "\n",
       "  player_of_match                  venue umpire1 umpire2 umpire3  \n",
       "4       KM Jadhav  M Chinnaswamy Stadium     NaN     NaN     NaN  "
      ]
     },
     "execution_count": 87,
     "metadata": {},
     "output_type": "execute_result"
    }
   ],
   "source": [
    "matches[matches['id']==5]"
   ]
  },
  {
   "cell_type": "markdown",
   "metadata": {},
   "source": [
    "checking player names in RCB team"
   ]
  },
  {
   "cell_type": "code",
   "execution_count": 88,
   "metadata": {},
   "outputs": [
    {
     "data": {
      "text/plain": [
       "array(['CH Gayle', 'SR Watson', 'Mandeep Singh', 'KM Jadhav', 'STR Binny',\n",
       "       'Vishnu Vinod', 'Iqbal Abdulla', 'P Negi', 'TS Mills'],\n",
       "      dtype=object)"
      ]
     },
     "execution_count": 88,
     "metadata": {},
     "output_type": "execute_result"
    }
   ],
   "source": [
    "deliveries_complete_data[(deliveries_complete_data['match_id']==5)&(deliveries_complete_data['batting_team']=='Royal Challengers Bangalore')]['batsman'].unique()"
   ]
  },
  {
   "cell_type": "markdown",
   "metadata": {},
   "source": [
    "verifying all the player present in the batting profile table"
   ]
  },
  {
   "cell_type": "code",
   "execution_count": 89,
   "metadata": {},
   "outputs": [
    {
     "data": {
      "text/html": [
       "<div>\n",
       "<style scoped>\n",
       "    .dataframe tbody tr th:only-of-type {\n",
       "        vertical-align: middle;\n",
       "    }\n",
       "\n",
       "    .dataframe tbody tr th {\n",
       "        vertical-align: top;\n",
       "    }\n",
       "\n",
       "    .dataframe thead th {\n",
       "        text-align: right;\n",
       "    }\n",
       "</style>\n",
       "<table border=\"1\" class=\"dataframe\">\n",
       "  <thead>\n",
       "    <tr style=\"text-align: right;\">\n",
       "      <th></th>\n",
       "      <th>batsman</th>\n",
       "      <th>batting_played</th>\n",
       "      <th>player_dismissed</th>\n",
       "      <th>total_runs</th>\n",
       "      <th>HS</th>\n",
       "      <th>ballsfaced</th>\n",
       "      <th>4's</th>\n",
       "      <th>6's</th>\n",
       "      <th>Avg(TR/M)</th>\n",
       "      <th>SR(TR/BF)</th>\n",
       "      <th>battingAVG(tr/outs)</th>\n",
       "      <th>runs_by_balls(R/B)</th>\n",
       "      <th>Calc</th>\n",
       "    </tr>\n",
       "  </thead>\n",
       "  <tbody>\n",
       "    <tr>\n",
       "      <th>77</th>\n",
       "      <td>CH Gayle</td>\n",
       "      <td>91</td>\n",
       "      <td>81</td>\n",
       "      <td>3697</td>\n",
       "      <td>181</td>\n",
       "      <td>2360</td>\n",
       "      <td>291</td>\n",
       "      <td>247</td>\n",
       "      <td>40.626374</td>\n",
       "      <td>156.652542</td>\n",
       "      <td>45.641975</td>\n",
       "      <td>1.566525</td>\n",
       "      <td>71.499315</td>\n",
       "    </tr>\n",
       "    <tr>\n",
       "      <th>149</th>\n",
       "      <td>Iqbal Abdulla</td>\n",
       "      <td>12</td>\n",
       "      <td>1</td>\n",
       "      <td>92</td>\n",
       "      <td>35</td>\n",
       "      <td>79</td>\n",
       "      <td>9</td>\n",
       "      <td>1</td>\n",
       "      <td>7.666667</td>\n",
       "      <td>116.455696</td>\n",
       "      <td>92.000000</td>\n",
       "      <td>1.164557</td>\n",
       "      <td>107.139241</td>\n",
       "    </tr>\n",
       "    <tr>\n",
       "      <th>188</th>\n",
       "      <td>KM Jadhav</td>\n",
       "      <td>44</td>\n",
       "      <td>26</td>\n",
       "      <td>655</td>\n",
       "      <td>63</td>\n",
       "      <td>490</td>\n",
       "      <td>46</td>\n",
       "      <td>23</td>\n",
       "      <td>14.886364</td>\n",
       "      <td>133.673469</td>\n",
       "      <td>25.192308</td>\n",
       "      <td>1.336735</td>\n",
       "      <td>33.675432</td>\n",
       "    </tr>\n",
       "    <tr>\n",
       "      <th>248</th>\n",
       "      <td>Mandeep Singh</td>\n",
       "      <td>48</td>\n",
       "      <td>46</td>\n",
       "      <td>967</td>\n",
       "      <td>78</td>\n",
       "      <td>760</td>\n",
       "      <td>113</td>\n",
       "      <td>14</td>\n",
       "      <td>20.145833</td>\n",
       "      <td>127.236842</td>\n",
       "      <td>21.021739</td>\n",
       "      <td>1.272368</td>\n",
       "      <td>26.747397</td>\n",
       "    </tr>\n",
       "    <tr>\n",
       "      <th>270</th>\n",
       "      <td>P Negi</td>\n",
       "      <td>19</td>\n",
       "      <td>11</td>\n",
       "      <td>225</td>\n",
       "      <td>37</td>\n",
       "      <td>170</td>\n",
       "      <td>17</td>\n",
       "      <td>9</td>\n",
       "      <td>11.842105</td>\n",
       "      <td>132.352941</td>\n",
       "      <td>20.454545</td>\n",
       "      <td>1.323529</td>\n",
       "      <td>27.072193</td>\n",
       "    </tr>\n",
       "    <tr>\n",
       "      <th>369</th>\n",
       "      <td>SR Watson</td>\n",
       "      <td>91</td>\n",
       "      <td>79</td>\n",
       "      <td>2669</td>\n",
       "      <td>109</td>\n",
       "      <td>1869</td>\n",
       "      <td>253</td>\n",
       "      <td>121</td>\n",
       "      <td>29.329670</td>\n",
       "      <td>142.803638</td>\n",
       "      <td>33.784810</td>\n",
       "      <td>1.428036</td>\n",
       "      <td>48.245938</td>\n",
       "    </tr>\n",
       "    <tr>\n",
       "      <th>374</th>\n",
       "      <td>STR Binny</td>\n",
       "      <td>49</td>\n",
       "      <td>32</td>\n",
       "      <td>727</td>\n",
       "      <td>49</td>\n",
       "      <td>542</td>\n",
       "      <td>53</td>\n",
       "      <td>26</td>\n",
       "      <td>14.836735</td>\n",
       "      <td>134.132841</td>\n",
       "      <td>22.718750</td>\n",
       "      <td>1.341328</td>\n",
       "      <td>30.473305</td>\n",
       "    </tr>\n",
       "  </tbody>\n",
       "</table>\n",
       "</div>"
      ],
      "text/plain": [
       "           batsman  batting_played  player_dismissed  total_runs   HS  \\\n",
       "77        CH Gayle              91                81        3697  181   \n",
       "149  Iqbal Abdulla              12                 1          92   35   \n",
       "188      KM Jadhav              44                26         655   63   \n",
       "248  Mandeep Singh              48                46         967   78   \n",
       "270         P Negi              19                11         225   37   \n",
       "369      SR Watson              91                79        2669  109   \n",
       "374      STR Binny              49                32         727   49   \n",
       "\n",
       "     ballsfaced  4's  6's  Avg(TR/M)   SR(TR/BF)  battingAVG(tr/outs)  \\\n",
       "77         2360  291  247  40.626374  156.652542            45.641975   \n",
       "149          79    9    1   7.666667  116.455696            92.000000   \n",
       "188         490   46   23  14.886364  133.673469            25.192308   \n",
       "248         760  113   14  20.145833  127.236842            21.021739   \n",
       "270         170   17    9  11.842105  132.352941            20.454545   \n",
       "369        1869  253  121  29.329670  142.803638            33.784810   \n",
       "374         542   53   26  14.836735  134.132841            22.718750   \n",
       "\n",
       "     runs_by_balls(R/B)        Calc  \n",
       "77             1.566525   71.499315  \n",
       "149            1.164557  107.139241  \n",
       "188            1.336735   33.675432  \n",
       "248            1.272368   26.747397  \n",
       "270            1.323529   27.072193  \n",
       "369            1.428036   48.245938  \n",
       "374            1.341328   30.473305  "
      ]
     },
     "execution_count": 89,
     "metadata": {},
     "output_type": "execute_result"
    }
   ],
   "source": [
    "batsman1[batsman1['batsman'].isin(['CH Gayle', 'SR Watson', 'Mandeep Singh', 'KM Jadhav', 'STR Binny',\n",
    "       'Vishnu Vinod', 'Iqbal Abdulla', 'P Negi', 'TS Mills'])]"
   ]
  },
  {
   "cell_type": "markdown",
   "metadata": {},
   "source": [
    "So we see that all players in RCB team have a batting profile.Missing players are 'TS Mills','Vishnu Vinod'\n",
    "\n",
    "Batsman performance is represented by 'Calc' column .so we calculate batsmans average through 'Calc' column"
   ]
  },
  {
   "cell_type": "code",
   "execution_count": 90,
   "metadata": {},
   "outputs": [
    {
     "data": {
      "text/plain": [
       "49.264688487448375"
      ]
     },
     "execution_count": 90,
     "metadata": {},
     "output_type": "execute_result"
    }
   ],
   "source": [
    "batsman1[batsman1['batsman'].isin(['CH Gayle', 'SR Watson', 'Mandeep Singh', 'KM Jadhav', 'STR Binny',\n",
    "       'Vishnu Vinod', 'Iqbal Abdulla', 'P Negi', 'TS Mills'])]['Calc'].agg('mean')"
   ]
  },
  {
   "cell_type": "markdown",
   "metadata": {},
   "source": [
    "checking the player names in RCB team"
   ]
  },
  {
   "cell_type": "code",
   "execution_count": 91,
   "metadata": {},
   "outputs": [
    {
     "data": {
      "text/plain": [
       "array(['B Stanlake', 'YS Chahal', 'Iqbal Abdulla', 'TS Mills',\n",
       "       'SR Watson', 'P Negi'], dtype=object)"
      ]
     },
     "execution_count": 91,
     "metadata": {},
     "output_type": "execute_result"
    }
   ],
   "source": [
    "deliveries_complete_data[(deliveries_complete_data['match_id']==5)&(deliveries_complete_data['bowling_team']=='Royal Challengers Bangalore')]['bowler'].unique()"
   ]
  },
  {
   "cell_type": "markdown",
   "metadata": {},
   "source": [
    "verifying all the player present in bowling profile table"
   ]
  },
  {
   "cell_type": "code",
   "execution_count": 92,
   "metadata": {},
   "outputs": [
    {
     "data": {
      "text/html": [
       "<div>\n",
       "<style scoped>\n",
       "    .dataframe tbody tr th:only-of-type {\n",
       "        vertical-align: middle;\n",
       "    }\n",
       "\n",
       "    .dataframe tbody tr th {\n",
       "        vertical-align: top;\n",
       "    }\n",
       "\n",
       "    .dataframe thead th {\n",
       "        text-align: right;\n",
       "    }\n",
       "</style>\n",
       "<table border=\"1\" class=\"dataframe\">\n",
       "  <thead>\n",
       "    <tr style=\"text-align: right;\">\n",
       "      <th></th>\n",
       "      <th>bowler</th>\n",
       "      <th>matches</th>\n",
       "      <th>ballsbowled</th>\n",
       "      <th>wkts</th>\n",
       "      <th>runs</th>\n",
       "      <th>Avg(TR/Wkts)</th>\n",
       "      <th>bowling_sr(bb/wkts)</th>\n",
       "      <th>economy_rate(runs/bb)</th>\n",
       "      <th>(1/bowling_avg)</th>\n",
       "      <th>(1/bowling_sr)</th>\n",
       "      <th>(1/bowling_er)</th>\n",
       "      <th>bowling_sum</th>\n",
       "      <th>CombinedBowlingRate</th>\n",
       "    </tr>\n",
       "  </thead>\n",
       "  <tbody>\n",
       "    <tr>\n",
       "      <th>116</th>\n",
       "      <td>Iqbal Abdulla</td>\n",
       "      <td>46</td>\n",
       "      <td>909</td>\n",
       "      <td>43</td>\n",
       "      <td>1070</td>\n",
       "      <td>24.883721</td>\n",
       "      <td>21.139535</td>\n",
       "      <td>1.177118</td>\n",
       "      <td>0.040187</td>\n",
       "      <td>0.047305</td>\n",
       "      <td>0.849533</td>\n",
       "      <td>0.937024</td>\n",
       "      <td>3.201624</td>\n",
       "    </tr>\n",
       "    <tr>\n",
       "      <th>204</th>\n",
       "      <td>P Negi</td>\n",
       "      <td>24</td>\n",
       "      <td>439</td>\n",
       "      <td>17</td>\n",
       "      <td>600</td>\n",
       "      <td>35.294118</td>\n",
       "      <td>25.823529</td>\n",
       "      <td>1.366743</td>\n",
       "      <td>0.028333</td>\n",
       "      <td>0.038724</td>\n",
       "      <td>0.731667</td>\n",
       "      <td>0.798724</td>\n",
       "      <td>3.755989</td>\n",
       "    </tr>\n",
       "    <tr>\n",
       "      <th>285</th>\n",
       "      <td>SR Watson</td>\n",
       "      <td>86</td>\n",
       "      <td>1796</td>\n",
       "      <td>95</td>\n",
       "      <td>2244</td>\n",
       "      <td>23.621053</td>\n",
       "      <td>18.905263</td>\n",
       "      <td>1.249443</td>\n",
       "      <td>0.042335</td>\n",
       "      <td>0.052895</td>\n",
       "      <td>0.800357</td>\n",
       "      <td>0.895587</td>\n",
       "      <td>3.349759</td>\n",
       "    </tr>\n",
       "    <tr>\n",
       "      <th>329</th>\n",
       "      <td>YS Chahal</td>\n",
       "      <td>42</td>\n",
       "      <td>948</td>\n",
       "      <td>58</td>\n",
       "      <td>1249</td>\n",
       "      <td>21.534483</td>\n",
       "      <td>16.344828</td>\n",
       "      <td>1.317511</td>\n",
       "      <td>0.046437</td>\n",
       "      <td>0.061181</td>\n",
       "      <td>0.759007</td>\n",
       "      <td>0.866626</td>\n",
       "      <td>3.461702</td>\n",
       "    </tr>\n",
       "  </tbody>\n",
       "</table>\n",
       "</div>"
      ],
      "text/plain": [
       "            bowler  matches  ballsbowled  wkts  runs  Avg(TR/Wkts)  \\\n",
       "116  Iqbal Abdulla       46          909    43  1070     24.883721   \n",
       "204         P Negi       24          439    17   600     35.294118   \n",
       "285      SR Watson       86         1796    95  2244     23.621053   \n",
       "329      YS Chahal       42          948    58  1249     21.534483   \n",
       "\n",
       "     bowling_sr(bb/wkts)  economy_rate(runs/bb)  (1/bowling_avg)  \\\n",
       "116            21.139535               1.177118         0.040187   \n",
       "204            25.823529               1.366743         0.028333   \n",
       "285            18.905263               1.249443         0.042335   \n",
       "329            16.344828               1.317511         0.046437   \n",
       "\n",
       "     (1/bowling_sr)  (1/bowling_er)  bowling_sum  CombinedBowlingRate  \n",
       "116        0.047305        0.849533     0.937024             3.201624  \n",
       "204        0.038724        0.731667     0.798724             3.755989  \n",
       "285        0.052895        0.800357     0.895587             3.349759  \n",
       "329        0.061181        0.759007     0.866626             3.461702  "
      ]
     },
     "execution_count": 92,
     "metadata": {},
     "output_type": "execute_result"
    }
   ],
   "source": [
    "bowler[bowler['bowler'].isin(['B Stanlake', 'YS Chahal', 'Iqbal Abdulla', 'TS Mills',\n",
    "       'SR Watson', 'P Negi'])]"
   ]
  },
  {
   "cell_type": "markdown",
   "metadata": {},
   "source": [
    "So we see that all players in RCB team have a bowling profile.Missing players 'B Stanlake','TS Mills'\n",
    "\n",
    "\n",
    "Bowler performance is represented by 'CombinedBowlingRate' column .so we calculate bowlers average through 'CombinedBowlingRate' column\n",
    "\n"
   ]
  },
  {
   "cell_type": "code",
   "execution_count": 93,
   "metadata": {},
   "outputs": [
    {
     "data": {
      "text/plain": [
       "3.442268414059714"
      ]
     },
     "execution_count": 93,
     "metadata": {},
     "output_type": "execute_result"
    }
   ],
   "source": [
    "bowler[bowler['bowler'].isin(['B Stanlake', 'YS Chahal', 'Iqbal Abdulla', 'TS Mills',\n",
    "       'SR Watson', 'P Negi'])]['CombinedBowlingRate'].agg('mean')"
   ]
  },
  {
   "cell_type": "markdown",
   "metadata": {},
   "source": [
    "checking player names in DD team"
   ]
  },
  {
   "cell_type": "code",
   "execution_count": 94,
   "metadata": {},
   "outputs": [
    {
     "data": {
      "text/plain": [
       "array(['AP Tare', 'SW Billings', 'KK Nair', 'SV Samson', 'RR Pant',\n",
       "       'CH Morris', 'CR Brathwaite', 'PJ Cummins', 'A Mishra', 'S Nadeem',\n",
       "       'Z Khan'], dtype=object)"
      ]
     },
     "execution_count": 94,
     "metadata": {},
     "output_type": "execute_result"
    }
   ],
   "source": [
    "deliveries_complete_data[(deliveries_complete_data['match_id']==5)&(deliveries_complete_data['batting_team']=='Delhi Daredevils')]['batsman'].unique()"
   ]
  },
  {
   "cell_type": "markdown",
   "metadata": {},
   "source": [
    "verifying the all the player present in batting profile table\n",
    "\n"
   ]
  },
  {
   "cell_type": "code",
   "execution_count": 95,
   "metadata": {},
   "outputs": [
    {
     "data": {
      "text/html": [
       "<div>\n",
       "<style scoped>\n",
       "    .dataframe tbody tr th:only-of-type {\n",
       "        vertical-align: middle;\n",
       "    }\n",
       "\n",
       "    .dataframe tbody tr th {\n",
       "        vertical-align: top;\n",
       "    }\n",
       "\n",
       "    .dataframe thead th {\n",
       "        text-align: right;\n",
       "    }\n",
       "</style>\n",
       "<table border=\"1\" class=\"dataframe\">\n",
       "  <thead>\n",
       "    <tr style=\"text-align: right;\">\n",
       "      <th></th>\n",
       "      <th>batsman</th>\n",
       "      <th>batting_played</th>\n",
       "      <th>player_dismissed</th>\n",
       "      <th>total_runs</th>\n",
       "      <th>HS</th>\n",
       "      <th>ballsfaced</th>\n",
       "      <th>4's</th>\n",
       "      <th>6's</th>\n",
       "      <th>Avg(TR/M)</th>\n",
       "      <th>SR(TR/BF)</th>\n",
       "      <th>battingAVG(tr/outs)</th>\n",
       "      <th>runs_by_balls(R/B)</th>\n",
       "      <th>Calc</th>\n",
       "    </tr>\n",
       "  </thead>\n",
       "  <tbody>\n",
       "    <tr>\n",
       "      <th>5</th>\n",
       "      <td>A Mishra</td>\n",
       "      <td>43</td>\n",
       "      <td>27</td>\n",
       "      <td>319</td>\n",
       "      <td>32</td>\n",
       "      <td>326</td>\n",
       "      <td>26</td>\n",
       "      <td>3</td>\n",
       "      <td>7.418605</td>\n",
       "      <td>97.852761</td>\n",
       "      <td>11.814815</td>\n",
       "      <td>0.978528</td>\n",
       "      <td>11.561122</td>\n",
       "    </tr>\n",
       "    <tr>\n",
       "      <th>40</th>\n",
       "      <td>AP Tare</td>\n",
       "      <td>24</td>\n",
       "      <td>21</td>\n",
       "      <td>344</td>\n",
       "      <td>59</td>\n",
       "      <td>260</td>\n",
       "      <td>38</td>\n",
       "      <td>11</td>\n",
       "      <td>14.333333</td>\n",
       "      <td>132.307692</td>\n",
       "      <td>16.380952</td>\n",
       "      <td>1.323077</td>\n",
       "      <td>21.673260</td>\n",
       "    </tr>\n",
       "    <tr>\n",
       "      <th>78</th>\n",
       "      <td>CH Morris</td>\n",
       "      <td>20</td>\n",
       "      <td>8</td>\n",
       "      <td>298</td>\n",
       "      <td>83</td>\n",
       "      <td>178</td>\n",
       "      <td>18</td>\n",
       "      <td>16</td>\n",
       "      <td>14.900000</td>\n",
       "      <td>167.415730</td>\n",
       "      <td>37.250000</td>\n",
       "      <td>1.674157</td>\n",
       "      <td>62.362360</td>\n",
       "    </tr>\n",
       "    <tr>\n",
       "      <th>87</th>\n",
       "      <td>CR Brathwaite</td>\n",
       "      <td>6</td>\n",
       "      <td>6</td>\n",
       "      <td>92</td>\n",
       "      <td>35</td>\n",
       "      <td>40</td>\n",
       "      <td>6</td>\n",
       "      <td>8</td>\n",
       "      <td>15.333333</td>\n",
       "      <td>230.000000</td>\n",
       "      <td>15.333333</td>\n",
       "      <td>2.300000</td>\n",
       "      <td>35.266667</td>\n",
       "    </tr>\n",
       "    <tr>\n",
       "      <th>186</th>\n",
       "      <td>KK Nair</td>\n",
       "      <td>37</td>\n",
       "      <td>34</td>\n",
       "      <td>908</td>\n",
       "      <td>86</td>\n",
       "      <td>700</td>\n",
       "      <td>95</td>\n",
       "      <td>20</td>\n",
       "      <td>24.540541</td>\n",
       "      <td>129.714286</td>\n",
       "      <td>26.705882</td>\n",
       "      <td>1.297143</td>\n",
       "      <td>34.641345</td>\n",
       "    </tr>\n",
       "    <tr>\n",
       "      <th>277</th>\n",
       "      <td>PJ Cummins</td>\n",
       "      <td>1</td>\n",
       "      <td>1</td>\n",
       "      <td>1</td>\n",
       "      <td>1</td>\n",
       "      <td>2</td>\n",
       "      <td>0</td>\n",
       "      <td>0</td>\n",
       "      <td>1.000000</td>\n",
       "      <td>50.000000</td>\n",
       "      <td>1.000000</td>\n",
       "      <td>0.500000</td>\n",
       "      <td>0.500000</td>\n",
       "    </tr>\n",
       "    <tr>\n",
       "      <th>312</th>\n",
       "      <td>RR Pant</td>\n",
       "      <td>10</td>\n",
       "      <td>7</td>\n",
       "      <td>202</td>\n",
       "      <td>70</td>\n",
       "      <td>155</td>\n",
       "      <td>19</td>\n",
       "      <td>6</td>\n",
       "      <td>20.200000</td>\n",
       "      <td>130.322581</td>\n",
       "      <td>28.857143</td>\n",
       "      <td>1.303226</td>\n",
       "      <td>37.607373</td>\n",
       "    </tr>\n",
       "    <tr>\n",
       "      <th>332</th>\n",
       "      <td>S Nadeem</td>\n",
       "      <td>13</td>\n",
       "      <td>11</td>\n",
       "      <td>30</td>\n",
       "      <td>8</td>\n",
       "      <td>62</td>\n",
       "      <td>1</td>\n",
       "      <td>0</td>\n",
       "      <td>2.307692</td>\n",
       "      <td>48.387097</td>\n",
       "      <td>2.727273</td>\n",
       "      <td>0.483871</td>\n",
       "      <td>1.319648</td>\n",
       "    </tr>\n",
       "    <tr>\n",
       "      <th>375</th>\n",
       "      <td>SV Samson</td>\n",
       "      <td>48</td>\n",
       "      <td>41</td>\n",
       "      <td>1071</td>\n",
       "      <td>77</td>\n",
       "      <td>890</td>\n",
       "      <td>80</td>\n",
       "      <td>38</td>\n",
       "      <td>22.312500</td>\n",
       "      <td>120.337079</td>\n",
       "      <td>26.121951</td>\n",
       "      <td>1.203371</td>\n",
       "      <td>31.434393</td>\n",
       "    </tr>\n",
       "    <tr>\n",
       "      <th>376</th>\n",
       "      <td>SW Billings</td>\n",
       "      <td>4</td>\n",
       "      <td>4</td>\n",
       "      <td>97</td>\n",
       "      <td>59</td>\n",
       "      <td>66</td>\n",
       "      <td>5</td>\n",
       "      <td>4</td>\n",
       "      <td>24.250000</td>\n",
       "      <td>146.969697</td>\n",
       "      <td>24.250000</td>\n",
       "      <td>1.469697</td>\n",
       "      <td>35.640152</td>\n",
       "    </tr>\n",
       "    <tr>\n",
       "      <th>434</th>\n",
       "      <td>Z Khan</td>\n",
       "      <td>24</td>\n",
       "      <td>14</td>\n",
       "      <td>117</td>\n",
       "      <td>23</td>\n",
       "      <td>128</td>\n",
       "      <td>11</td>\n",
       "      <td>2</td>\n",
       "      <td>4.875000</td>\n",
       "      <td>91.406250</td>\n",
       "      <td>8.357143</td>\n",
       "      <td>0.914062</td>\n",
       "      <td>7.638951</td>\n",
       "    </tr>\n",
       "  </tbody>\n",
       "</table>\n",
       "</div>"
      ],
      "text/plain": [
       "           batsman  batting_played  player_dismissed  total_runs  HS  \\\n",
       "5         A Mishra              43                27         319  32   \n",
       "40         AP Tare              24                21         344  59   \n",
       "78       CH Morris              20                 8         298  83   \n",
       "87   CR Brathwaite               6                 6          92  35   \n",
       "186        KK Nair              37                34         908  86   \n",
       "277     PJ Cummins               1                 1           1   1   \n",
       "312        RR Pant              10                 7         202  70   \n",
       "332       S Nadeem              13                11          30   8   \n",
       "375      SV Samson              48                41        1071  77   \n",
       "376    SW Billings               4                 4          97  59   \n",
       "434         Z Khan              24                14         117  23   \n",
       "\n",
       "     ballsfaced  4's  6's  Avg(TR/M)   SR(TR/BF)  battingAVG(tr/outs)  \\\n",
       "5           326   26    3   7.418605   97.852761            11.814815   \n",
       "40          260   38   11  14.333333  132.307692            16.380952   \n",
       "78          178   18   16  14.900000  167.415730            37.250000   \n",
       "87           40    6    8  15.333333  230.000000            15.333333   \n",
       "186         700   95   20  24.540541  129.714286            26.705882   \n",
       "277           2    0    0   1.000000   50.000000             1.000000   \n",
       "312         155   19    6  20.200000  130.322581            28.857143   \n",
       "332          62    1    0   2.307692   48.387097             2.727273   \n",
       "375         890   80   38  22.312500  120.337079            26.121951   \n",
       "376          66    5    4  24.250000  146.969697            24.250000   \n",
       "434         128   11    2   4.875000   91.406250             8.357143   \n",
       "\n",
       "     runs_by_balls(R/B)       Calc  \n",
       "5              0.978528  11.561122  \n",
       "40             1.323077  21.673260  \n",
       "78             1.674157  62.362360  \n",
       "87             2.300000  35.266667  \n",
       "186            1.297143  34.641345  \n",
       "277            0.500000   0.500000  \n",
       "312            1.303226  37.607373  \n",
       "332            0.483871   1.319648  \n",
       "375            1.203371  31.434393  \n",
       "376            1.469697  35.640152  \n",
       "434            0.914062   7.638951  "
      ]
     },
     "execution_count": 95,
     "metadata": {},
     "output_type": "execute_result"
    }
   ],
   "source": [
    "batsman1[batsman1['batsman'].isin(['AP Tare', 'SW Billings', 'KK Nair', 'SV Samson', 'RR Pant',\n",
    "       'CH Morris', 'CR Brathwaite', 'PJ Cummins', 'A Mishra', 'S Nadeem',\n",
    "       'Z Khan'])]"
   ]
  },
  {
   "cell_type": "markdown",
   "metadata": {},
   "source": [
    "So we see that all players in DD team have a batting profile. Means no player is missing\n",
    "\n",
    "\n",
    "Batsman performance is represented by 'Calc' column .so we calculate batsmans average through 'Calc' column\n",
    "\n"
   ]
  },
  {
   "cell_type": "code",
   "execution_count": 97,
   "metadata": {},
   "outputs": [
    {
     "data": {
      "text/plain": [
       "25.422297278053463"
      ]
     },
     "execution_count": 97,
     "metadata": {},
     "output_type": "execute_result"
    }
   ],
   "source": [
    "batsman1[batsman1['batsman'].isin(['AP Tare', 'SW Billings', 'KK Nair', 'SV Samson', 'RR Pant',\n",
    "       'CH Morris', 'CR Brathwaite', 'PJ Cummins', 'A Mishra', 'S Nadeem',\n",
    "       'Z Khan'])]['Calc'].agg('mean')"
   ]
  },
  {
   "cell_type": "markdown",
   "metadata": {},
   "source": [
    "checking player names in DD team"
   ]
  },
  {
   "cell_type": "code",
   "execution_count": 98,
   "metadata": {},
   "outputs": [
    {
     "data": {
      "text/plain": [
       "array(['Z Khan', 'CH Morris', 'PJ Cummins', 'S Nadeem', 'A Mishra',\n",
       "       'CR Brathwaite'], dtype=object)"
      ]
     },
     "execution_count": 98,
     "metadata": {},
     "output_type": "execute_result"
    }
   ],
   "source": [
    "deliveries_complete_data[(deliveries_complete_data['match_id']==5)&(deliveries_complete_data['bowling_team']=='Delhi Daredevils')]['bowler'].unique()"
   ]
  },
  {
   "cell_type": "markdown",
   "metadata": {},
   "source": [
    "verifying all the players present in bowling profile table"
   ]
  },
  {
   "cell_type": "code",
   "execution_count": 99,
   "metadata": {},
   "outputs": [
    {
     "data": {
      "text/html": [
       "<div>\n",
       "<style scoped>\n",
       "    .dataframe tbody tr th:only-of-type {\n",
       "        vertical-align: middle;\n",
       "    }\n",
       "\n",
       "    .dataframe tbody tr th {\n",
       "        vertical-align: top;\n",
       "    }\n",
       "\n",
       "    .dataframe thead th {\n",
       "        text-align: right;\n",
       "    }\n",
       "</style>\n",
       "<table border=\"1\" class=\"dataframe\">\n",
       "  <thead>\n",
       "    <tr style=\"text-align: right;\">\n",
       "      <th></th>\n",
       "      <th>bowler</th>\n",
       "      <th>matches</th>\n",
       "      <th>ballsbowled</th>\n",
       "      <th>wkts</th>\n",
       "      <th>runs</th>\n",
       "      <th>Avg(TR/Wkts)</th>\n",
       "      <th>bowling_sr(bb/wkts)</th>\n",
       "      <th>economy_rate(runs/bb)</th>\n",
       "      <th>(1/bowling_avg)</th>\n",
       "      <th>(1/bowling_sr)</th>\n",
       "      <th>(1/bowling_er)</th>\n",
       "      <th>bowling_sum</th>\n",
       "      <th>CombinedBowlingRate</th>\n",
       "    </tr>\n",
       "  </thead>\n",
       "  <tbody>\n",
       "    <tr>\n",
       "      <th>4</th>\n",
       "      <td>A Mishra</td>\n",
       "      <td>112</td>\n",
       "      <td>2466</td>\n",
       "      <td>132</td>\n",
       "      <td>2960</td>\n",
       "      <td>22.424242</td>\n",
       "      <td>18.681818</td>\n",
       "      <td>1.200324</td>\n",
       "      <td>0.044595</td>\n",
       "      <td>0.053528</td>\n",
       "      <td>0.833108</td>\n",
       "      <td>0.931231</td>\n",
       "      <td>3.221543</td>\n",
       "    </tr>\n",
       "    <tr>\n",
       "      <th>63</th>\n",
       "      <td>CH Morris</td>\n",
       "      <td>39</td>\n",
       "      <td>853</td>\n",
       "      <td>48</td>\n",
       "      <td>1066</td>\n",
       "      <td>22.208333</td>\n",
       "      <td>17.770833</td>\n",
       "      <td>1.249707</td>\n",
       "      <td>0.045028</td>\n",
       "      <td>0.056272</td>\n",
       "      <td>0.800188</td>\n",
       "      <td>0.901488</td>\n",
       "      <td>3.327832</td>\n",
       "    </tr>\n",
       "    <tr>\n",
       "      <th>70</th>\n",
       "      <td>CR Brathwaite</td>\n",
       "      <td>8</td>\n",
       "      <td>143</td>\n",
       "      <td>9</td>\n",
       "      <td>192</td>\n",
       "      <td>21.333333</td>\n",
       "      <td>15.888889</td>\n",
       "      <td>1.342657</td>\n",
       "      <td>0.046875</td>\n",
       "      <td>0.062937</td>\n",
       "      <td>0.744792</td>\n",
       "      <td>0.854604</td>\n",
       "      <td>3.510399</td>\n",
       "    </tr>\n",
       "    <tr>\n",
       "      <th>211</th>\n",
       "      <td>PJ Cummins</td>\n",
       "      <td>4</td>\n",
       "      <td>90</td>\n",
       "      <td>3</td>\n",
       "      <td>132</td>\n",
       "      <td>44.000000</td>\n",
       "      <td>30.000000</td>\n",
       "      <td>1.466667</td>\n",
       "      <td>0.022727</td>\n",
       "      <td>0.033333</td>\n",
       "      <td>0.681818</td>\n",
       "      <td>0.737879</td>\n",
       "      <td>4.065708</td>\n",
       "    </tr>\n",
       "    <tr>\n",
       "      <th>254</th>\n",
       "      <td>S Nadeem</td>\n",
       "      <td>46</td>\n",
       "      <td>1027</td>\n",
       "      <td>33</td>\n",
       "      <td>1213</td>\n",
       "      <td>36.757576</td>\n",
       "      <td>31.121212</td>\n",
       "      <td>1.181110</td>\n",
       "      <td>0.027205</td>\n",
       "      <td>0.032132</td>\n",
       "      <td>0.846661</td>\n",
       "      <td>0.905999</td>\n",
       "      <td>3.311262</td>\n",
       "    </tr>\n",
       "    <tr>\n",
       "      <th>331</th>\n",
       "      <td>Z Khan</td>\n",
       "      <td>88</td>\n",
       "      <td>2030</td>\n",
       "      <td>107</td>\n",
       "      <td>2537</td>\n",
       "      <td>23.710280</td>\n",
       "      <td>18.971963</td>\n",
       "      <td>1.249754</td>\n",
       "      <td>0.042176</td>\n",
       "      <td>0.052709</td>\n",
       "      <td>0.800158</td>\n",
       "      <td>0.895043</td>\n",
       "      <td>3.351795</td>\n",
       "    </tr>\n",
       "  </tbody>\n",
       "</table>\n",
       "</div>"
      ],
      "text/plain": [
       "            bowler  matches  ballsbowled  wkts  runs  Avg(TR/Wkts)  \\\n",
       "4         A Mishra      112         2466   132  2960     22.424242   \n",
       "63       CH Morris       39          853    48  1066     22.208333   \n",
       "70   CR Brathwaite        8          143     9   192     21.333333   \n",
       "211     PJ Cummins        4           90     3   132     44.000000   \n",
       "254       S Nadeem       46         1027    33  1213     36.757576   \n",
       "331         Z Khan       88         2030   107  2537     23.710280   \n",
       "\n",
       "     bowling_sr(bb/wkts)  economy_rate(runs/bb)  (1/bowling_avg)  \\\n",
       "4              18.681818               1.200324         0.044595   \n",
       "63             17.770833               1.249707         0.045028   \n",
       "70             15.888889               1.342657         0.046875   \n",
       "211            30.000000               1.466667         0.022727   \n",
       "254            31.121212               1.181110         0.027205   \n",
       "331            18.971963               1.249754         0.042176   \n",
       "\n",
       "     (1/bowling_sr)  (1/bowling_er)  bowling_sum  CombinedBowlingRate  \n",
       "4          0.053528        0.833108     0.931231             3.221543  \n",
       "63         0.056272        0.800188     0.901488             3.327832  \n",
       "70         0.062937        0.744792     0.854604             3.510399  \n",
       "211        0.033333        0.681818     0.737879             4.065708  \n",
       "254        0.032132        0.846661     0.905999             3.311262  \n",
       "331        0.052709        0.800158     0.895043             3.351795  "
      ]
     },
     "execution_count": 99,
     "metadata": {},
     "output_type": "execute_result"
    }
   ],
   "source": [
    "bowler[bowler['bowler'].isin(['Z Khan', 'CH Morris', 'PJ Cummins', 'S Nadeem', 'A Mishra',\n",
    "       'CR Brathwaite'])]"
   ]
  },
  {
   "cell_type": "markdown",
   "metadata": {},
   "source": [
    "So we see that all players in DD team have a bowling profile. Means no player is missing here\n",
    "\n",
    "\n",
    "Bowler performance is represented by 'CombinedBowlingRate' column .so we calculate bowlers average through 'CombinedBowlingRate' column\n",
    "\n"
   ]
  },
  {
   "cell_type": "code",
   "execution_count": 100,
   "metadata": {},
   "outputs": [
    {
     "data": {
      "text/plain": [
       "3.46475671146665"
      ]
     },
     "execution_count": 100,
     "metadata": {},
     "output_type": "execute_result"
    }
   ],
   "source": [
    "bowler[bowler['bowler'].isin(['Z Khan', 'CH Morris', 'PJ Cummins', 'S Nadeem', 'A Mishra',\n",
    "       'CR Brathwaite'])]['CombinedBowlingRate'].agg('mean')"
   ]
  },
  {
   "cell_type": "markdown",
   "metadata": {},
   "source": [
    "# These are the players whose dismissals are 0's"
   ]
  },
  {
   "cell_type": "code",
   "execution_count": 101,
   "metadata": {},
   "outputs": [
    {
     "data": {
      "text/html": [
       "<div>\n",
       "<style scoped>\n",
       "    .dataframe tbody tr th:only-of-type {\n",
       "        vertical-align: middle;\n",
       "    }\n",
       "\n",
       "    .dataframe tbody tr th {\n",
       "        vertical-align: top;\n",
       "    }\n",
       "\n",
       "    .dataframe thead th {\n",
       "        text-align: right;\n",
       "    }\n",
       "</style>\n",
       "<table border=\"1\" class=\"dataframe\">\n",
       "  <thead>\n",
       "    <tr style=\"text-align: right;\">\n",
       "      <th></th>\n",
       "      <th>batsman</th>\n",
       "      <th>batting_played</th>\n",
       "      <th>player_dismissed</th>\n",
       "      <th>total_runs</th>\n",
       "      <th>HS</th>\n",
       "      <th>ballsfaced</th>\n",
       "      <th>4's</th>\n",
       "      <th>6's</th>\n",
       "      <th>Avg(TR/M)</th>\n",
       "      <th>SR(TR/BF)</th>\n",
       "      <th>battingAVG(tr/outs)</th>\n",
       "      <th>runs_by_balls(R/B)</th>\n",
       "      <th>Calc</th>\n",
       "    </tr>\n",
       "  </thead>\n",
       "  <tbody>\n",
       "    <tr>\n",
       "      <th>42</th>\n",
       "      <td>AS Rajpoot</td>\n",
       "      <td>1</td>\n",
       "      <td>0</td>\n",
       "      <td>2</td>\n",
       "      <td>2</td>\n",
       "      <td>6</td>\n",
       "      <td>0</td>\n",
       "      <td>0</td>\n",
       "      <td>2.000000</td>\n",
       "      <td>33.333333</td>\n",
       "      <td>inf</td>\n",
       "      <td>0.333333</td>\n",
       "      <td>inf</td>\n",
       "    </tr>\n",
       "    <tr>\n",
       "      <th>58</th>\n",
       "      <td>BA Bhatt</td>\n",
       "      <td>2</td>\n",
       "      <td>0</td>\n",
       "      <td>6</td>\n",
       "      <td>6</td>\n",
       "      <td>7</td>\n",
       "      <td>0</td>\n",
       "      <td>1</td>\n",
       "      <td>3.000000</td>\n",
       "      <td>85.714286</td>\n",
       "      <td>inf</td>\n",
       "      <td>0.857143</td>\n",
       "      <td>inf</td>\n",
       "    </tr>\n",
       "    <tr>\n",
       "      <th>62</th>\n",
       "      <td>BB Sran</td>\n",
       "      <td>3</td>\n",
       "      <td>0</td>\n",
       "      <td>5</td>\n",
       "      <td>2</td>\n",
       "      <td>4</td>\n",
       "      <td>0</td>\n",
       "      <td>0</td>\n",
       "      <td>1.666667</td>\n",
       "      <td>125.000000</td>\n",
       "      <td>inf</td>\n",
       "      <td>1.250000</td>\n",
       "      <td>inf</td>\n",
       "    </tr>\n",
       "    <tr>\n",
       "      <th>81</th>\n",
       "      <td>CJ Jordan</td>\n",
       "      <td>1</td>\n",
       "      <td>0</td>\n",
       "      <td>4</td>\n",
       "      <td>4</td>\n",
       "      <td>4</td>\n",
       "      <td>0</td>\n",
       "      <td>0</td>\n",
       "      <td>4.000000</td>\n",
       "      <td>100.000000</td>\n",
       "      <td>inf</td>\n",
       "      <td>1.000000</td>\n",
       "      <td>inf</td>\n",
       "    </tr>\n",
       "    <tr>\n",
       "      <th>95</th>\n",
       "      <td>DAJ Bracewell</td>\n",
       "      <td>1</td>\n",
       "      <td>0</td>\n",
       "      <td>12</td>\n",
       "      <td>12</td>\n",
       "      <td>9</td>\n",
       "      <td>1</td>\n",
       "      <td>0</td>\n",
       "      <td>12.000000</td>\n",
       "      <td>133.333333</td>\n",
       "      <td>inf</td>\n",
       "      <td>1.333333</td>\n",
       "      <td>inf</td>\n",
       "    </tr>\n",
       "    <tr>\n",
       "      <th>111</th>\n",
       "      <td>DP Vijaykumar</td>\n",
       "      <td>1</td>\n",
       "      <td>0</td>\n",
       "      <td>1</td>\n",
       "      <td>1</td>\n",
       "      <td>1</td>\n",
       "      <td>0</td>\n",
       "      <td>0</td>\n",
       "      <td>1.000000</td>\n",
       "      <td>100.000000</td>\n",
       "      <td>inf</td>\n",
       "      <td>1.000000</td>\n",
       "      <td>inf</td>\n",
       "    </tr>\n",
       "    <tr>\n",
       "      <th>143</th>\n",
       "      <td>I Malhotra</td>\n",
       "      <td>1</td>\n",
       "      <td>0</td>\n",
       "      <td>7</td>\n",
       "      <td>7</td>\n",
       "      <td>4</td>\n",
       "      <td>1</td>\n",
       "      <td>0</td>\n",
       "      <td>7.000000</td>\n",
       "      <td>175.000000</td>\n",
       "      <td>inf</td>\n",
       "      <td>1.750000</td>\n",
       "      <td>inf</td>\n",
       "    </tr>\n",
       "    <tr>\n",
       "      <th>156</th>\n",
       "      <td>J Yadav</td>\n",
       "      <td>2</td>\n",
       "      <td>0</td>\n",
       "      <td>8</td>\n",
       "      <td>5</td>\n",
       "      <td>12</td>\n",
       "      <td>0</td>\n",
       "      <td>0</td>\n",
       "      <td>4.000000</td>\n",
       "      <td>66.666667</td>\n",
       "      <td>inf</td>\n",
       "      <td>0.666667</td>\n",
       "      <td>inf</td>\n",
       "    </tr>\n",
       "    <tr>\n",
       "      <th>163</th>\n",
       "      <td>JE Taylor</td>\n",
       "      <td>2</td>\n",
       "      <td>0</td>\n",
       "      <td>4</td>\n",
       "      <td>3</td>\n",
       "      <td>4</td>\n",
       "      <td>0</td>\n",
       "      <td>0</td>\n",
       "      <td>2.000000</td>\n",
       "      <td>100.000000</td>\n",
       "      <td>inf</td>\n",
       "      <td>1.000000</td>\n",
       "      <td>inf</td>\n",
       "    </tr>\n",
       "    <tr>\n",
       "      <th>176</th>\n",
       "      <td>K Upadhyay</td>\n",
       "      <td>2</td>\n",
       "      <td>0</td>\n",
       "      <td>12</td>\n",
       "      <td>11</td>\n",
       "      <td>9</td>\n",
       "      <td>0</td>\n",
       "      <td>1</td>\n",
       "      <td>6.000000</td>\n",
       "      <td>133.333333</td>\n",
       "      <td>inf</td>\n",
       "      <td>1.333333</td>\n",
       "      <td>inf</td>\n",
       "    </tr>\n",
       "    <tr>\n",
       "      <th>189</th>\n",
       "      <td>KMDN Kulasekara</td>\n",
       "      <td>1</td>\n",
       "      <td>0</td>\n",
       "      <td>6</td>\n",
       "      <td>6</td>\n",
       "      <td>3</td>\n",
       "      <td>1</td>\n",
       "      <td>0</td>\n",
       "      <td>6.000000</td>\n",
       "      <td>200.000000</td>\n",
       "      <td>inf</td>\n",
       "      <td>2.000000</td>\n",
       "      <td>inf</td>\n",
       "    </tr>\n",
       "    <tr>\n",
       "      <th>249</th>\n",
       "      <td>Mashrafe Mortaza</td>\n",
       "      <td>1</td>\n",
       "      <td>0</td>\n",
       "      <td>2</td>\n",
       "      <td>2</td>\n",
       "      <td>2</td>\n",
       "      <td>0</td>\n",
       "      <td>0</td>\n",
       "      <td>2.000000</td>\n",
       "      <td>100.000000</td>\n",
       "      <td>inf</td>\n",
       "      <td>1.000000</td>\n",
       "      <td>inf</td>\n",
       "    </tr>\n",
       "    <tr>\n",
       "      <th>259</th>\n",
       "      <td>NJ Rimmington</td>\n",
       "      <td>1</td>\n",
       "      <td>0</td>\n",
       "      <td>1</td>\n",
       "      <td>1</td>\n",
       "      <td>1</td>\n",
       "      <td>0</td>\n",
       "      <td>0</td>\n",
       "      <td>1.000000</td>\n",
       "      <td>100.000000</td>\n",
       "      <td>inf</td>\n",
       "      <td>1.000000</td>\n",
       "      <td>inf</td>\n",
       "    </tr>\n",
       "    <tr>\n",
       "      <th>271</th>\n",
       "      <td>P Parameswaran</td>\n",
       "      <td>2</td>\n",
       "      <td>0</td>\n",
       "      <td>2</td>\n",
       "      <td>1</td>\n",
       "      <td>3</td>\n",
       "      <td>0</td>\n",
       "      <td>0</td>\n",
       "      <td>1.000000</td>\n",
       "      <td>66.666667</td>\n",
       "      <td>inf</td>\n",
       "      <td>0.666667</td>\n",
       "      <td>inf</td>\n",
       "    </tr>\n",
       "    <tr>\n",
       "      <th>272</th>\n",
       "      <td>P Sahu</td>\n",
       "      <td>2</td>\n",
       "      <td>0</td>\n",
       "      <td>19</td>\n",
       "      <td>18</td>\n",
       "      <td>13</td>\n",
       "      <td>1</td>\n",
       "      <td>1</td>\n",
       "      <td>9.500000</td>\n",
       "      <td>146.153846</td>\n",
       "      <td>inf</td>\n",
       "      <td>1.461538</td>\n",
       "      <td>inf</td>\n",
       "    </tr>\n",
       "    <tr>\n",
       "      <th>279</th>\n",
       "      <td>PM Sarvesh Kumar</td>\n",
       "      <td>1</td>\n",
       "      <td>0</td>\n",
       "      <td>1</td>\n",
       "      <td>1</td>\n",
       "      <td>2</td>\n",
       "      <td>0</td>\n",
       "      <td>0</td>\n",
       "      <td>1.000000</td>\n",
       "      <td>50.000000</td>\n",
       "      <td>inf</td>\n",
       "      <td>0.500000</td>\n",
       "      <td>inf</td>\n",
       "    </tr>\n",
       "    <tr>\n",
       "      <th>304</th>\n",
       "      <td>RG More</td>\n",
       "      <td>1</td>\n",
       "      <td>0</td>\n",
       "      <td>2</td>\n",
       "      <td>2</td>\n",
       "      <td>2</td>\n",
       "      <td>0</td>\n",
       "      <td>0</td>\n",
       "      <td>2.000000</td>\n",
       "      <td>100.000000</td>\n",
       "      <td>inf</td>\n",
       "      <td>1.000000</td>\n",
       "      <td>inf</td>\n",
       "    </tr>\n",
       "    <tr>\n",
       "      <th>319</th>\n",
       "      <td>RS Sodhi</td>\n",
       "      <td>1</td>\n",
       "      <td>0</td>\n",
       "      <td>4</td>\n",
       "      <td>4</td>\n",
       "      <td>2</td>\n",
       "      <td>1</td>\n",
       "      <td>0</td>\n",
       "      <td>4.000000</td>\n",
       "      <td>200.000000</td>\n",
       "      <td>inf</td>\n",
       "      <td>2.000000</td>\n",
       "      <td>inf</td>\n",
       "    </tr>\n",
       "    <tr>\n",
       "      <th>324</th>\n",
       "      <td>S Aravind</td>\n",
       "      <td>4</td>\n",
       "      <td>0</td>\n",
       "      <td>29</td>\n",
       "      <td>14</td>\n",
       "      <td>19</td>\n",
       "      <td>5</td>\n",
       "      <td>0</td>\n",
       "      <td>7.250000</td>\n",
       "      <td>152.631579</td>\n",
       "      <td>inf</td>\n",
       "      <td>1.526316</td>\n",
       "      <td>inf</td>\n",
       "    </tr>\n",
       "    <tr>\n",
       "      <th>329</th>\n",
       "      <td>S Kaul</td>\n",
       "      <td>2</td>\n",
       "      <td>0</td>\n",
       "      <td>9</td>\n",
       "      <td>7</td>\n",
       "      <td>11</td>\n",
       "      <td>0</td>\n",
       "      <td>0</td>\n",
       "      <td>4.500000</td>\n",
       "      <td>81.818182</td>\n",
       "      <td>inf</td>\n",
       "      <td>0.818182</td>\n",
       "      <td>inf</td>\n",
       "    </tr>\n",
       "    <tr>\n",
       "      <th>339</th>\n",
       "      <td>S Tyagi</td>\n",
       "      <td>1</td>\n",
       "      <td>0</td>\n",
       "      <td>3</td>\n",
       "      <td>3</td>\n",
       "      <td>4</td>\n",
       "      <td>0</td>\n",
       "      <td>0</td>\n",
       "      <td>3.000000</td>\n",
       "      <td>75.000000</td>\n",
       "      <td>inf</td>\n",
       "      <td>0.750000</td>\n",
       "      <td>inf</td>\n",
       "    </tr>\n",
       "    <tr>\n",
       "      <th>358</th>\n",
       "      <td>SM Harwood</td>\n",
       "      <td>2</td>\n",
       "      <td>0</td>\n",
       "      <td>13</td>\n",
       "      <td>8</td>\n",
       "      <td>14</td>\n",
       "      <td>0</td>\n",
       "      <td>0</td>\n",
       "      <td>6.500000</td>\n",
       "      <td>92.857143</td>\n",
       "      <td>inf</td>\n",
       "      <td>0.928571</td>\n",
       "      <td>inf</td>\n",
       "    </tr>\n",
       "    <tr>\n",
       "      <th>363</th>\n",
       "      <td>SN Thakur</td>\n",
       "      <td>1</td>\n",
       "      <td>0</td>\n",
       "      <td>7</td>\n",
       "      <td>7</td>\n",
       "      <td>6</td>\n",
       "      <td>1</td>\n",
       "      <td>0</td>\n",
       "      <td>7.000000</td>\n",
       "      <td>116.666667</td>\n",
       "      <td>inf</td>\n",
       "      <td>1.166667</td>\n",
       "      <td>inf</td>\n",
       "    </tr>\n",
       "    <tr>\n",
       "      <th>371</th>\n",
       "      <td>SS Shaikh</td>\n",
       "      <td>1</td>\n",
       "      <td>0</td>\n",
       "      <td>6</td>\n",
       "      <td>6</td>\n",
       "      <td>7</td>\n",
       "      <td>1</td>\n",
       "      <td>0</td>\n",
       "      <td>6.000000</td>\n",
       "      <td>85.714286</td>\n",
       "      <td>inf</td>\n",
       "      <td>0.857143</td>\n",
       "      <td>inf</td>\n",
       "    </tr>\n",
       "    <tr>\n",
       "      <th>427</th>\n",
       "      <td>YA Abdulla</td>\n",
       "      <td>1</td>\n",
       "      <td>0</td>\n",
       "      <td>1</td>\n",
       "      <td>1</td>\n",
       "      <td>1</td>\n",
       "      <td>0</td>\n",
       "      <td>0</td>\n",
       "      <td>1.000000</td>\n",
       "      <td>100.000000</td>\n",
       "      <td>inf</td>\n",
       "      <td>1.000000</td>\n",
       "      <td>inf</td>\n",
       "    </tr>\n",
       "    <tr>\n",
       "      <th>429</th>\n",
       "      <td>YS Chahal</td>\n",
       "      <td>2</td>\n",
       "      <td>0</td>\n",
       "      <td>3</td>\n",
       "      <td>2</td>\n",
       "      <td>3</td>\n",
       "      <td>0</td>\n",
       "      <td>0</td>\n",
       "      <td>1.500000</td>\n",
       "      <td>100.000000</td>\n",
       "      <td>inf</td>\n",
       "      <td>1.000000</td>\n",
       "      <td>inf</td>\n",
       "    </tr>\n",
       "  </tbody>\n",
       "</table>\n",
       "</div>"
      ],
      "text/plain": [
       "              batsman  batting_played  player_dismissed  total_runs  HS  \\\n",
       "42         AS Rajpoot               1                 0           2   2   \n",
       "58           BA Bhatt               2                 0           6   6   \n",
       "62            BB Sran               3                 0           5   2   \n",
       "81          CJ Jordan               1                 0           4   4   \n",
       "95      DAJ Bracewell               1                 0          12  12   \n",
       "111     DP Vijaykumar               1                 0           1   1   \n",
       "143        I Malhotra               1                 0           7   7   \n",
       "156           J Yadav               2                 0           8   5   \n",
       "163         JE Taylor               2                 0           4   3   \n",
       "176        K Upadhyay               2                 0          12  11   \n",
       "189   KMDN Kulasekara               1                 0           6   6   \n",
       "249  Mashrafe Mortaza               1                 0           2   2   \n",
       "259     NJ Rimmington               1                 0           1   1   \n",
       "271    P Parameswaran               2                 0           2   1   \n",
       "272            P Sahu               2                 0          19  18   \n",
       "279  PM Sarvesh Kumar               1                 0           1   1   \n",
       "304           RG More               1                 0           2   2   \n",
       "319          RS Sodhi               1                 0           4   4   \n",
       "324         S Aravind               4                 0          29  14   \n",
       "329            S Kaul               2                 0           9   7   \n",
       "339           S Tyagi               1                 0           3   3   \n",
       "358        SM Harwood               2                 0          13   8   \n",
       "363         SN Thakur               1                 0           7   7   \n",
       "371         SS Shaikh               1                 0           6   6   \n",
       "427        YA Abdulla               1                 0           1   1   \n",
       "429         YS Chahal               2                 0           3   2   \n",
       "\n",
       "     ballsfaced  4's  6's  Avg(TR/M)   SR(TR/BF)  battingAVG(tr/outs)  \\\n",
       "42            6    0    0   2.000000   33.333333                  inf   \n",
       "58            7    0    1   3.000000   85.714286                  inf   \n",
       "62            4    0    0   1.666667  125.000000                  inf   \n",
       "81            4    0    0   4.000000  100.000000                  inf   \n",
       "95            9    1    0  12.000000  133.333333                  inf   \n",
       "111           1    0    0   1.000000  100.000000                  inf   \n",
       "143           4    1    0   7.000000  175.000000                  inf   \n",
       "156          12    0    0   4.000000   66.666667                  inf   \n",
       "163           4    0    0   2.000000  100.000000                  inf   \n",
       "176           9    0    1   6.000000  133.333333                  inf   \n",
       "189           3    1    0   6.000000  200.000000                  inf   \n",
       "249           2    0    0   2.000000  100.000000                  inf   \n",
       "259           1    0    0   1.000000  100.000000                  inf   \n",
       "271           3    0    0   1.000000   66.666667                  inf   \n",
       "272          13    1    1   9.500000  146.153846                  inf   \n",
       "279           2    0    0   1.000000   50.000000                  inf   \n",
       "304           2    0    0   2.000000  100.000000                  inf   \n",
       "319           2    1    0   4.000000  200.000000                  inf   \n",
       "324          19    5    0   7.250000  152.631579                  inf   \n",
       "329          11    0    0   4.500000   81.818182                  inf   \n",
       "339           4    0    0   3.000000   75.000000                  inf   \n",
       "358          14    0    0   6.500000   92.857143                  inf   \n",
       "363           6    1    0   7.000000  116.666667                  inf   \n",
       "371           7    1    0   6.000000   85.714286                  inf   \n",
       "427           1    0    0   1.000000  100.000000                  inf   \n",
       "429           3    0    0   1.500000  100.000000                  inf   \n",
       "\n",
       "     runs_by_balls(R/B)  Calc  \n",
       "42             0.333333   inf  \n",
       "58             0.857143   inf  \n",
       "62             1.250000   inf  \n",
       "81             1.000000   inf  \n",
       "95             1.333333   inf  \n",
       "111            1.000000   inf  \n",
       "143            1.750000   inf  \n",
       "156            0.666667   inf  \n",
       "163            1.000000   inf  \n",
       "176            1.333333   inf  \n",
       "189            2.000000   inf  \n",
       "249            1.000000   inf  \n",
       "259            1.000000   inf  \n",
       "271            0.666667   inf  \n",
       "272            1.461538   inf  \n",
       "279            0.500000   inf  \n",
       "304            1.000000   inf  \n",
       "319            2.000000   inf  \n",
       "324            1.526316   inf  \n",
       "329            0.818182   inf  \n",
       "339            0.750000   inf  \n",
       "358            0.928571   inf  \n",
       "363            1.166667   inf  \n",
       "371            0.857143   inf  \n",
       "427            1.000000   inf  \n",
       "429            1.000000   inf  "
      ]
     },
     "execution_count": 101,
     "metadata": {},
     "output_type": "execute_result"
    }
   ],
   "source": [
    "batsman1[batsman1['Calc'].isin(['inf'])]"
   ]
  },
  {
   "cell_type": "code",
   "execution_count": null,
   "metadata": {},
   "outputs": [],
   "source": []
  }
 ],
 "metadata": {
  "kernelspec": {
   "display_name": "Python 3",
   "language": "python",
   "name": "python3"
  },
  "language_info": {
   "codemirror_mode": {
    "name": "ipython",
    "version": 3
   },
   "file_extension": ".py",
   "mimetype": "text/x-python",
   "name": "python",
   "nbconvert_exporter": "python",
   "pygments_lexer": "ipython3",
   "version": "3.7.4"
  }
 },
 "nbformat": 4,
 "nbformat_minor": 4
}
